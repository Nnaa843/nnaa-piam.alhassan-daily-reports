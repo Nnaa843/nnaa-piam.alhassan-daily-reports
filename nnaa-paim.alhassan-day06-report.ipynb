{
 "cells": [
  {
   "cell_type": "code",
   "execution_count": 24,
   "id": "59ef8c8f",
   "metadata": {},
   "outputs": [
    {
     "name": "stdout",
     "output_type": "stream",
     "text": [
      "Enter a natural number n: 5\n",
      "10\n",
      "105\n"
     ]
    }
   ],
   "source": [
    "#1\n",
    "soma=0\n",
    "prod=1\n",
    "n = int(input(\"Enter a natural number n: \"))\n",
    "for i in range(0, n):\n",
    "    if i % 2 != 0:\n",
    "        soma = soma + (i + 3)\n",
    "    elif (i % 2) == 0:\n",
    "        prod = prod*(i + 3)\n",
    "print(soma)\n",
    "print(prod)"
   ]
  },
  {
   "cell_type": "code",
   "execution_count": 3,
   "id": "ba00fd6d",
   "metadata": {},
   "outputs": [
    {
     "name": "stdin",
     "output_type": "stream",
     "text": [
      "Enter a number between 0 and 6:  7\n"
     ]
    },
    {
     "name": "stdout",
     "output_type": "stream",
     "text": [
      "Wrong Input\n"
     ]
    }
   ],
   "source": [
    "#2\n",
    "day = int(input(\"Enter a number between 0 and 6: \"))\n",
    "if day == 0:\n",
    "    print(\"Weekend\")\n",
    "elif day == 1:\n",
    "    print(\"Working day'(Monday)'\")\n",
    "elif day == 2:\n",
    "    print(\"Working day'(Tuesday)'\")\n",
    "elif day == 3:\n",
    "    print(\"Working day'(Wednesday)'\")\n",
    "elif day == 4:\n",
    "    print(\"Working day'(Thursday)'\")\n",
    "elif day == 5:\n",
    "    print(\"Working day'(Friday)'\")\n",
    "elif day == 6:\n",
    "    print(\"Weekend\")\n",
    "else:\n",
    "    print(\"Wrong Input\")"
   ]
  },
  {
   "cell_type": "code",
   "execution_count": 37,
   "id": "df19d8ab",
   "metadata": {},
   "outputs": [
    {
     "name": "stdin",
     "output_type": "stream",
     "text": [
      "Enter a number between 0 to 11:  5\n"
     ]
    },
    {
     "name": "stdout",
     "output_type": "stream",
     "text": [
      "30 days(Jun)\n"
     ]
    }
   ],
   "source": [
    "#3\n",
    "month = int(input(\"Enter a number between 0 to 11: \"))\n",
    "if month == 0:\n",
    "    print(\"31 days(Jan)\")\n",
    "elif month == 1:\n",
    "    print(\"28 days(Feb)\")\n",
    "elif month == 2:\n",
    "    print(\"31 days(Mar)\")\n",
    "elif month == 3:\n",
    "    print(\"30 days(Apr)\")\n",
    "elif month == 4:\n",
    "    print(\"31 days(May)\")\n",
    "elif month == 5:\n",
    "    print(\"30 days(Jun)\")\n",
    "elif month == 6:\n",
    "    print(\"31 days(Jul)\")\n",
    "elif month == 7:\n",
    "    print(\"31 days(Aug)\")\n",
    "elif month == 8:\n",
    "    print(\"30 days(Sep)\")\n",
    "elif month == 9:\n",
    "    print(\"31 days(Oct)\")\n",
    "elif month == 10:\n",
    "    print(\"30 days(Nov)\")\n",
    "elif month == 11:\n",
    "    print(\"31 days(Dec)\")\n",
    "else:\n",
    "    print(\"Wrong Input\")"
   ]
  },
  {
   "cell_type": "code",
   "execution_count": 26,
   "id": "02cfec83",
   "metadata": {},
   "outputs": [
    {
     "name": "stdout",
     "output_type": "stream",
     "text": [
      "Enter your name: Nnaa\n",
      "Nnaa\n",
      "Nnaa\n",
      "Nnaa\n"
     ]
    }
   ],
   "source": [
    "#4a\n",
    "name = input(\"Enter your name: \")\n",
    "for i in range(3):\n",
    "    print(name)"
   ]
  },
  {
   "cell_type": "code",
   "execution_count": 30,
   "id": "aae50d33",
   "metadata": {},
   "outputs": [
    {
     "name": "stdout",
     "output_type": "stream",
     "text": [
      "Enter your name: Nnaa\n",
      "Nnaa\n",
      "Nnaa\n",
      "Nnaa\n"
     ]
    }
   ],
   "source": [
    "#4b\n",
    "namey = input(\"Enter your name: \")\n",
    "i = 0\n",
    "while (i < 3):\n",
    "    i = i + 1\n",
    "    print(namey)"
   ]
  },
  {
   "cell_type": "code",
   "execution_count": 11,
   "id": "8232f318",
   "metadata": {},
   "outputs": [
    {
     "name": "stdin",
     "output_type": "stream",
     "text": [
      "Enter a number a0:  2\n",
      "Enetr a number a1:  5\n"
     ]
    },
    {
     "name": "stdout",
     "output_type": "stream",
     "text": [
      "2\n",
      "5\n",
      "7\n",
      "12\n",
      "19\n",
      "31\n",
      "50\n",
      "81\n",
      "131\n",
      "212\n",
      "343\n",
      "555\n",
      "898\n",
      "1453\n",
      "2351\n"
     ]
    }
   ],
   "source": [
    "#5\n",
    "a0 = int(input(\"Enter a number a0: \"))\n",
    "a1 = int(input(\"Enetr a number a1: \"))\n",
    "n = 15\n",
    "print(a0)\n",
    "print(a1)\n",
    "for i in range(2, n):\n",
    "    a2= a0 + a1\n",
    "    print(a2)\n",
    "    a0, a1 = a1, a2\n",
    "\n",
    "  "
   ]
  },
  {
   "cell_type": "code",
   "execution_count": 39,
   "id": "aa92dd31",
   "metadata": {},
   "outputs": [
    {
     "name": "stdin",
     "output_type": "stream",
     "text": [
      "Enter first value (x0):  5\n",
      "Enter second value (x1):  9\n"
     ]
    },
    {
     "name": "stdout",
     "output_type": "stream",
     "text": [
      "5\n",
      "9\n",
      "19\n",
      "36\n",
      "75\n",
      "145\n",
      "297\n",
      "583\n",
      "1182\n",
      "2340\n",
      "4716\n",
      "9378\n",
      "18837\n",
      "37552\n",
      "75287\n",
      "150299\n",
      "301010\n",
      "601402\n",
      "1203731\n",
      "2406071\n",
      "4814228\n",
      "9625327\n",
      "19255347\n",
      "38503654\n",
      "77017868\n",
      "154019896\n",
      "308063552\n",
      "616091464\n",
      "1232236388\n",
      "2464392586\n"
     ]
    }
   ],
   "source": [
    "#6\n",
    "x0 = int(input(\"Enter first value (x0): \"))\n",
    "x1 = int(input(\"Enter second value (x1): \"))\n",
    "n = 30\n",
    "\n",
    "print(x0)\n",
    "print(x1)\n",
    "\n",
    "for i in range(2, n):\n",
    "        x2 = (x1 + 6 * x0) // 2\n",
    "        print(x2)\n",
    "        x0, x1 = x1, x2"
   ]
  },
  {
   "cell_type": "code",
   "execution_count": 41,
   "id": "10271fa0-cfe9-4e6a-be9d-86cda2678dbc",
   "metadata": {},
   "outputs": [
    {
     "name": "stdin",
     "output_type": "stream",
     "text": [
      "Enter a year:  2000\n"
     ]
    },
    {
     "name": "stdout",
     "output_type": "stream",
     "text": [
      "2000 is a leap year.\n"
     ]
    }
   ],
   "source": [
    "#7\n",
    "year = int(input(\"Enter a year: \"))\n",
    "\n",
    "if (year % 4 == 0 and year % 100 != 0) or (year % 400 == 0):\n",
    "    print(f\"{year} is a leap year.\")\n",
    "else:\n",
    "    print(f\"{year} is not a leap year.\")\n"
   ]
  },
  {
   "cell_type": "code",
   "execution_count": 45,
   "id": "fba1a0b9-73ad-4cfb-8b3d-8d0881802ea6",
   "metadata": {},
   "outputs": [
    {
     "name": "stdin",
     "output_type": "stream",
     "text": [
      "Enter a year:  1981\n"
     ]
    },
    {
     "name": "stdout",
     "output_type": "stream",
     "text": [
      "1981 is not a leap year.\n"
     ]
    }
   ],
   "source": [
    "year = int(input(\"Enter a year: \"))\n",
    "\n",
    "print(f\"{year} is a leap year.\" if (year % 4 == 0 and year % 100 != 0) or (year % 400 == 0) else f\"{year} is not a leap year.\")\n"
   ]
  },
  {
   "cell_type": "code",
   "execution_count": 47,
   "id": "7a7ebcb8-40b9-4ac8-b0ac-fe40ea35cd10",
   "metadata": {},
   "outputs": [
    {
     "name": "stdin",
     "output_type": "stream",
     "text": [
      "Enter first n natural numbers:  10\n"
     ]
    },
    {
     "name": "stdout",
     "output_type": "stream",
     "text": [
      "Sum of square of first 10 natural numbers is 385\n"
     ]
    }
   ],
   "source": [
    "#8a\n",
    "total=0\n",
    "num = int(input(\"Enter first n natural numbers: \"))\n",
    "for i in range(1, num + 1):\n",
    "        total += i ** 2\n",
    "\n",
    "print(f\"Sum of square of first {num} natural numbers is {total}\")"
   ]
  },
  {
   "cell_type": "code",
   "execution_count": 49,
   "id": "497001b2-3a13-43ee-90e0-0050d6af0c42",
   "metadata": {},
   "outputs": [
    {
     "name": "stdin",
     "output_type": "stream",
     "text": [
      "Enter first n natural numbers:  5\n"
     ]
    },
    {
     "name": "stdout",
     "output_type": "stream",
     "text": [
      "Sum of square of first 5 natural numbers is 55\n"
     ]
    }
   ],
   "source": [
    "totals = 0\n",
    "nums = int(input(\"Enter first n natural numbers: \"))\n",
    "i = 1\n",
    "\n",
    "while i <= nums:\n",
    "    totals += i ** 2\n",
    "    i += 1\n",
    "\n",
    "print(f\"Sum of square of first {nums} natural numbers is {totals}\")"
   ]
  },
  {
   "cell_type": "code",
   "execution_count": 51,
   "id": "90576217-f919-4f04-9cb0-77354853b345",
   "metadata": {},
   "outputs": [
    {
     "name": "stdin",
     "output_type": "stream",
     "text": [
      "Enter a natural number:  5\n"
     ]
    },
    {
     "name": "stdout",
     "output_type": "stream",
     "text": [
      "Smallest natural number such that sum of squares is >= 5is 2\n"
     ]
    }
   ],
   "source": [
    "#8b\n",
    "totalsum=0\n",
    "M = int(input(\"Enter a natural number: \"))\n",
    "for n in range(1, M+1):\n",
    "    totalsum += n ** 2\n",
    "    if totalsum >= M:\n",
    "        print(f\"Smallest natural number such that sum of squares is >= {M} is {n}\")\n",
    "        break\n"
   ]
  },
  {
   "cell_type": "code",
   "execution_count": 53,
   "id": "43d352a6-c1eb-4eb5-baf5-63f95f1e3cc0",
   "metadata": {},
   "outputs": [
    {
     "name": "stdin",
     "output_type": "stream",
     "text": [
      "Enter a natural number:  11\n"
     ]
    },
    {
     "name": "stdout",
     "output_type": "stream",
     "text": [
      "Smallest natural number such that sum of squares is >= 11 is 3\n"
     ]
    }
   ],
   "source": [
    "M = int(input(\"Enter a natural number: \"))\n",
    "total = 0\n",
    "n = 1\n",
    "\n",
    "while total < M:\n",
    "    total += n ** 2\n",
    "    if total >= M:\n",
    "        print(f\"Smallest natural number such that sum of squares is >= {M} is {n}\")\n",
    "        break\n",
    "    n += 1"
   ]
  },
  {
   "cell_type": "code",
   "execution_count": null,
   "id": "0b7104d5",
   "metadata": {},
   "outputs": [],
   "source": []
  },
  {
   "cell_type": "code",
   "execution_count": 65,
   "id": "10495d5f-a59d-4b24-91c0-79fa8a114dc2",
   "metadata": {},
   "outputs": [
    {
     "name": "stdin",
     "output_type": "stream",
     "text": [
      "Enter a natural number:  30\n"
     ]
    },
    {
     "name": "stdout",
     "output_type": "stream",
     "text": [
      "Divisors of 30:\n",
      "1\n",
      "2\n",
      "3\n",
      "5\n",
      "6\n",
      "10\n",
      "15\n",
      "30\n"
     ]
    }
   ],
   "source": [
    "#9a\n",
    "p = int(input(\"Enter a natural number: \"))\n",
    "print(f\"Divisors of {p}:\")\n",
    "for i in range(1, p+1):\n",
    "    if p % i == 0:\n",
    "            print(i)"
   ]
  },
  {
   "cell_type": "code",
   "execution_count": 75,
   "id": "21e8e666-7972-4efc-8eda-c06eb4346ee0",
   "metadata": {},
   "outputs": [
    {
     "name": "stdin",
     "output_type": "stream",
     "text": [
      "Enter an integer:  36\n"
     ]
    },
    {
     "name": "stdout",
     "output_type": "stream",
     "text": [
      "Prime factors of 36:\n",
      "{2, 3}\n"
     ]
    }
   ],
   "source": [
    "\n",
    "integer = int(input(\"Enter an integer: \"))\n",
    "factors = set()\n",
    "divisor = 2\n",
    "\n",
    "print(f\"Prime factors of {integer}:\")\n",
    "while integer > 1:\n",
    "    while integer % divisor == 0:\n",
    "        factors.add(divisor)\n",
    "        integer //= divisor\n",
    "    divisor += 1\n",
    "\n",
    "print(f\"{{{', '.join(map(str, sorted(factors)))}}}\")"
   ]
  },
  {
   "cell_type": "code",
   "execution_count": 79,
   "id": "acadec70-4966-441d-9f30-58a0fc3fedd9",
   "metadata": {},
   "outputs": [
    {
     "name": "stdin",
     "output_type": "stream",
     "text": [
      "Enter an integer  between 0 - 9:  9\n",
      "Enter limit for multiplication table :  12\n"
     ]
    },
    {
     "name": "stdout",
     "output_type": "stream",
     "text": [
      "9 * 1 = 9\n",
      "9 * 2 = 18\n",
      "9 * 3 = 27\n",
      "9 * 4 = 36\n",
      "9 * 5 = 45\n",
      "9 * 6 = 54\n",
      "9 * 7 = 63\n",
      "9 * 8 = 72\n",
      "9 * 9 = 81\n",
      "9 * 10 = 90\n",
      "9 * 11 = 99\n",
      "9 * 12 = 108\n"
     ]
    }
   ],
   "source": [
    "#10\n",
    "n = int(input(\"Enter an integer  between 0 - 9: \"))\n",
    "N = int(input(\"Enter limit for multiplication table : \"))\n",
    "\n",
    "if 0 <= n <= 9:\n",
    "    for i in range(1, N+1):\n",
    "        print(f\"{n} * {i} = {n * i}\")\n",
    "else:\n",
    "    print(\"Wrong input\")"
   ]
  },
  {
   "cell_type": "code",
   "execution_count": 81,
   "id": "5812e470-9347-43b4-8a6e-62cc78a6b730",
   "metadata": {},
   "outputs": [
    {
     "name": "stdout",
     "output_type": "stream",
     "text": [
      "0\n",
      "3\n",
      "6\n",
      "7\n",
      "9\n",
      "11\n",
      "12\n",
      "14\n",
      "15\n",
      "18\n",
      "21\n",
      "22\n",
      "24\n",
      "27\n",
      "28\n",
      "30\n",
      "33\n",
      "35\n",
      "36\n",
      "39\n"
     ]
    }
   ],
   "source": [
    "#11\n",
    "for i in range(41):\n",
    "    if i % 3 == 0 or i % 7 == 0 or i % 11 == 0:\n",
    "        print(i)"
   ]
  },
  {
   "cell_type": "code",
   "execution_count": 85,
   "id": "7e02c46d-577a-47b4-aa1a-17484705ebdd",
   "metadata": {},
   "outputs": [
    {
     "name": "stdin",
     "output_type": "stream",
     "text": [
      "Enter a floating point number:  3.9\n"
     ]
    },
    {
     "name": "stdout",
     "output_type": "stream",
     "text": [
      "The floor of 3.9 is 3\n"
     ]
    }
   ],
   "source": [
    "#12\n",
    "import math\n",
    "\n",
    "x = float(input(\"Enter a floating point number: \"))\n",
    "print(f\"The floor of {x} is {math.floor(x)}\")"
   ]
  },
  {
   "cell_type": "code",
   "execution_count": 91,
   "id": "5729d2f0-0d87-4317-97bb-5aa529b85d4e",
   "metadata": {},
   "outputs": [
    {
     "name": "stdin",
     "output_type": "stream",
     "text": [
      "Enter the x-coordinate:  5\n",
      "Enter the y-coordinate:  -9\n"
     ]
    },
    {
     "name": "stdout",
     "output_type": "stream",
     "text": [
      "The point is in the 4th quadrant.\n"
     ]
    },
    {
     "name": "stdin",
     "output_type": "stream",
     "text": [
      "Do you want to quit? (yes/no):  no\n",
      "Enter the x-coordinate:  8\n",
      "Enter the y-coordinate:  0\n"
     ]
    },
    {
     "name": "stdout",
     "output_type": "stream",
     "text": [
      "The point lies on the x-axis.\n"
     ]
    },
    {
     "name": "stdin",
     "output_type": "stream",
     "text": [
      "Do you want to quit? (yes/no):  no\n",
      "Enter the x-coordinate:  0\n",
      "Enter the y-coordinate:  0\n"
     ]
    },
    {
     "name": "stdout",
     "output_type": "stream",
     "text": [
      "The point is at the origin.\n"
     ]
    },
    {
     "name": "stdin",
     "output_type": "stream",
     "text": [
      "Do you want to quit? (yes/no):  yes\n"
     ]
    }
   ],
   "source": [
    "while True:\n",
    "    a = float(input(\"Enter the x-coordinate: \"))\n",
    "    b = float(input(\"Enter the y-coordinate: \"))\n",
    "\n",
    "    if a == 0 and b == 0:\n",
    "        print(\"The point is at the origin.\")\n",
    "    elif a == 0:\n",
    "        print(\"The point lies on the y-axis.\")\n",
    "    elif b == 0:\n",
    "        print(\"The point lies on the x-axis.\")\n",
    "    elif a > 0 and b > 0:\n",
    "        print(\"The point is in the 1st quadrant.\")\n",
    "    elif a < 0 and b > 0:\n",
    "        print(\"The point is in the 2nd quadrant.\")\n",
    "    elif a < 0 and b < 0:\n",
    "        print(\"The point is in the 3rd quadrant.\")\n",
    "    elif a > 0 and b < 0:\n",
    "        print(\"The point is in the 4th quadrant.\")\n",
    "    \n",
    "    quit_choice = input(\"Do you want to quit? (yes/no): \").strip().lower()\n",
    "    if quit_choice == 'yes':\n",
    "        break"
   ]
  },
  {
   "cell_type": "code",
   "execution_count": 95,
   "id": "97db845c-7be0-44b4-94f1-f5f7e5a79580",
   "metadata": {},
   "outputs": [
    {
     "name": "stdin",
     "output_type": "stream",
     "text": [
      "Enter an integer between 0 and 9:  9\n",
      "Enter a maximum value between 0 and 255:  200\n"
     ]
    },
    {
     "name": "stdout",
     "output_type": "stream",
     "text": [
      "0\n",
      "9\n",
      "18\n",
      "27\n",
      "36\n",
      "45\n",
      "54\n",
      "63\n",
      "72\n",
      "81\n",
      "90\n",
      "99\n",
      "108\n",
      "117\n",
      "126\n",
      "135\n",
      "144\n",
      "153\n",
      "162\n",
      "171\n",
      "180\n",
      "189\n",
      "198\n"
     ]
    },
    {
     "name": "stdin",
     "output_type": "stream",
     "text": [
      "Do you want to continue? (yes/no):  yes\n",
      "Enter an integer between 0 and 9:  5\n",
      "Enter a maximum value between 0 and 255:  100\n"
     ]
    },
    {
     "name": "stdout",
     "output_type": "stream",
     "text": [
      "0\n",
      "5\n",
      "10\n",
      "15\n",
      "20\n",
      "25\n",
      "30\n",
      "35\n",
      "40\n",
      "45\n",
      "50\n",
      "55\n",
      "60\n",
      "65\n",
      "70\n",
      "75\n",
      "80\n",
      "85\n",
      "90\n",
      "95\n",
      "100\n"
     ]
    },
    {
     "name": "stdin",
     "output_type": "stream",
     "text": [
      "Do you want to continue? (yes/no):  yes\n",
      "Enter an integer between 0 and 9:  3\n",
      "Enter a maximum value between 0 and 255:  210\n"
     ]
    },
    {
     "name": "stdout",
     "output_type": "stream",
     "text": [
      "0\n",
      "3\n",
      "6\n",
      "9\n",
      "12\n",
      "15\n",
      "18\n",
      "21\n",
      "24\n",
      "27\n",
      "30\n",
      "33\n",
      "36\n",
      "39\n",
      "42\n",
      "45\n",
      "48\n",
      "51\n",
      "54\n",
      "57\n",
      "60\n",
      "63\n",
      "66\n",
      "69\n",
      "72\n",
      "75\n",
      "78\n",
      "81\n",
      "84\n",
      "87\n",
      "90\n",
      "93\n",
      "96\n",
      "99\n",
      "102\n",
      "105\n",
      "108\n",
      "111\n",
      "114\n",
      "117\n",
      "120\n",
      "123\n",
      "126\n",
      "129\n",
      "132\n",
      "135\n",
      "138\n",
      "141\n",
      "144\n",
      "147\n",
      "150\n",
      "153\n",
      "156\n",
      "159\n",
      "162\n",
      "165\n",
      "168\n",
      "171\n",
      "174\n",
      "177\n",
      "180\n",
      "183\n",
      "186\n",
      "189\n",
      "192\n",
      "195\n",
      "198\n",
      "201\n",
      "204\n",
      "207\n",
      "210\n"
     ]
    },
    {
     "name": "stdin",
     "output_type": "stream",
     "text": [
      "Do you want to continue? (yes/no):  no\n"
     ]
    }
   ],
   "source": [
    "keep_playing = True\n",
    "while keep_playing:\n",
    "    # Get an integer between 0 and 9 from the user\n",
    "    while True:\n",
    "        x = int(input(\"Enter an integer between 0 and 9: \"))\n",
    "        if 0 <= x <= 9:\n",
    "            break\n",
    "        print(\"Invalid input. Please enter a number between 0 and 9.\")\n",
    "    \n",
    "    # Get a maximum value between 0 and 255 from the user\n",
    "    while True:\n",
    "        max_val = int(input(\"Enter a maximum value between 0 and 255: \"))\n",
    "        if 0 <= max_val <= 255:\n",
    "            break\n",
    "        print(\"Invalid input. Please enter a number between 0 and 255.\")\n",
    "    \n",
    "    # Print multiples of x up to max_val\n",
    "    for i in range(max_val + 1):\n",
    "        if i % x == 0:\n",
    "            print(i)\n",
    "    \n",
    "    # Ask if the user wants to continue\n",
    "    cont = input(\"Do you want to continue? (yes/no): \").strip().lower()\n",
    "    if cont == \"yes\":\n",
    "        keep_playing = True\n",
    "    else:\n",
    "        print(\"Thanks for playing\")\n",
    "        keep_playing = False\n"
   ]
  }
 ],
 "metadata": {
  "kernelspec": {
   "display_name": "Python 3 (ipykernel)",
   "language": "python",
   "name": "python3"
  },
  "language_info": {
   "codemirror_mode": {
    "name": "ipython",
    "version": 3
   },
   "file_extension": ".py",
   "mimetype": "text/x-python",
   "name": "python",
   "nbconvert_exporter": "python",
   "pygments_lexer": "ipython3",
   "version": "3.12.4"
  }
 },
 "nbformat": 4,
 "nbformat_minor": 5
}
