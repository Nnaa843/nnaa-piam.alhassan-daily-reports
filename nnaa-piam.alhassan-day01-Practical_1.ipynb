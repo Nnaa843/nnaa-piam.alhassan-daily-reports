{
 "cells": [
  {
   "cell_type": "markdown",
   "id": "426486dd",
   "metadata": {},
   "source": [
    "# Practical_1: Variables and Assignments"
   ]
  },
  {
   "cell_type": "code",
   "execution_count": null,
   "id": "6c8bbc19-5af7-495e-8ff1-ca5bd3ce8f84",
   "metadata": {},
   "outputs": [],
   "source": [
    "----\n",
    "\n",
    "### Exercise 1:\n",
    "Declare a variable `x` and assign it the value `10`.\n",
    "\n",
    "```python\n",
    "# Exercise 1\n",
    "```\n",
    "x = 10\n",
    "---"
   ]
  },
  {
   "cell_type": "code",
   "execution_count": null,
   "id": "da220cf2-087e-41a2-88f7-5162535a4bba",
   "metadata": {},
   "outputs": [],
   "source": [
    "### Exercise 2:\n",
    "Assign the value `True` to a variable called `is_valid`.\n",
    "\n",
    "```python\n",
    "# Exercise 2\n",
    "```\n",
    "is_valid = True\n",
    "---"
   ]
  },
  {
   "cell_type": "code",
   "execution_count": null,
   "id": "5e89f7fa-77f9-4d1b-af8f-409424c8d508",
   "metadata": {},
   "outputs": [],
   "source": [
    "### Exercise 3:\n",
    "Create a string variable `name` with the value \"Python Programming\".\n",
    "\n",
    "```python\n",
    "# Exercise 3\n",
    "```\n",
    "name = \"Python Programming\"\n",
    "---"
   ]
  },
  {
   "cell_type": "code",
   "execution_count": null,
   "id": "107cf521-40d9-4cd8-a040-9aba301a40d9",
   "metadata": {},
   "outputs": [],
   "source": [
    "### Exercise 4:\n",
    "Assign the result of `5 + 3` to a variable `sum_result`.\n",
    "\n",
    "```python\n",
    "# Exercise 4\n",
    "```\n",
    "sum_result = 5+3\n",
    "---"
   ]
  },
  {
   "cell_type": "code",
   "execution_count": null,
   "id": "ea50652a-2726-4a08-a829-807001e39e5c",
   "metadata": {},
   "outputs": [],
   "source": [
    "### Exercise 5:\n",
    "Assign multiple variables in one line: `a = 5`, `b = 10`, `c = 15`.\n",
    "\n",
    "```python\n",
    "# Exercise 5\n",
    "```\n",
    "a, b, c = 5, 10, 15\n",
    "---"
   ]
  },
  {
   "cell_type": "code",
   "execution_count": null,
   "id": "0ce617d0-00a2-4908-bda9-131442bbdc42",
   "metadata": {},
   "outputs": [],
   "source": [
    "### Exercise 6:\n",
    "Assign the value of one variable `x` to another variable `y`.\n",
    "\n",
    "```python\n",
    "# Exercise 6\n",
    "```\n",
    "x = 5\n",
    "y = x\n",
    "---"
   ]
  },
  {
   "cell_type": "code",
   "execution_count": null,
   "id": "a5b323d9-399d-4590-90fa-5f1fe873d43f",
   "metadata": {},
   "outputs": [],
   "source": [
    "### Exercise 7:\n",
    "Assign a floating-point number `9.8` to a variable `gravity`.\n",
    "\n",
    "```python\n",
    "# Exercise 7\n",
    "```\n",
    "gravity = 9.8\n",
    "---"
   ]
  },
  {
   "cell_type": "code",
   "execution_count": null,
   "id": "c4129763-3143-45ca-9a86-0d01d4314914",
   "metadata": {},
   "outputs": [],
   "source": [
    "### Exercise 8:\n",
    "Create a variable `country` and assign it the string value of your favorite country.\n",
    "\n",
    "```python\n",
    "# Exercise 8\n",
    "```\n",
    "country = \"Sweden\"\n",
    "---"
   ]
  },
  {
   "cell_type": "code",
   "execution_count": null,
   "id": "c244acb3-fa4b-4f6b-8dc0-4dafb2451e04",
   "metadata": {},
   "outputs": [],
   "source": [
    "### Exercise 9:\n",
    "Change the value of variable `age` from `25` to `26` in two separate steps.\n",
    "\n",
    "```python\n",
    "# Exercise 9\n",
    "```\n",
    "age = 25\n",
    "age = 26\n",
    "---"
   ]
  },
  {
   "cell_type": "code",
   "execution_count": null,
   "id": "0129b3c7-fdbd-4ec3-9138-8784b4046094",
   "metadata": {},
   "outputs": [],
   "source": [
    "### Exercise 10:\n",
    "Use one variable to store the result of subtracting two numbers `20 - 7`.\n",
    "\n",
    "```python\n",
    "# Exercise 10\n",
    "```\n",
    "subtract = 20 - 7\n",
    "---"
   ]
  },
  {
   "cell_type": "code",
   "execution_count": null,
   "id": "ca441a19-7159-40c5-8c43-f1f8d919c98a",
   "metadata": {},
   "outputs": [],
   "source": [
    "### Exercise 11:\n",
    "Assign an integer value and a floating-point value to two different variables.\n",
    "\n",
    "```python\n",
    "# Exercise 11\n",
    "```\n",
    "book = 2\n",
    "distance = 6.9\n",
    "---"
   ]
  },
  {
   "cell_type": "code",
   "execution_count": null,
   "id": "d46ac6ab-0edb-4d33-959f-ff40e0015537",
   "metadata": {},
   "outputs": [],
   "source": [
    "### Exercise 12:\n",
    "Assign a boolean value `False` to a variable `is_completed`.\n",
    "\n",
    "```python\n",
    "# Exercise 12\n",
    "```\n",
    "is_completed = False\n",
    "---"
   ]
  },
  {
   "cell_type": "code",
   "execution_count": null,
   "id": "9d218ba7-7d13-4f0f-bcd0-8b94f948b8a9",
   "metadata": {},
   "outputs": [],
   "source": [
    "### Exercise 13:\n",
    "Swap the values of two variables `x` and `y`.\n",
    "\n",
    "```python\n",
    "# Exercise 13\n",
    "```\n",
    "x = \"your name\"\n",
    "y = \"my name\"\n",
    "tmp = x\n",
    "x = y\n",
    "y = tmp\n",
    "---"
   ]
  },
  {
   "cell_type": "code",
   "execution_count": null,
   "id": "721c8fe6-9338-428b-a0f0-6b8bb2834d77",
   "metadata": {},
   "outputs": [],
   "source": [
    "### Exercise 14:\n",
    "Assign a complex number `3 + 4j` to a variable `complex_num`.\n",
    "\n",
    "```python\n",
    "# Exercise 14\n",
    "```\n",
    "complex_num = 3 + 4j\n",
    "---"
   ]
  },
  {
   "cell_type": "code",
   "execution_count": null,
   "id": "01e84c6b-ed58-4f3f-997e-33f7d68aff41",
   "metadata": {},
   "outputs": [],
   "source": [
    "### Exercise 15:\n",
    "Reassign a variable from an integer to a string.\n",
    "\n",
    "```python\n",
    "# Exercise 15\n",
    "```\n",
    "Family = 6\n",
    "Family = \"Father, Mother, Children\"\n",
    "---"
   ]
  },
  {
   "cell_type": "code",
   "execution_count": null,
   "id": "16404cb7-8260-4b15-a4cc-0fc1f5d82e93",
   "metadata": {},
   "outputs": [],
   "source": [
    "### Exercise 16:\n",
    "Create two variables `first_name` and `last_name`, and assign them your first and last names.\n",
    "\n",
    "```python\n",
    "# Exercise 16\n",
    "```\n",
    "first_name = \"Nnaa-Piam Alhassan\"\n",
    "last_name = \"Alhassan\"\n",
    "---"
   ]
  },
  {
   "cell_type": "code",
   "execution_count": null,
   "id": "1de3fd5d-3a84-4f81-99f4-d612d5fea51c",
   "metadata": {},
   "outputs": [],
   "source": [
    "### Exercise 17:\n",
    "Create a variable `temperature` and assign it the value of `35.5`.\n",
    "\n",
    "```python\n",
    "# Exercise 17\n",
    "```\n",
    "temperature = 35.5\n",
    "---"
   ]
  },
  {
   "cell_type": "code",
   "execution_count": null,
   "id": "bdcbe530-7060-46c2-aa0b-1c5c4ba2eefa",
   "metadata": {},
   "outputs": [],
   "source": [
    "### Exercise 18:\n",
    "Assign the result of the multiplication of two numbers `8 * 6` to a variable `product`.\n",
    "\n",
    "```python\n",
    "# Exercise 18\n",
    "```\n",
    "product = 8 * 6\n",
    "---"
   ]
  },
  {
   "cell_type": "code",
   "execution_count": null,
   "id": "0c9494ca-5790-452b-bfa2-34b286e89396",
   "metadata": {},
   "outputs": [],
   "source": [
    "### Exercise 19:\n",
    "Assign a sentence of your choice to a variable `sentence`.\n",
    "\n",
    "```python\n",
    "# Exercise 19\n",
    "```\n",
    "sentence = \"The dog is running\"\n",
    "---"
   ]
  },
  {
   "cell_type": "code",
   "execution_count": null,
   "id": "afb7adfa-9824-4d40-a2ad-da49301c5097",
   "metadata": {},
   "outputs": [],
   "source": [
    "### Exercise 20:\n",
    "Use an assignment to convert a string `'50'` into an integer variable `int_value`.\n",
    "\n",
    "```python\n",
    "# Exercise 20\n",
    "```\n",
    "a = \"50\"\n",
    "int_value = int(a)\n",
    "---"
   ]
  },
  {
   "cell_type": "code",
   "execution_count": null,
   "id": "4c739525-7b02-4a68-81df-3456b50c138e",
   "metadata": {},
   "outputs": [],
   "source": [
    "### Exercise 21:\n",
    "Assign the result of dividing `144` by `12` to a variable `quotient`.\n",
    "\n",
    "```python\n",
    "# Exercise 21\n",
    "```\n",
    "quotient = 144 / 12\n",
    "---"
   ]
  },
  {
   "cell_type": "code",
   "execution_count": null,
   "id": "6ff67fb4-fd73-4690-bda3-bcc57d7dfefa",
   "metadata": {},
   "outputs": [],
   "source": [
    "### Exercise 22:\n",
    "Assign the remainder of `47 divided by 5` to a variable `remainder`.\n",
    "\n",
    "```python\n",
    "# Exercise 22\n",
    "```\n",
    "remainder = 47 % 5\n",
    "---"
   ]
  },
  {
   "cell_type": "code",
   "execution_count": null,
   "id": "46e90177-50e8-47ad-b05d-b13956939d7b",
   "metadata": {},
   "outputs": [],
   "source": [
    "### Exercise 23:\n",
    "Create a variable `is_student` and assign it the value `True`.\n",
    "\n",
    "```python\n",
    "# Exercise 23\n",
    "```\n",
    "is_student = True\n",
    "---"
   ]
  },
  {
   "cell_type": "code",
   "execution_count": null,
   "id": "43d3ccfc-56d5-4b6d-ba9a-f4e8fc164fa0",
   "metadata": {},
   "outputs": [],
   "source": [
    "### Exercise 24:\n",
    "Use a variable to store the result of a modulo operation: `45 % 4`.\n",
    "\n",
    "```python\n",
    "# Exercise 24\n",
    "```\n",
    "modulo = 45 % 4\n",
    "---"
   ]
  },
  {
   "cell_type": "code",
   "execution_count": null,
   "id": "d1100dc7-f11a-44a7-aac8-cdaa2c906ed4",
   "metadata": {},
   "outputs": [],
   "source": [
    "### Exercise 25:\n",
    "Create a variable `pi` and assign it the value `3.14159`.\n",
    "\n",
    "```python\n",
    "# Exercise 25\n",
    "```\n",
    "pi = 3.14159\n",
    "---"
   ]
  },
  {
   "cell_type": "code",
   "execution_count": null,
   "id": "55aab579-b4ad-43a2-bb15-2c6588ee92c6",
   "metadata": {},
   "outputs": [],
   "source": [
    "### Exercise 26:\n",
    "Create two variables `length` and `width`, assign them values, and calculate the area of a rectangle.\n",
    "\n",
    "```python\n",
    "# Exercise 26\n",
    "```\n",
    "length(cm) = 15 \n",
    "width(cm) = 12\n",
    "Area = length * width\n",
    "---"
   ]
  },
  {
   "cell_type": "code",
   "execution_count": null,
   "id": "87fe9819-5e80-48b2-8cb5-008caa726414",
   "metadata": {},
   "outputs": [],
   "source": [
    "### Exercise 27:\n",
    "Assign a negative number to a variable `negative_value`.\n",
    "\n",
    "```python\n",
    "# Exercise 27\n",
    "```\n",
    "negative_value = -39\n",
    "---"
   ]
  },
  {
   "cell_type": "code",
   "execution_count": null,
   "id": "ba4093d3-3006-407e-ad53-cf3108cef519",
   "metadata": {},
   "outputs": [],
   "source": [
    "### Exercise 28:\n",
    "Assign a string containing a special character (e.g., \"Hello, World!\") to a variable `greeting`.\n",
    "\n",
    "```python\n",
    "# Exercise 28\n",
    "```\n",
    "greeting = \"Good Day\"\n",
    "---"
   ]
  },
  {
   "cell_type": "code",
   "execution_count": null,
   "id": "99812719-f8ee-479c-a92f-2af5b2e13ce5",
   "metadata": {},
   "outputs": [],
   "source": [
    "### Exercise 29:\n",
    "Create a variable `population` and assign it a large integer value (in billions).\n",
    "\n",
    "```python\n",
    "# Exercise 29\n",
    "```\n",
    "population = 3500069452\n",
    "---"
   ]
  },
  {
   "cell_type": "code",
   "execution_count": 29,
   "id": "18242784-73d6-4531-b211-a474bd02ac27",
   "metadata": {},
   "outputs": [
    {
     "name": "stdout",
     "output_type": "stream",
     "text": [
      "256\n"
     ]
    }
   ],
   "source": [
    "### Exercise 30:\n",
    "#Use a variable to store the result of raising `2` to the power of `8`.\n",
    "\n",
    "#```python\n",
    "# Exercise 30\n",
    "#```\n",
    "power = 2 ** 8\n",
    "print(power)"
   ]
  },
  {
   "cell_type": "code",
   "execution_count": null,
   "id": "46a6ba0c-6f46-45c9-88e4-cf49f6d13967",
   "metadata": {},
   "outputs": [],
   "source": [
    "### Exercise 31:\n",
    "Assign a list of your favorite fruits to a variable `fruits`.\n",
    "\n",
    "```python\n",
    "# Exercise 31\n",
    "```\n",
    "fruits = ['apple', 'watermelon', 'banana', 'orange']\n",
    "---"
   ]
  },
  {
   "cell_type": "code",
   "execution_count": null,
   "id": "4779ad56-856b-4af8-97ac-4b311fce02e8",
   "metadata": {},
   "outputs": [],
   "source": [
    "### Exercise 32:\n",
    "Assign a tuple of three numbers to a variable `coordinates`.\n",
    "\n",
    "```python\n",
    "# Exercise 32\n",
    "```\n",
    "coordinates = (5, 10, 15)\n",
    "---"
   ]
  },
  {
   "cell_type": "code",
   "execution_count": null,
   "id": "aa21d590-c017-4d83-be02-f9a3fd65dfd1",
   "metadata": {},
   "outputs": [],
   "source": [
    "### Exercise 33:\n",
    "Assign a dictionary with keys `name` and `age` to a variable `person`.\n",
    "\n",
    "```python\n",
    "# Exercise 33\n",
    "```\n",
    "person {'name': 'Emerald', 'age': 25}\n",
    "---"
   ]
  },
  {
   "cell_type": "code",
   "execution_count": null,
   "id": "a496acb4-9cde-4dc6-8d83-70107099d85d",
   "metadata": {},
   "outputs": [],
   "source": [
    "### Exercise 34:\n",
    "Use variables to store the sum of two floating-point numbers.\n",
    "\n",
    "```python\n",
    "# Exercise 34\n",
    "```\n",
    "total = 1.7 + 2.59\n",
    "---"
   ]
  },
  {
   "cell_type": "code",
   "execution_count": 4,
   "id": "7136b4b5-2e33-4752-bc98-65b5ee5c0518",
   "metadata": {},
   "outputs": [
    {
     "name": "stdout",
     "output_type": "stream",
     "text": [
      "True\n"
     ]
    }
   ],
   "source": [
    "### Exercise 35:\n",
    "#Create a variable `is_sunny` and assign it the result of a comparison `10 > 5`.\n",
    "\n",
    "# Exercise 35\n",
    "\n",
    "result = 10 > 5\n",
    "is_sunny = result \n",
    "print(is_sunny)"
   ]
  },
  {
   "cell_type": "code",
   "execution_count": 7,
   "id": "b6307194-171f-4589-9800-289546e7dce8",
   "metadata": {},
   "outputs": [
    {
     "name": "stdout",
     "output_type": "stream",
     "text": [
      "variable 150\n"
     ]
    }
   ],
   "source": [
    "### Exercise 36:\n",
    "#Assign a string and an integer to two different variables, then print both on one line.\n",
    "\n",
    "#```python\n",
    "# Exercise 36\n",
    "#```\n",
    "var_one = \"variable\"\n",
    "var_two = 150\n",
    "print(var_one, var_two)\n",
    "#---"
   ]
  },
  {
   "cell_type": "code",
   "execution_count": null,
   "id": "ace66dc5-3107-4c7a-9924-8589c642283c",
   "metadata": {},
   "outputs": [],
   "source": [
    "### Exercise 37:\n",
    "Reassign a variable that originally held a number to a boolean value.\n",
    "\n",
    "```python\n",
    "# Exercise 37\n",
    "```\n",
    "t = 25\n",
    "t = True\n",
    "---"
   ]
  },
  {
   "cell_type": "code",
   "execution_count": null,
   "id": "873940c7-3143-492f-b010-0a62ad434f39",
   "metadata": {},
   "outputs": [],
   "source": [
    "### Exercise 38:\n",
    "Create a variable `is_weekend` and assign it the result of `False`.\n",
    "\n",
    "```python\n",
    "# Exercise 38\n",
    "```\n",
    "is_weekend = False\n",
    "---"
   ]
  },
  {
   "cell_type": "code",
   "execution_count": 10,
   "id": "2fc54c2a-5518-422b-9961-eca66844522b",
   "metadata": {},
   "outputs": [
    {
     "name": "stdout",
     "output_type": "stream",
     "text": [
      "how are you?\n",
      "Where do you live \n"
     ]
    }
   ],
   "source": [
    "### Exercise 39:\n",
    "#Assign a multi-line string to a variable `description`.\n",
    "\n",
    "#```python\n",
    "# Exercise 39\n",
    "#```\n",
    "description = '''how are you?\n",
    "Where do you live '''\n",
    "print(description)\n",
    "#---"
   ]
  },
  {
   "cell_type": "code",
   "execution_count": null,
   "id": "2a955756-c996-49b9-b080-b6c3e72513d8",
   "metadata": {},
   "outputs": [],
   "source": [
    "### Exercise 40:\n",
    "Use variables to store the result of the absolute value of `-25`.\n",
    "\n",
    "```python\n",
    "# Exercise 40\n",
    "```\n",
    "abs_result = abs(-25)\n",
    "---"
   ]
  },
  {
   "cell_type": "code",
   "execution_count": null,
   "id": "e51e2d62-c430-4ac3-b5e7-996d7474b46c",
   "metadata": {},
   "outputs": [],
   "source": [
    "### Exercise 41:\n",
    "Assign the result of a floor division `100 // 6` to a variable `floor_div_result`.\n",
    "\n",
    "```python\n",
    "# Exercise 41\n",
    "```\n",
    "floor_div_result = 100 // 6\n",
    "---"
   ]
  },
  {
   "cell_type": "code",
   "execution_count": null,
   "id": "ea087a1d-cc8a-4471-8be6-6edb316dfff6",
   "metadata": {},
   "outputs": [],
   "source": [
    "### Exercise 42:\n",
    "Assign the result of adding a floating-point number to an integer to a variable `mixed_sum`.\n",
    "\n",
    "```python\n",
    "# Exercise 42\n",
    "```\n",
    "mixed_sum = 24.9 + 10\n",
    "---"
   ]
  },
  {
   "cell_type": "code",
   "execution_count": 27,
   "id": "1c83da78-c986-4c97-bd3f-69ef40452a3b",
   "metadata": {},
   "outputs": [
    {
     "name": "stdout",
     "output_type": "stream",
     "text": [
      "Welcome to AIMS Rwanda!\n"
     ]
    }
   ],
   "source": [
    "### Exercise 43:\n",
    "#Use variables to store a combination of string concatenation.\n",
    "\n",
    "\n",
    "# Exercise 43\n",
    "\n",
    "name = \"AIMS\"\n",
    "country = \"Rwanda\"\n",
    "greeting = \"Welcome to\"\n",
    "welcome_page = greeting + \" \" + name + \" \" + country + \"!\"\n",
    "print(welcome_page)"
   ]
  },
  {
   "cell_type": "code",
   "execution_count": null,
   "id": "9af82d06-3273-4c0b-88ac-da47741843ac",
   "metadata": {},
   "outputs": [],
   "source": [
    "### Exercise 44:\n",
    "Assign an empty list to a variable `empty_list`.\n",
    "\n",
    "```python\n",
    "# Exercise 44\n",
    "```\n",
    "empty_list = []\n",
    "---"
   ]
  },
  {
   "cell_type": "code",
   "execution_count": 14,
   "id": "f86bad98-3e0f-45b7-9105-6764937dc8b3",
   "metadata": {},
   "outputs": [
    {
     "data": {
      "text/plain": [
       "True"
      ]
     },
     "execution_count": 14,
     "metadata": {},
     "output_type": "execute_result"
    }
   ],
   "source": [
    "### Exercise 45:\n",
    "#Assign a boolean value based on the comparison of two variables `a = 10` and `b = 15`.\n",
    "\n",
    "#```python\n",
    "# Exercise 45\n",
    "#```\n",
    "a = 10\n",
    "b = 15\n",
    "a < b\n",
    "\n",
    "#---"
   ]
  },
  {
   "cell_type": "code",
   "execution_count": 16,
   "id": "fe228ad6-cf8e-47a3-af3d-b0b2aeaf1069",
   "metadata": {},
   "outputs": [
    {
     "data": {
      "text/plain": [
       "135"
      ]
     },
     "execution_count": 16,
     "metadata": {},
     "output_type": "execute_result"
    }
   ],
   "source": [
    "### Exercise 46:\n",
    "#Assign a long sentence to a variable and count its characters using `len()`.\n",
    "\n",
    "#```python\n",
    "# Exercise 46\n",
    "#```\n",
    "var = \"African Institute for Mathematical Science (AIMS) is a pan-African institution that seeks to train top African Mathematical Scientists.\" \n",
    "len(var)\n"
   ]
  },
  {
   "cell_type": "code",
   "execution_count": null,
   "id": "e6b3394f-c966-432d-b7fc-33edaa5d240d",
   "metadata": {},
   "outputs": [],
   "source": [
    "### Exercise 47:\n",
    "Assign a fractional result `7 / 3` to a variable `division_result`.\n",
    "\n",
    "```python\n",
    "# Exercise 47\n",
    "```\n",
    "division_result = 7 / 3\n",
    "---"
   ]
  },
  {
   "cell_type": "code",
   "execution_count": 23,
   "id": "fb9a5c27-f551-421d-91d1-20e70058ba0e",
   "metadata": {},
   "outputs": [
    {
     "name": "stdout",
     "output_type": "stream",
     "text": [
      "100 kilometers per hour\n"
     ]
    }
   ],
   "source": [
    "### Exercise 48:\n",
    "#Create a variable `speed` and assign it the value of 100 kilometers per hour.\n",
    "\n",
    "#```python\n",
    "# Exercise 48\n",
    "#```\n",
    "speed = \"100 kilometers per hour\"\n",
    "print(speed)"
   ]
  },
  {
   "cell_type": "code",
   "execution_count": 22,
   "id": "0ed185c3-9516-4118-a297-3a5f40ec081b",
   "metadata": {},
   "outputs": [
    {
     "name": "stdout",
     "output_type": "stream",
     "text": [
      "17\n"
     ]
    }
   ],
   "source": [
    "### Exercise 49:\n",
    "#Assign a multi-variable equation like `y = 3x + 5` where `x = 4` to a variable `y`.\n",
    "\n",
    "#```python\n",
    "# Exercise 49\n",
    "x = 4\n",
    "y = 3 * x + 5\n",
    "print(y)"
   ]
  },
  {
   "cell_type": "code",
   "execution_count": 19,
   "id": "38771e01-e691-432d-acd4-92f65faab8dd",
   "metadata": {},
   "outputs": [],
   "source": [
    "### Exercise 50:\n",
    "#Use variables to calculate and store the average of three numbers.\n",
    "\n",
    "#```python\n",
    "# Exercise 50\n",
    "#```\n",
    "numbers = [5, 7, 9]\n",
    "avg_ = sum(numbers) / len(numbers)\n"
   ]
  }
 ],
 "metadata": {
  "kernelspec": {
   "display_name": "Python 3 (ipykernel)",
   "language": "python",
   "name": "python3"
  },
  "language_info": {
   "codemirror_mode": {
    "name": "ipython",
    "version": 3
   },
   "file_extension": ".py",
   "mimetype": "text/x-python",
   "name": "python",
   "nbconvert_exporter": "python",
   "pygments_lexer": "ipython3",
   "version": "3.12.4"
  }
 },
 "nbformat": 4,
 "nbformat_minor": 5
}
