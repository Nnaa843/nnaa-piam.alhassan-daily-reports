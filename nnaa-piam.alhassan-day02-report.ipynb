{
 "cells": [
  {
   "cell_type": "markdown",
   "metadata": {},
   "source": [
    "# Lecture 2: Strings & Files"
   ]
  },
  {
   "cell_type": "markdown",
   "metadata": {},
   "source": [
    "### <left> <b> <span style=\"color:brown;\"> Objective: </span> </b></left>\n",
    "\n",
    "This lecture aims to present `strings`, reviewing some of the most commonly encountered operations, particularly in text processing tasks. We will also examine the string class in greater detail, including how to use the `open()` function to open, read, and write to `files`.\n",
    "\n",
    "****"
   ]
  },
  {
   "cell_type": "markdown",
   "metadata": {},
   "source": [
    "## 0. Introduction\n",
    "\n",
    "\n",
    "\n",
    "Strings in Python are not merely standalone objects; rather, they are sequences of characters that represent text data. Similar to numerical data types, which consist of sequences of digits, strings consist of sequences of characters. These sequences are fundamental in Python programming, as they are often used to construct and manipulate more complex data structures like lists, tuples, and dictionaries.\n",
    "\n",
    "Python treats strings as immutable sequences, meaning that once a string is created, its contents cannot be changed. However, various operations can be performed on strings to generate new strings or extract specific information. These operations include concatenation, slicing, formatting, and various methods for searching and transforming the text. Understanding how to effectively manipulate strings is crucial, as strings are one of the most commonly used data types in Python, especially in tasks involving data processing, file handling, and user input.\n",
    "\n",
    "Moreover, strings serve as the foundation for more advanced objects and data structures. For instance, strings can be used to represent elements within lists or tuples, and they play a critical role in tasks ranging from basic text processing to complex data analysis. As we delve deeper into Python, we will explore the extensive functionality provided by string operations and how they integrate with other Python data types.\n",
    "\n",
    "In addition to handling strings, Python provides robust support for working with files, which is essential for tasks like reading input data, storing output, or simply managing data over the course of a program's execution. Python uses the `open()` function to handle files, allowing you to open, read, write, and close them efficiently. \n",
    "\n",
    "The `open()` function is versatile, enabling you to open a file in various modes, such as reading ('r'), writing ('w'), appending ('a'), or even reading and writing in binary mode ('rb', 'wb'). Once a file is opened, you can perform operations like reading the entire file content into a string, reading it line by line, or writing data back into the file. After completing these operations, it is important to close the file using the `close()` method to free up system resources and ensure data integrity.\n",
    "\n",
    "Understanding how to work with files in Python is critical, especially when dealing with real-world data that often needs to be read from or written to external files. This capability, combined with string manipulation techniques, forms the backbone of many Python programs, enabling efficient data processing, storage, and retrieval.\n"
   ]
  },
  {
   "cell_type": "markdown",
   "metadata": {},
   "source": [
    "## 1. Strings\n",
    "\n",
    "### 1.0. Definition of a string variable\n",
    "\n",
    "A string variable is defined in the traditional manner by direct assignment using the equality symbol (as discussed in the section on variable creation). The only distinction between string variables and numerical variables is that the values of string variables must be enclosed in quotation marks during assignment. The three examples below illustrate this."
   ]
  },
  {
   "cell_type": "code",
   "execution_count": 1,
   "metadata": {},
   "outputs": [
    {
     "name": "stdout",
     "output_type": "stream",
     "text": [
      "Will you be at the meeting tonight?\n",
      "================================================\n",
      "\t\n",
      "\"Yes,\" he replies.\n",
      "================================================\n",
      "\t\n",
      "Alright, I would appreciate it.\n",
      "================================================\n",
      "\t\n",
      "This sentence is a long string containing all types of quotes: \" ' « » as well as many special characters.\n"
     ]
    }
   ],
   "source": [
    "ch1 = 'Will you be at the meeting tonight?'\n",
    "ch2 = '\"Yes,\" he replies.'\n",
    "ch3 = \"Alright, I would appreciate it.\"\n",
    "ch4 = \"\"\"This sentence is a long string containing all types of quotes: \" ' « » as well as many special characters.\"\"\"\n",
    "\n",
    "print(ch1)\n",
    "print(\"================================================\")\n",
    "print('\\t')\n",
    "\n",
    "print(ch2)\n",
    "print(\"================================================\")\n",
    "print('\\t')\n",
    "\n",
    "print(ch3)\n",
    "print(\"================================================\")\n",
    "print('\\t')\n",
    "\n",
    "print(ch4)\n"
   ]
  },
  {
   "cell_type": "code",
   "execution_count": 9,
   "metadata": {},
   "outputs": [
    {
     "name": "stdout",
     "output_type": "stream",
     "text": [
      "When are you going back to the UK?\n",
      "\n",
      "\n",
      "\"This afternoon\", she replied.\n",
      "\t\n",
      " Do you have any plans on returning during the Christmas Holidays?\n",
      "\n",
      "\n",
      "\"Maybe\", she said.\n",
      "\t\n",
      " I wish you a safe trip! <<<>>> ??? /// @ @ @ Please keep in touch with us frequently.<<>>\n"
     ]
    }
   ],
   "source": [
    "ch5 = 'When are you going back to the UK?'\n",
    "ch6 = '\"This afternoon\", she replied.'\n",
    "ch7 = \" Do you have any plans on returning during the Christmas Holidays?\"\n",
    "ch8 = '\"Maybe\", she said.'\n",
    "ch9 = \"\"\" I wish you a safe trip! <<<>>> ??? /// @ @ @ Please keep in touch with us frequently.<<>>\"\"\"\n",
    "\n",
    "print(ch5)\n",
    "print('\\n')\n",
    "print(ch6)\n",
    "print('\\t')\n",
    "print(ch7)\n",
    "print('\\n')\n",
    "print(ch8)\n",
    "print('\\t')\n",
    "print(ch9)"
   ]
  },
  {
   "cell_type": "markdown",
   "metadata": {},
   "source": [
    "These four examples demonstrate different uses of quotation marks when defining a string variable.\n",
    "\n",
    "- In the first example (`ch1`), single quotes are used because there is no issue with the string specified. Double quotes could also be used.\n",
    "- In the second example (`ch2`), single quotes are used because the specified string already contains double quotes as values.\n",
    "- In the third example (`ch3`), double quotes are used because the text contains apostrophes, which are actually single quotes.\n",
    "- In the fourth example (`ch4`), triple quotes are used because the text contains not only single quotes, apostrophes, and double quotes but also spans multiple lines. In this case, triple quotes are necessary."
   ]
  },
  {
   "cell_type": "markdown",
   "metadata": {},
   "source": [
    "### 1.1. Indexing strings and slicing\n",
    "\n",
    "A string is a sequence of ordered and indexed values. This means you can access each element in the sequence by specifying its index, similar to lists. Portions of a string can also be extracted using slices, with the general notation `[start=0]:[stop=len][:step=1]`. Indexing in Python starts at 0: the 1st element of a list is at index 0, the 2nd is at index 1, and so on. Thus, the n elements of a list are indexed from *0* to *n-1*. The examples below illustrate this.\n",
    "\n",
    "\n",
    "**Indexing:**\n",
    "\n",
    "To access a specific character in a string, you use the index inside square brackets. For example:\n",
    "- `ch[0]` returns the first character of the string `ch`.\n",
    "- `ch[2]` returns the third character.\n",
    "- `ch[-1]` returns the last character of the string.\n",
    "\n",
    "**Slicing:**\n",
    "\n",
    "Slicing allows you to extract a portion of the string. The syntax for slicing is `[start:stop:step]`, where:\n",
    "- `start` is the index of the first character you want to include in the slice.\n",
    "- `stop` is the index of the character just after the last character you want to include.\n",
    "- `step` specifies the interval between characters in the slice (optional; default is 1).\n",
    "\n",
    "Examples of slicing:\n",
    "- `ch[:6]` returns a substring from the beginning of `ch` up to, but not including, index 6.\n",
    "- `ch[6:]` returns a substring from index 6 to the end of the string.\n",
    "- `ch[0:10:2]` returns every second character from index 0 to 10.\n",
    "\n",
    "**Examples:**\n",
    "\n",
    "```python\n",
    "ch = \"Christelle\"\n",
    "print(ch[0])    # Returns 'C'\n",
    "print(ch[2])    # Returns 'r'\n",
    "print(ch[-1])   # Returns 'e', the last character\n",
    "print(ch[:6])   # Returns 'Christ'\n",
    "print(ch[6:])   # Returns 'elle'\n",
    "print(ch[0:10:2]) # Returns 'Crsel'\n",
    "```\n",
    "\n",
    "These operations make it easy to manipulate and extract data from strings, which is crucial for text processing and data manipulation in Python.\n",
    "\n",
    "---"
   ]
  },
  {
   "cell_type": "code",
   "execution_count": 65,
   "metadata": {},
   "outputs": [
    {
     "name": "stdout",
     "output_type": "stream",
     "text": [
      "C\n",
      "r\n",
      "e\n",
      "Christ\n",
      "elle\n",
      "Crsel\n"
     ]
    }
   ],
   "source": [
    "ch=\"Christelle\"\n",
    "print(ch[0]) # returns 'C'\n",
    "print(ch[2]) # returns 'r'\n",
    "print(ch[-1]) # returns 'e', the last element of ch\n",
    "print(ch[:6]) # returns 'Christ'\n",
    "print(ch[6 :]) # returns 'elle'\n",
    "print(ch[0:10:2]) # returns 'Crsel'"
   ]
  },
  {
   "cell_type": "code",
   "execution_count": 11,
   "metadata": {},
   "outputs": [
    {
     "name": "stdout",
     "output_type": "stream",
     "text": [
      "M\n",
      "t\n",
      "e\n",
      "t\n",
      "Mathe\n",
      "matics\n",
      "matics\n",
      "Mathematic\n",
      "mi\n",
      "\n",
      "\n"
     ]
    }
   ],
   "source": [
    "vab=\"Mathematics\"\n",
    "print(vab[0])\n",
    "print(vab[2])\n",
    "print(vab[4])\n",
    "print(vab[-4])\n",
    "print(vab[:5])\n",
    "print(vab[5:])\n",
    "print(vab[5: ])\n",
    "print(vab[0:10])\n",
    "print(vab[5:10:3])\n",
    "print(vab[-4:-9])\n",
    "print(vab[-4:-9:4])"
   ]
  },
  {
   "cell_type": "markdown",
   "metadata": {},
   "source": [
    "The elements of a string are not defined by words separated by spaces but by the characters that make up the string. In fact, even if the string consists of a sentence with multiple words, indexing is done solely based on the individual characters that form the entire string."
   ]
  },
  {
   "cell_type": "markdown",
   "metadata": {},
   "source": [
    "<left> <b> <span style=\"color:brown;\">You can manipulate a string (and generally any sequence) using functions (procedural concept) or methods (object-oriented concept). We will discuss this further below.</span> </b></left>"
   ]
  },
  {
   "cell_type": "markdown",
   "metadata": {},
   "source": [
    "### 1.2.  Length of a string**\n",
    "\n",
    "To determine the length of a string, the `len()` function is used."
   ]
  },
  {
   "cell_type": "code",
   "execution_count": 66,
   "metadata": {},
   "outputs": [
    {
     "name": "stdout",
     "output_type": "stream",
     "text": [
      "37\n"
     ]
    }
   ],
   "source": [
    "ch = \"Ceci est une chaîne de plusieurs mots\"\n",
    "print(len(ch))  # returns 37; The string 'ch' consists of 37 characters, including spaces."
   ]
  },
  {
   "cell_type": "code",
   "execution_count": 12,
   "metadata": {},
   "outputs": [
    {
     "name": "stdout",
     "output_type": "stream",
     "text": [
      "44\n"
     ]
    }
   ],
   "source": [
    "vab = \"Training Top African Mathematical Scientists\"\n",
    "print(len(vab))"
   ]
  },
  {
   "cell_type": "markdown",
   "metadata": {},
   "source": [
    "### 1.3. Addition of strings (**Concatenation**)\n",
    "\n",
    "String addition refers to the process of placing strings together, one after the other, to form a single string. This operation is known as **concatenation**. To perform concatenation, the `+` symbol is used between the string variable names. The resulting string is then assigned to a new variable. Examples:\n",
    "\n",
    "```python\n",
    "str1 = \"Hello\"\n",
    "str2 = \"World\"\n",
    "result = str1 + \" \" + str2  # Concatenates 'Hello' and 'World' with a space in between\n",
    "print(result)  # Outputs: Hello World\n",
    "```"
   ]
  },
  {
   "cell_type": "code",
   "execution_count": 67,
   "metadata": {},
   "outputs": [
    {
     "name": "stdout",
     "output_type": "stream",
     "text": [
      "Un petit pas pour l'homme, un grand pas pour l'humanité\n"
     ]
    }
   ],
   "source": [
    "x = \"Un petit pas pour l'homme,\"\n",
    "y = \"un grand pas pour l'humanité\"\n",
    "z = x + \" \" + y  # Concatenates the two strings with a space in between\n",
    "print(z)  # Outputs: 'Un petit pas pour l'homme, un grand pas pour l'humanité'\n"
   ]
  },
  {
   "cell_type": "code",
   "execution_count": 13,
   "metadata": {},
   "outputs": [
    {
     "name": "stdout",
     "output_type": "stream",
     "text": [
      "String addition refers to the process of placing strings together, one after the other, to form a single string.\n"
     ]
    }
   ],
   "source": [
    "a = \"String addition refers to\"\n",
    "b = \"the process of placing strings together\"\n",
    "c = \", one after the other,\"\n",
    "d = \"to form a single string.\"\n",
    "e = a + \" \" + b + c + \" \" + d\n",
    "print(e)"
   ]
  },
  {
   "cell_type": "markdown",
   "metadata": {},
   "source": [
    "Be cautious when using the concatenation operator to combine a numeric value with a string to form a single string. For example:\n",
    "\n",
    "```python\n",
    "x = 'Le prix du stylo est'\n",
    "y = 5\n",
    "z = 'euros'\n",
    "```\n",
    "\n",
    "If you want to concatenate `x`, `y`, and `z` to obtain the sentence 'Le prix du stylo est 5 euros', you can't directly do `x + y + z` because `y` is a numeric type. You need to first convert `y` to a string using the `str()` function. Here's how it should be done:\n",
    "\n",
    "```python\n",
    "result = x + \" \" + str(y) + \" \" + z\n",
    "print(result)  # Outputs: 'Le prix du stylo est 5 euros'\n",
    "```"
   ]
  },
  {
   "cell_type": "code",
   "execution_count": 14,
   "metadata": {},
   "outputs": [
    {
     "name": "stdout",
     "output_type": "stream",
     "text": [
      "Le prix du stylo est  5 euros\n"
     ]
    }
   ],
   "source": [
    "x = 'Le prix du stylo est'\n",
    "y = 5\n",
    "z = 'euros'\n",
    "ch = x + \" \" + \" \" + str(y) + \" \" + z\n",
    "print(ch) # returns 'Le prix du stylo est5euros'"
   ]
  },
  {
   "cell_type": "code",
   "execution_count": 15,
   "metadata": {},
   "outputs": [
    {
     "name": "stdout",
     "output_type": "stream",
     "text": [
      "Le prix du stylo est 5 euros\n"
     ]
    }
   ],
   "source": [
    "x = 'Le prix du stylo est'\n",
    "y = 5\n",
    "z = 'euros'\n",
    "ch = x + \" \" + str(y) + \" \" + z\n",
    "print(ch)"
   ]
  },
  {
   "cell_type": "markdown",
   "metadata": {},
   "source": [
    "### 1.4.  Methods\n",
    "\n",
    "Strings come with [numerous features](https://docs.python.org/2/library/stdtypes.html#string-methods)—referred to as `methods` in Object-Oriented Programming (OOP)—that facilitate their manipulation. The `dir()` function lists all available methods for strings. Among these, the most commonly used are `upper()`, `lower()`, `capitalize()`, `find()`, `replace()`, `count()`, `startswith()`, `endswith()`, and the `in` keyword. \n",
    "\n",
    "These methods allow for operations such as converting text to different cases, searching for and replacing substrings, and checking string content for specific patterns. They are crucial for text processing and data manipulation tasks, enabling efficient handling and transformation of string data. Understanding and utilizing these methods effectively can greatly enhance the capability to work with and analyze text-based information in Python."
   ]
  },
  {
   "cell_type": "code",
   "execution_count": 69,
   "metadata": {},
   "outputs": [
    {
     "name": "stdout",
     "output_type": "stream",
     "text": [
      "Help on built-in function replace:\n",
      "\n",
      "replace(old, new, count=-1, /) method of builtins.str instance\n",
      "    Return a copy with all occurrences of substring old replaced by new.\n",
      "    \n",
      "      count\n",
      "        Maximum number of occurrences to replace.\n",
      "        -1 (the default value) means replace all occurrences.\n",
      "    \n",
      "    If the optional argument count is given, only the first count occurrences are\n",
      "    replaced.\n",
      "\n"
     ]
    }
   ],
   "source": [
    "title = \"Python course\"\n",
    "help(title.replace)"
   ]
  },
  {
   "cell_type": "code",
   "execution_count": 70,
   "metadata": {},
   "outputs": [
    {
     "name": "stdout",
     "output_type": "stream",
     "text": [
      "Calvin et Hobbes\n",
      "================================================\n",
      "\t\n",
      "Calvin & Hobbes\n",
      "================================================\n",
      "\t\n",
      "Calvin & Hobbes\n",
      "================================================\n",
      "\t\n",
      "True\n",
      "================================================\n",
      "\t\n",
      "10\n",
      "-------Calvin et Hobbes-------\n"
     ]
    },
    {
     "data": {
      "text/plain": [
       "['__add__',\n",
       " '__class__',\n",
       " '__contains__',\n",
       " '__delattr__',\n",
       " '__dir__',\n",
       " '__doc__',\n",
       " '__eq__',\n",
       " '__format__',\n",
       " '__ge__',\n",
       " '__getattribute__',\n",
       " '__getitem__',\n",
       " '__getnewargs__',\n",
       " '__getstate__',\n",
       " '__gt__',\n",
       " '__hash__',\n",
       " '__init__',\n",
       " '__init_subclass__',\n",
       " '__iter__',\n",
       " '__le__',\n",
       " '__len__',\n",
       " '__lt__',\n",
       " '__mod__',\n",
       " '__mul__',\n",
       " '__ne__',\n",
       " '__new__',\n",
       " '__reduce__',\n",
       " '__reduce_ex__',\n",
       " '__repr__',\n",
       " '__rmod__',\n",
       " '__rmul__',\n",
       " '__setattr__',\n",
       " '__sizeof__',\n",
       " '__str__',\n",
       " '__subclasshook__',\n",
       " 'capitalize',\n",
       " 'casefold',\n",
       " 'center',\n",
       " 'count',\n",
       " 'encode',\n",
       " 'endswith',\n",
       " 'expandtabs',\n",
       " 'find',\n",
       " 'format',\n",
       " 'format_map',\n",
       " 'index',\n",
       " 'isalnum',\n",
       " 'isalpha',\n",
       " 'isascii',\n",
       " 'isdecimal',\n",
       " 'isdigit',\n",
       " 'isidentifier',\n",
       " 'islower',\n",
       " 'isnumeric',\n",
       " 'isprintable',\n",
       " 'isspace',\n",
       " 'istitle',\n",
       " 'isupper',\n",
       " 'join',\n",
       " 'ljust',\n",
       " 'lower',\n",
       " 'lstrip',\n",
       " 'maketrans',\n",
       " 'partition',\n",
       " 'removeprefix',\n",
       " 'removesuffix',\n",
       " 'replace',\n",
       " 'rfind',\n",
       " 'rindex',\n",
       " 'rjust',\n",
       " 'rpartition',\n",
       " 'rsplit',\n",
       " 'rstrip',\n",
       " 'split',\n",
       " 'splitlines',\n",
       " 'startswith',\n",
       " 'strip',\n",
       " 'swapcase',\n",
       " 'title',\n",
       " 'translate',\n",
       " 'upper',\n",
       " 'zfill']"
      ]
     },
     "execution_count": 70,
     "metadata": {},
     "output_type": "execute_result"
    }
   ],
   "source": [
    "enfant, peluche = \"Calvin\", 'Hobbes'  # Multiple assignment\n",
    "\n",
    "titre = enfant + ' et ' + peluche  # +: String concatenation\n",
    "print(titre)\n",
    "print(\"================================================\")\n",
    "print('\\t')\n",
    "\n",
    "print(titre.replace('et', '&'))  # Substring replacement: 'Calvin & Hobbes'\n",
    "print(\"================================================\")\n",
    "print('\\t')\n",
    "\n",
    "print(' & '.join(titre.split(' et ')))  # Splitting and joining\n",
    "print(\"================================================\")\n",
    "print('\\t')\n",
    "\n",
    "print('Hobbes' in titre)  # in: Inclusion test\n",
    "print(\"================================================\")\n",
    "print('\\t')\n",
    "\n",
    "print(titre.find(\"Hobbes\"))  # str.find: Substring search\n",
    "\n",
    "print(titre.center(30, '-'))  # '-------Calvin et Hobbes-------'\n",
    "\n",
    "dir(str)  # Lists all string methods\n"
   ]
  },
  {
   "cell_type": "code",
   "execution_count": 16,
   "metadata": {},
   "outputs": [
    {
     "name": "stdout",
     "output_type": "stream",
     "text": [
      "Calvin et Hobbes\n",
      "================================================\n",
      "\t\n",
      "Calvin & Hobbes\n",
      "================================================\n",
      "\t\n"
     ]
    }
   ],
   "source": [
    "enfant, peluche = \"Calvin\", 'Hobbes'  # Multiple assignment\n",
    "\n",
    "titre = enfant + ' et ' + peluche  # +: String concatenation\n",
    "print(titre)\n",
    "print(\"================================================\")\n",
    "print('\\t')\n",
    "print(' & '.join(titre.split(' et ')))  # Splitting and joining\n",
    "print(\"================================================\")\n",
    "print('\\t')"
   ]
  },
  {
   "cell_type": "markdown",
   "metadata": {},
   "source": [
    "###  1.5. Formatting\n",
    "\n",
    "It is often necessary to retrieve the value of a variable and incorporate it into a string to form a new, usable string for other purposes. For instance, consider a variable `prix` defined as follows:\n",
    "\n",
    "```python\n",
    "prix = 2\n",
    "```\n",
    "\n",
    "We want to display a message like `\"The price of the pen is 2 euros\"`.\n",
    "\n",
    "The goal of formatting is to embed the value of a variable within a string. There are three primary methods to achieve this:\n",
    "\n",
    "- Using the concatenation operator `+`\n",
    "- Using the formatting operator `%`\n",
    "- Using the `str.format()` method\n",
    "\n",
    "We will illustrate just one example using the `str.format()` method. The formatting system allows for precise control over the conversion of variables into strings. It primarily relies on the `str.format()` method, which enables detailed specification of how variables should be inserted and formatted within a string. For more information, you can refer to the [formatting documentation](https://docs.python.org/2/library/string.html#formatstrings)."
   ]
  },
  {
   "cell_type": "code",
   "execution_count": 71,
   "metadata": {},
   "outputs": [
    {
     "name": "stdout",
     "output_type": "stream",
     "text": [
      "Calvin a 6 ans\n",
      "================================================\n",
      "\t\n",
      "Calvin a 6 ans\n",
      "================================================\n",
      "\t\n",
      "3.141593 3.14 3141592653.589793 3.14159e+09\n"
     ]
    }
   ],
   "source": [
    "print(\"{nom} a {age} ans\".format(nom='Calvin', age=6)) # 'Calvin a 6 ans'\n",
    "print(\"================================================\")\n",
    "print('\\t')\n",
    "\n",
    "print(\"{} a {} ans\".format('Calvin', 6)) # Shortcut 'Calvin a 6 ans'\n",
    "print(\"================================================\")\n",
    "print('\\t')\n",
    "\n",
    "pi = 3.1415926535897931\n",
    "print(\"{x:f} {x:.2f} {y:f} {y:g}\".format(x=pi, y=pi*1e9)) # '3.141593 3.14 3141592653.589793 3.14159e+09'\n"
   ]
  },
  {
   "cell_type": "markdown",
   "metadata": {},
   "source": [
    "\n",
    "\n",
    "**Explanation:**\n",
    "\n",
    "- **Named Fields**: In the first example, `\"{nom} a {age} ans\".format(nom='Calvin', age=6)` uses named fields in the format string. The placeholders `{nom}` and `{age}` are replaced by the values provided in the `format` method. \n",
    "\n",
    "- **Positional Fields**: The second example, `\"{} a {} ans\".format('Calvin', 6)`, uses positional placeholders `{}`. The values are inserted in the order they appear in the `format` method.\n",
    "\n",
    "- **Formatting Numbers**: The third example demonstrates formatting numerical values. `\"{x:f} {x:.2f} {y:f} {y:g}\".format(x=pi, y=pi*1e9)` formats the floating-point number `pi` in various ways: \n",
    "  - `{x:f}` displays `pi` with six decimal places.\n",
    "  - `{x:.2f}` formats `pi` to two decimal places.\n",
    "  - `{y:f}` shows `pi*1e9` with six decimal places.\n",
    "  - `{y:g}` formats `pi*1e9` in a more compact form using scientific notation."
   ]
  },
  {
   "cell_type": "code",
   "execution_count": 72,
   "metadata": {},
   "outputs": [
    {
     "name": "stdout",
     "output_type": "stream",
     "text": [
      "Calvin and Hobbes\n",
      "Scientific progress goes 'boink'\n"
     ]
    }
   ],
   "source": [
    "print(\"Calvin and Hobbes\\nScientific progress goes 'boink'\") # Calvin and Hobbes Scientific progress goes 'boink'"
   ]
  },
  {
   "cell_type": "code",
   "execution_count": 73,
   "metadata": {},
   "outputs": [
    {
     "name": "stdout",
     "output_type": "stream",
     "text": [
      "3 fois 4 font 12\n"
     ]
    }
   ],
   "source": [
    "print(\"{0} fois {1} font {2}\".format(3, 4, 3*4)) # Formatting and display\n",
    "# Output: 3 fois 4 font 12\n",
    "# A small exercise in this section is to display a multiplication table."
   ]
  },
  {
   "cell_type": "code",
   "execution_count": 25,
   "metadata": {},
   "outputs": [
    {
     "name": "stdout",
     "output_type": "stream",
     "text": [
      "Multiplication Table\n",
      "1 x 2 = 2\n",
      "\t\n",
      "2 x 2 = 4\n",
      "\t\n",
      "3 x 2 = 6\n",
      "\t\n",
      "4 x 2 = 8\n",
      "\t\n",
      "5 x 2 = 10\n",
      "\t\n",
      "6 x 2 = 12\n",
      "\t\n",
      "7 x 2 = 14\n",
      "\t\n",
      "8 x 2 = 16\n",
      "\t\n",
      "9 x 2 = 18\n",
      "\t\n",
      "10 x 2 = 20\n",
      "\t\n",
      "11 x 2 = 22\n",
      "\t\n",
      "12 x 2 = 24\n",
      "\t\n"
     ]
    }
   ],
   "source": [
    "print(\"Multiplication Table\")\n",
    "print(\"{} x {} = {}\".format(1, 2, 1*2))\n",
    "print('\\t')\n",
    "print(\"{} x {} = {}\".format(2, 2, 2*2))\n",
    "print('\\t')\n",
    "print(\"{} x {} = {}\".format(3, 2, 3*2))\n",
    "print('\\t')\n",
    "print(\"{} x {} = {}\".format(4, 2, 4*2))\n",
    "print('\\t')\n",
    "print(\"{} x {} = {}\".format(5, 2, 5*2))\n",
    "print('\\t')\n",
    "print(\"{} x {} = {}\".format(6, 2, 6*2))\n",
    "print('\\t')\n",
    "print(\"{} x {} = {}\".format(7, 2, 7*2))\n",
    "print('\\t')\n",
    "print(\"{} x {} = {}\".format(8, 2, 8*2))\n",
    "print('\\t')\n",
    "print(\"{} x {} = {}\".format(9, 2, 9*2))\n",
    "print('\\t')\n",
    "print(\"{} x {} = {}\".format(10, 2, 10*2))\n",
    "print('\\t')\n",
    "print(\"{} x {} = {}\".format(11, 2, 11*2))\n",
    "print('\\t')\n",
    "print(\"{} x {} = {}\".format(12, 2, 12*2))\n",
    "print('\\t')"
   ]
  },
  {
   "cell_type": "markdown",
   "metadata": {},
   "source": [
    "**Explanation:**\n",
    "\n",
    "- **Indexed Fields**: In the example `\"{0} fois {1} font {2}\".format(3, 4, 3*4)`, the `{0}`, `{1}`, and `{2}` are positional placeholders. They are replaced by the values `3`, `4`, and `3*4` (which evaluates to `12`) respectively. This results in the output: `3 fois 4 font 12`.\n",
    "\n",
    "- **Multiplication Table Exercise**: The comment suggests a small exercise where one can display a multiplication table, which would involve iterating through numbers and formatting them into a table structure using similar formatting techniques."
   ]
  },
  {
   "cell_type": "markdown",
   "metadata": {},
   "source": [
    "In concluding this section, we mention the study of regular expressions (regex or `re`), which will not be discussed in this course. As a guide, we can say that regular expressions are extensions of the `str()` function that allow for more complex pattern-matching operations than what the `str()` functions alone can achieve."
   ]
  },
  {
   "cell_type": "markdown",
   "metadata": {},
   "source": [
    "**Practical**\n",
    "\n",
    "Explore the functions:\n",
    "\n",
    " 1. [`upper()`, `lower()`, and `capitalize()`](https://docs.python.org/3/library/stdtypes.html#str.upper)\n",
    " 2. [`find()`](https://docs.python.org/3/library/stdtypes.html#str.find)\n",
    " 3. [`replace()`](https://docs.python.org/3/library/stdtypes.html#str.replace)\n",
    " 4. [`count()`](https://docs.python.org/3/library/stdtypes.html#str.count)\n",
    " 5. [`split()`](https://docs.python.org/3/library/stdtypes.html#str.split)\n",
    " 6. [`startswith()` and `endswith()`](https://docs.python.org/3/library/stdtypes.html#str.startswith)\n",
    " 7. [`islower()` and `isupper()`](https://docs.python.org/3/library/stdtypes.html#str.islower)\n",
    " 8. [`istitle()`](https://docs.python.org/3/library/stdtypes.html#str.istitle)\n",
    " 9. [`isalpha()` and `isalnum()`](https://docs.python.org/3/library/stdtypes.html#str.isalpha)\n",
    "10.[`isdigit()`](https://docs.python.org/3/library/stdtypes.html#str.isdigit)"
   ]
  },
  {
   "cell_type": "code",
   "execution_count": 82,
   "metadata": {},
   "outputs": [
    {
     "name": "stdout",
     "output_type": "stream",
     "text": [
      "HELLO WORLD\n"
     ]
    }
   ],
   "source": [
    "wh = \"hello world\"\n",
    "upper_text = wh.upper()\n",
    "print(upper_text)  "
   ]
  },
  {
   "cell_type": "code",
   "execution_count": 83,
   "metadata": {},
   "outputs": [
    {
     "name": "stdout",
     "output_type": "stream",
     "text": [
      "tables and chairs\n"
     ]
    }
   ],
   "source": [
    "tc = \"TABLES AND CHAIRS\"\n",
    "lower_text = tc.lower()\n",
    "print(lower_text)"
   ]
  },
  {
   "cell_type": "code",
   "execution_count": 86,
   "metadata": {},
   "outputs": [
    {
     "name": "stdout",
     "output_type": "stream",
     "text": [
      "My house.\n"
     ]
    }
   ],
   "source": [
    "mh = \"my house.\"\n",
    "Mh = mh.capitalize()\n",
    "print(Mh) "
   ]
  },
  {
   "cell_type": "code",
   "execution_count": 87,
   "metadata": {},
   "outputs": [
    {
     "name": "stdout",
     "output_type": "stream",
     "text": [
      "0\n"
     ]
    }
   ],
   "source": [
    "Mount = \"Mountain Kilimajaro\"\n",
    "Mt = Mount.find(\"Mountain\")\n",
    "print(Mt)"
   ]
  },
  {
   "cell_type": "code",
   "execution_count": 88,
   "metadata": {},
   "outputs": [
    {
     "name": "stdout",
     "output_type": "stream",
     "text": [
      "-1\n"
     ]
    }
   ],
   "source": [
    "Mount = \"Mountain Kilimajaro\"\n",
    "Mt = Mount.find(\"Kilimanjaro\")\n",
    "print(Mt)"
   ]
  },
  {
   "cell_type": "code",
   "execution_count": 90,
   "metadata": {},
   "outputs": [
    {
     "name": "stdout",
     "output_type": "stream",
     "text": [
      "World Health Day\n"
     ]
    }
   ],
   "source": [
    "Day = \"World Programming Day\"\n",
    "WHO = Day.replace(\"Programming\", \"Health\")\n",
    "print(WHO)  "
   ]
  },
  {
   "cell_type": "code",
   "execution_count": 91,
   "metadata": {},
   "outputs": [
    {
     "name": "stdout",
     "output_type": "stream",
     "text": [
      "10\n"
     ]
    }
   ],
   "source": [
    "Dolph = \"Dolphins are regarded as the friendliest creatures in the sea and stories of them helping drowning sailors have been common since Roman times. The more we learn about dolphins, the more we realize that their society is more complex than people previously imagined. They look after other dolphins when they are ill, care for pregnant mothers and protect the weakest in the community, as we do. \"\n",
    "count = Dolph.count(\"the\")\n",
    "print(count)"
   ]
  },
  {
   "cell_type": "code",
   "execution_count": null,
   "metadata": {},
   "outputs": [],
   "source": [
    "fruits = \"apple,banana,orange\"\n",
    "fruits_list = fruits.split(\",\")\n",
    "print(fruits_list) "
   ]
  },
  {
   "cell_type": "code",
   "execution_count": null,
   "metadata": {},
   "outputs": [],
   "source": [
    "kl = \"how are you?\"\n",
    "starts_how = kl.startswith(\"how\")\n",
    "print(starts_how) \n"
   ]
  },
  {
   "cell_type": "code",
   "execution_count": 81,
   "metadata": {},
   "outputs": [
    {
     "name": "stdout",
     "output_type": "stream",
     "text": [
      "False\n"
     ]
    }
   ],
   "source": [
    "AIMS = \"African Institute of Mathematical Sciences\"\n",
    "ends_day = AIMS.endswith(\"day\")\n",
    "print(ends_day) "
   ]
  },
  {
   "cell_type": "code",
   "execution_count": null,
   "metadata": {},
   "outputs": [],
   "source": [
    "b = \"all the best\"\n",
    "is_lower = b.islower()\n",
    "print(is_lower)  \n"
   ]
  },
  {
   "cell_type": "code",
   "execution_count": null,
   "metadata": {},
   "outputs": [],
   "source": [
    "text = \"HAPPY Man\"\n",
    "is_upper = text.isupper()\n",
    "print(is_upper)\n"
   ]
  },
  {
   "cell_type": "code",
   "execution_count": null,
   "metadata": {},
   "outputs": [],
   "source": [
    "Tle = \"Good Day\"\n",
    "is_title = Tle.istitle()\n",
    "print(is_title)"
   ]
  },
  {
   "cell_type": "code",
   "execution_count": 80,
   "metadata": {},
   "outputs": [
    {
     "name": "stdout",
     "output_type": "stream",
     "text": [
      "True\n"
     ]
    }
   ],
   "source": [
    "g = \"SubmarinE\"\n",
    "is_alpha = g.isalpha()\n",
    "print(is_alpha)"
   ]
  },
  {
   "cell_type": "code",
   "execution_count": null,
   "metadata": {},
   "outputs": [],
   "source": [
    "variable = \"hello123\"\n",
    "is_alnum = variable.isalnum()\n",
    "print(is_alnum)\n"
   ]
  },
  {
   "cell_type": "code",
   "execution_count": null,
   "metadata": {},
   "outputs": [],
   "source": [
    "num = \"123456789\"\n",
    "is_digit = num.isdigit()\n",
    "print(is_digit)\n"
   ]
  },
  {
   "cell_type": "markdown",
   "metadata": {},
   "source": [
    "**Note:** It is important to distinguish between a character value and an alphabetical value. An alphabetical value is always a string, whereas a string is not necessarily an alphabetical value. In Python, a character value is always enclosed in quotes (single, double, or triple), while a numeric value is expressed without quotes. There are two main types of data: numeric data and character data. It is worth noting that a numeric value enclosed in quotes is automatically treated as a character value, even if it is not alphabetical. Keeping these details in mind is crucial when handling sequences of values in Python (see the example below):\n",
    "\n",
    "```python\n",
    "x = 12 # x is a numeric variable\n",
    "y = \"12\" # y is a string formed by digits\n",
    "z = \"mon texte\" # z is a string formed by alphabetical values\n",
    "k = \"Ce stylo coûte 5 euros\" # k is a string formed by alphanumeric values\n",
    "```"
   ]
  },
  {
   "cell_type": "markdown",
   "metadata": {},
   "source": [
    "For more details on string processing, refer to [this page](http://www.tutorialspoint.com/python/python_strings.htm)."
   ]
  },
  {
   "cell_type": "markdown",
   "metadata": {},
   "source": [
    "## 2. File I/O\n",
    "\n",
    "File I/O (Input/Output) in Python involves reading from and writing to files. Python provides several built-in functions and methods to handle files. The primary function for file manipulation is `open()`, which allows you to open a file and returns a file object. This file object provides methods for reading and writing data. Here's a detailed overview with various examples:\n",
    "\n",
    "### Basic File Operations\n",
    "\n",
    "1. **Opening and Closing a File**\n",
    "   - To open a file, use the `open()` function. The basic syntax is `open(filename, mode)`, where `filename` is the name of the file and `mode` is the mode of operation (`'r'` for read, `'w'` for write, `'a'` for append, etc.).\n",
    "   - To close a file, use the `close()` method of the file object.\n",
    "\n",
    "   ```python\n",
    "   # Opening a file in read mode\n",
    "   file = open('example.txt', 'r')\n",
    "   # Perform operations on the file\n",
    "   file.close()\n",
    "   ```\n",
    "\n",
    "2. **Reading from a File**\n",
    "   - **Read the entire file**: `read()` method reads the entire content of the file.\n",
    "   - **Read line by line**: `readline()` method reads a single line from the file, and `readlines()` method reads all lines into a list.\n",
    "\n",
    "   ```python\n",
    "   # Read entire file\n",
    "   file = open('example.txt', 'r')\n",
    "   content = file.read()\n",
    "   print(content)\n",
    "   file.close()\n",
    "\n",
    "   # Read line by line\n",
    "   file = open('example.txt', 'r')\n",
    "   line = file.readline()\n",
    "   while line:\n",
    "       print(line, end='')\n",
    "       line = file.readline()\n",
    "   file.close()\n",
    "\n",
    "   # Read all lines into a list\n",
    "   file = open('example.txt', 'r')\n",
    "   lines = file.readlines()\n",
    "   print(lines)\n",
    "   file.close()\n",
    "   ```\n",
    "\n",
    "3. **Writing to a File**\n",
    "   - **Write a string**: `write()` method writes a string to the file.\n",
    "   - **Write multiple lines**: `writelines()` method writes a list of strings to the file.\n",
    "\n",
    "   ```python\n",
    "   # Write a string to a file\n",
    "   file = open('example.txt', 'w')\n",
    "   file.write('Hello, World!')\n",
    "   file.close()\n",
    "\n",
    "   # Write multiple lines to a file\n",
    "   lines = ['First line\\n', 'Second line\\n', 'Third line\\n']\n",
    "   file = open('example.txt', 'w')\n",
    "   file.writelines(lines)\n",
    "   file.close()\n",
    "   ```\n",
    "\n",
    "4. **Appending to a File**\n",
    "   - To append data to an existing file, open the file in append mode (`'a'`).\n",
    "\n",
    "   ```python\n",
    "   file = open('example.txt', 'a')\n",
    "   file.write('This is an appended line.\\n')\n",
    "   file.close()\n",
    "   ```\n",
    "\n",
    "5. **Using `with` Statement**\n",
    "   - The `with` statement is used for resource management. It ensures that the file is properly closed after its suite finishes, even if an exception is raised.\n",
    "\n",
    "   ```python\n",
    "   # Reading a file using with statement\n",
    "   with open('example.txt', 'r') as file:\n",
    "       content = file.read()\n",
    "       print(content)\n",
    "\n",
    "   # Writing to a file using with statement\n",
    "   with open('example.txt', 'w') as file:\n",
    "       file.write('This is a new content.')\n",
    "   ```\n",
    "\n",
    "6. **File Modes**\n",
    "   - `'r'`: Read (default mode, opens the file for reading)\n",
    "   - `'w'`: Write (creates a new file or truncates an existing file)\n",
    "   - `'a'`: Append (opens the file for appending)\n",
    "   - `'b'`: Binary (reads or writes in binary mode, e.g., `'rb'` or `'wb'`)\n",
    "   - `'t'`: Text (default mode, opens the file in text mode, e.g., `'rt'` or `'wt'`)\n",
    "\n",
    "   ```python\n",
    "   # Binary mode example\n",
    "   with open('example.jpg', 'rb') as file:\n",
    "       content = file.read()\n",
    "       # Process binary data\n",
    "   ```\n",
    "\n",
    "7. **File Positioning**\n",
    "   - `seek(offset, whence)`: Moves the file pointer to a specific position.\n",
    "   - `tell()`: Returns the current file pointer position.\n",
    "\n",
    "   ```python\n",
    "   with open('example.txt', 'r') as file:\n",
    "       file.seek(10)  # Move to the 10th byte\n",
    "       print(file.tell())  # Print the current file pointer position\n",
    "       content = file.read(20)  # Read 20 bytes from the current position\n",
    "       print(content)\n",
    "   ```\n",
    "\n",
    "8. **Working with File Paths**\n",
    "   - Use the `os` and `pathlib` modules to handle file paths.\n",
    "\n",
    "   ```python\n",
    "   import os\n",
    "   from pathlib import Path\n",
    "\n",
    "   # Get current working directory\n",
    "   print(os.getcwd())\n",
    "\n",
    "   # Join paths\n",
    "   file_path = os.path.join('folder', 'example.txt')\n",
    "\n",
    "   # Using pathlib\n",
    "   path = Path('folder') / 'example.txt'\n",
    "   ```\n",
    "\n",
    "9. **Handling File Exceptions**\n",
    "   - Use `try` and `except` blocks to handle file-related exceptions.\n",
    "\n",
    "   ```python\n",
    "   try:\n",
    "       with open('example.txt', 'r') as file:\n",
    "           content = file.read()\n",
    "   except FileNotFoundError:\n",
    "       print('File not found.')\n",
    "   except IOError:\n",
    "       print('An IOError occurred.')\n",
    "   ```\n",
    "\n",
    "These examples cover a wide range of file operations in Python. Whether you are reading from, writing to, or managing files, Python’s file I/O capabilities provide a flexible and powerful way to handle file data."
   ]
  },
  {
   "cell_type": "markdown",
   "metadata": {},
   "source": [
    "The help information for open is below:"
   ]
  },
  {
   "cell_type": "code",
   "execution_count": 74,
   "metadata": {},
   "outputs": [
    {
     "name": "stdout",
     "output_type": "stream",
     "text": [
      "Help on built-in function open in module io:\n",
      "\n",
      "open(file, mode='r', buffering=-1, encoding=None, errors=None, newline=None, closefd=True, opener=None)\n",
      "    Open file and return a stream.  Raise OSError upon failure.\n",
      "    \n",
      "    file is either a text or byte string giving the name (and the path\n",
      "    if the file isn't in the current working directory) of the file to\n",
      "    be opened or an integer file descriptor of the file to be\n",
      "    wrapped. (If a file descriptor is given, it is closed when the\n",
      "    returned I/O object is closed, unless closefd is set to False.)\n",
      "    \n",
      "    mode is an optional string that specifies the mode in which the file\n",
      "    is opened. It defaults to 'r' which means open for reading in text\n",
      "    mode.  Other common values are 'w' for writing (truncating the file if\n",
      "    it already exists), 'x' for creating and writing to a new file, and\n",
      "    'a' for appending (which on some Unix systems, means that all writes\n",
      "    append to the end of the file regardless of the current seek position).\n",
      "    In text mode, if encoding is not specified the encoding used is platform\n",
      "    dependent: locale.getencoding() is called to get the current locale encoding.\n",
      "    (For reading and writing raw bytes use binary mode and leave encoding\n",
      "    unspecified.) The available modes are:\n",
      "    \n",
      "    ========= ===============================================================\n",
      "    Character Meaning\n",
      "    --------- ---------------------------------------------------------------\n",
      "    'r'       open for reading (default)\n",
      "    'w'       open for writing, truncating the file first\n",
      "    'x'       create a new file and open it for writing\n",
      "    'a'       open for writing, appending to the end of the file if it exists\n",
      "    'b'       binary mode\n",
      "    't'       text mode (default)\n",
      "    '+'       open a disk file for updating (reading and writing)\n",
      "    ========= ===============================================================\n",
      "    \n",
      "    The default mode is 'rt' (open for reading text). For binary random\n",
      "    access, the mode 'w+b' opens and truncates the file to 0 bytes, while\n",
      "    'r+b' opens the file without truncation. The 'x' mode implies 'w' and\n",
      "    raises an `FileExistsError` if the file already exists.\n",
      "    \n",
      "    Python distinguishes between files opened in binary and text modes,\n",
      "    even when the underlying operating system doesn't. Files opened in\n",
      "    binary mode (appending 'b' to the mode argument) return contents as\n",
      "    bytes objects without any decoding. In text mode (the default, or when\n",
      "    't' is appended to the mode argument), the contents of the file are\n",
      "    returned as strings, the bytes having been first decoded using a\n",
      "    platform-dependent encoding or using the specified encoding if given.\n",
      "    \n",
      "    buffering is an optional integer used to set the buffering policy.\n",
      "    Pass 0 to switch buffering off (only allowed in binary mode), 1 to select\n",
      "    line buffering (only usable in text mode), and an integer > 1 to indicate\n",
      "    the size of a fixed-size chunk buffer.  When no buffering argument is\n",
      "    given, the default buffering policy works as follows:\n",
      "    \n",
      "    * Binary files are buffered in fixed-size chunks; the size of the buffer\n",
      "      is chosen using a heuristic trying to determine the underlying device's\n",
      "      \"block size\" and falling back on `io.DEFAULT_BUFFER_SIZE`.\n",
      "      On many systems, the buffer will typically be 4096 or 8192 bytes long.\n",
      "    \n",
      "    * \"Interactive\" text files (files for which isatty() returns True)\n",
      "      use line buffering.  Other text files use the policy described above\n",
      "      for binary files.\n",
      "    \n",
      "    encoding is the name of the encoding used to decode or encode the\n",
      "    file. This should only be used in text mode. The default encoding is\n",
      "    platform dependent, but any encoding supported by Python can be\n",
      "    passed.  See the codecs module for the list of supported encodings.\n",
      "    \n",
      "    errors is an optional string that specifies how encoding errors are to\n",
      "    be handled---this argument should not be used in binary mode. Pass\n",
      "    'strict' to raise a ValueError exception if there is an encoding error\n",
      "    (the default of None has the same effect), or pass 'ignore' to ignore\n",
      "    errors. (Note that ignoring encoding errors can lead to data loss.)\n",
      "    See the documentation for codecs.register or run 'help(codecs.Codec)'\n",
      "    for a list of the permitted encoding error strings.\n",
      "    \n",
      "    newline controls how universal newlines works (it only applies to text\n",
      "    mode). It can be None, '', '\\n', '\\r', and '\\r\\n'.  It works as\n",
      "    follows:\n",
      "    \n",
      "    * On input, if newline is None, universal newlines mode is\n",
      "      enabled. Lines in the input can end in '\\n', '\\r', or '\\r\\n', and\n",
      "      these are translated into '\\n' before being returned to the\n",
      "      caller. If it is '', universal newline mode is enabled, but line\n",
      "      endings are returned to the caller untranslated. If it has any of\n",
      "      the other legal values, input lines are only terminated by the given\n",
      "      string, and the line ending is returned to the caller untranslated.\n",
      "    \n",
      "    * On output, if newline is None, any '\\n' characters written are\n",
      "      translated to the system default line separator, os.linesep. If\n",
      "      newline is '' or '\\n', no translation takes place. If newline is any\n",
      "      of the other legal values, any '\\n' characters written are translated\n",
      "      to the given string.\n",
      "    \n",
      "    If closefd is False, the underlying file descriptor will be kept open\n",
      "    when the file is closed. This does not work when a file name is given\n",
      "    and must be True in that case.\n",
      "    \n",
      "    A custom opener can be used by passing a callable as *opener*. The\n",
      "    underlying file descriptor for the file object is then obtained by\n",
      "    calling *opener* with (*file*, *flags*). *opener* must return an open\n",
      "    file descriptor (passing os.open as *opener* results in functionality\n",
      "    similar to passing None).\n",
      "    \n",
      "    open() returns a file object whose type depends on the mode, and\n",
      "    through which the standard file operations such as reading and writing\n",
      "    are performed. When open() is used to open a file in a text mode ('w',\n",
      "    'r', 'wt', 'rt', etc.), it returns a TextIOWrapper. When used to open\n",
      "    a file in a binary mode, the returned class varies: in read binary\n",
      "    mode, it returns a BufferedReader; in write binary and append binary\n",
      "    modes, it returns a BufferedWriter, and in read/write mode, it returns\n",
      "    a BufferedRandom.\n",
      "    \n",
      "    It is also possible to use a string or bytearray as a file for both\n",
      "    reading and writing. For strings StringIO can be used like a file\n",
      "    opened in a text mode, and for bytes a BytesIO can be used like a file\n",
      "    opened in a binary mode.\n",
      "\n"
     ]
    }
   ],
   "source": [
    "help(open)"
   ]
  },
  {
   "cell_type": "markdown",
   "metadata": {},
   "source": [
    "On your machine, in the folder `python_course_colab_notebooks` (see [here](https://github.com/ai-technipreneurs/python_course_colab_notebooks/tree/main)), create a file name `testfile.txt` and populate it withthis info:\n",
    "\n",
    "    fghij\n",
    "    aims class\n",
    "    Rwanda 2024\n",
    "    this is really cool\n",
    "\n"
   ]
  },
  {
   "cell_type": "markdown",
   "metadata": {},
   "source": [
    "In the code below, I've opened that file, it contains one line:\n",
    "\n",
    "    $ cat testfile.txt\n",
    "    abcde\n",
    "    fghij\n",
    "    aims class\n",
    "    Rwanda 2024\n",
    "    this is really cool\n",
    "\n",
    "Now let's open this file in Python:"
   ]
  },
  {
   "cell_type": "code",
   "execution_count": 50,
   "metadata": {},
   "outputs": [
    {
     "name": "stdout",
     "output_type": "stream",
     "text": [
      "abcde\n",
      "fghij\n",
      "aims class\n",
      "Rwanda 2024\n",
      "this is really cool\n"
     ]
    }
   ],
   "source": [
    "!type testfile.txt"
   ]
  },
  {
   "cell_type": "code",
   "execution_count": 51,
   "metadata": {},
   "outputs": [],
   "source": [
    "f = open('testfile.txt','r')"
   ]
  },
  {
   "cell_type": "code",
   "execution_count": 52,
   "metadata": {},
   "outputs": [
    {
     "name": "stdout",
     "output_type": "stream",
     "text": [
      "abc\n"
     ]
    }
   ],
   "source": [
    "s = f.read(3)\n",
    "print(s)"
   ]
  },
  {
   "cell_type": "code",
   "execution_count": 53,
   "metadata": {},
   "outputs": [
    {
     "name": "stdout",
     "output_type": "stream",
     "text": [
      "de\n",
      "fghij\n",
      "a\n"
     ]
    }
   ],
   "source": [
    "t = f.read(10)\n",
    "print(t)"
   ]
  },
  {
   "cell_type": "markdown",
   "metadata": {},
   "source": [
    "We read the first three characters, where each character is a byte long.\n",
    "We can see that the file handle points to the 4th byte (index number 3)\n",
    "in the file:"
   ]
  },
  {
   "cell_type": "code",
   "execution_count": 77,
   "metadata": {},
   "outputs": [
    {
     "data": {
      "text/plain": [
       "3"
      ]
     },
     "execution_count": 77,
     "metadata": {},
     "output_type": "execute_result"
    }
   ],
   "source": [
    "f.tell()"
   ]
  },
  {
   "cell_type": "code",
   "execution_count": 78,
   "metadata": {},
   "outputs": [
    {
     "data": {
      "text/plain": [
       "'d'"
      ]
     },
     "execution_count": 78,
     "metadata": {},
     "output_type": "execute_result"
    }
   ],
   "source": [
    "f.read(1)"
   ]
  },
  {
   "cell_type": "code",
   "execution_count": 54,
   "metadata": {},
   "outputs": [],
   "source": [
    "f.close() # close the old handle"
   ]
  },
  {
   "cell_type": "code",
   "execution_count": 55,
   "metadata": {},
   "outputs": [
    {
     "ename": "ValueError",
     "evalue": "I/O operation on closed file.",
     "output_type": "error",
     "traceback": [
      "\u001b[1;31m---------------------------------------------------------------------------\u001b[0m",
      "\u001b[1;31mValueError\u001b[0m                                Traceback (most recent call last)",
      "Cell \u001b[1;32mIn[55], line 1\u001b[0m\n\u001b[1;32m----> 1\u001b[0m f\u001b[38;5;241m.\u001b[39mread()\n",
      "\u001b[1;31mValueError\u001b[0m: I/O operation on closed file."
     ]
    }
   ],
   "source": [
    "f.read()  # can't read anymore because the file is closed."
   ]
  },
  {
   "cell_type": "markdown",
   "metadata": {},
   "source": [
    "The file we are using is a long series of characters, but two of the characters are new line characters. If we looked at the file in sequence, it would look like \"abcdenfghijn\". Separating a file into lines is popular enough that there are two ways to read whole lines in a file. The first is to use the `readlines()` method:"
   ]
  },
  {
   "cell_type": "code",
   "execution_count": 56,
   "metadata": {},
   "outputs": [
    {
     "name": "stdout",
     "output_type": "stream",
     "text": [
      "['abcde\\n', 'fghij\\n', 'aims class\\n', 'Rwanda 2024\\n', 'this is really cool\\n']\n"
     ]
    }
   ],
   "source": [
    "f = open('testfile.txt','r')\n",
    "lines = f.readlines()\n",
    "print(lines)\n",
    "f.close()  # Always close the file when you are done with it"
   ]
  },
  {
   "cell_type": "markdown",
   "metadata": {},
   "source": [
    "A very important point about the readline method is that it *keeps* the\n",
    "newline character at the end of each line. You can use the strip()\n",
    "method to get rid of the string.\n",
    "\n",
    "File handles are also iterable, which means we can use them in for loops\n",
    "or list extensions:"
   ]
  },
  {
   "cell_type": "code",
   "execution_count": 82,
   "metadata": {},
   "outputs": [
    {
     "name": "stdout",
     "output_type": "stream",
     "text": [
      "['abcde', 'fghij', 'aims class', 'Rwanda 2024', 'this is really cool']\n"
     ]
    }
   ],
   "source": [
    "f = open('testfile.txt','r')\n",
    "lines = [line.strip() for line in f]\n",
    "f.close()\n",
    "print(lines)"
   ]
  },
  {
   "cell_type": "code",
   "execution_count": 83,
   "metadata": {},
   "outputs": [
    {
     "name": "stdout",
     "output_type": "stream",
     "text": [
      "['abcde', 'fghij', 'aims class', 'Rwanda 2024', 'this is really cool']\n"
     ]
    }
   ],
   "source": [
    "lines = []\n",
    "f = open('testfile.txt','r')\n",
    "for line in f:\n",
    "    lines.append(line.strip())\n",
    "f.close()\n",
    "print(lines)"
   ]
  },
  {
   "cell_type": "markdown",
   "metadata": {},
   "source": [
    "These are equivalent operations. It's often best to handle a file one line at a time, particularly when the file is so large it might not fit in memory.\n",
    "\n",
    "The other half of the story is writing output to files. We'll talk about two techniques: writing to the shell and writing to files directly.\n",
    "\n",
    "If your program only creates one stream of output, it's often a good idea to write to the shell using the print function. There are several advantages to this strategy, including the fact that it allows the user to select where they want to store the output without worrying about any command line flags. You can use `\\>` to direct the output of your program to a file or use `|` to pipe it to another program.\n",
    "\n",
    "Sometimes, you need to direct your output directly to a file handle. For instance, if your program produces two output streams, you may want to assign two open file handles. Opening a file for reading simply requires changing the second option from `r` to `w` or `a`.\n",
    "\n",
    "*Caution!* Opening a file with the 'w' option means start writing *at the beginning*, which may overwrite old material. If you want to append to the file without losing what is already there, open it with 'a'.\n",
    "\n",
    "Writing to a file uses the `write()` command, which accepts a string."
   ]
  },
  {
   "cell_type": "code",
   "execution_count": 84,
   "metadata": {},
   "outputs": [],
   "source": [
    "outfile = open('outfile.txt','w')\n",
    "outfile.write('This is the first line!')\n",
    "outfile.close()"
   ]
  },
  {
   "cell_type": "markdown",
   "metadata": {},
   "source": [
    "Another way to write to a file is to use `writelines()`, which accepts a\n",
    "list of strings and writes them in order. *Caution!* `writelines` does not\n",
    "append newlines. If you really want to write a newline at the end of\n",
    "each string in the list, add it yourself."
   ]
  },
  {
   "cell_type": "markdown",
   "metadata": {},
   "source": [
    "## Further reading\n",
    "\n",
    "0. [Programming with Python](python.aims.ac.za); [Section 6](https://python.aims.ac.za/pages/comm_str_print.html)\n",
    "1. [Programming with Python](python.aims.ac.za); [Section 7](https://python.aims.ac.za/pages/indices.html)\n",
    "2. [Programming with Python](python.aims.ac.za); [Section 8](https://python.aims.ac.za/pages/user_input.html)\n",
    "3. [Programming with Python](python.aims.ac.za); [Section 26](https://python.aims.ac.za/pages/file_io.html)"
   ]
  },
  {
   "cell_type": "markdown",
   "metadata": {},
   "source": [
    "---\n",
    "\n",
    "### Exercise 1:\n",
    "Create a string variable `text` and assign it the value `\"Python is amazing!\"`."
   ]
  },
  {
   "cell_type": "code",
   "execution_count": null,
   "metadata": {},
   "outputs": [],
   "source": [
    "text = \"Python is amazing!\""
   ]
  },
  {
   "cell_type": "markdown",
   "metadata": {},
   "source": [
    "### Exercise 2:\n",
    "Find the length of the string `\"Hello, World!\"` and store it in a variable `length`."
   ]
  },
  {
   "cell_type": "code",
   "execution_count": 29,
   "metadata": {},
   "outputs": [
    {
     "name": "stdout",
     "output_type": "stream",
     "text": [
      "12\n"
     ]
    }
   ],
   "source": [
    "HW = \"Hello, World\"\n",
    "length = len(HW)\n",
    "print(length)"
   ]
  },
  {
   "cell_type": "markdown",
   "metadata": {},
   "source": [
    "### Exercise 3:\n",
    "Convert the string `\"python programming\"` to uppercase and store it in a variable `upper_text`."
   ]
  },
  {
   "cell_type": "code",
   "execution_count": 31,
   "metadata": {},
   "outputs": [
    {
     "name": "stdout",
     "output_type": "stream",
     "text": [
      "PYTHON PROGRAMMING\n"
     ]
    }
   ],
   "source": [
    "pp = \"python programming\"\n",
    "upper_text = pp.upper()\n",
    "print(upper_text)"
   ]
  },
  {
   "cell_type": "markdown",
   "metadata": {},
   "source": [
    "### Exercise 4:\n",
    "Extract the first 5 characters from the string `\"Artificial Intelligence\"`."
   ]
  },
  {
   "cell_type": "code",
   "execution_count": 32,
   "metadata": {},
   "outputs": [
    {
     "name": "stdout",
     "output_type": "stream",
     "text": [
      "Artif\n"
     ]
    }
   ],
   "source": [
    "AI = \"Artificial Intelligence\"\n",
    "print(AI[:5])"
   ]
  },
  {
   "cell_type": "markdown",
   "metadata": {},
   "source": [
    "### Exercise 5:\n",
    "Concatenate the strings `\"Hello\"` and `\"World\"` with a space in between."
   ]
  },
  {
   "cell_type": "code",
   "execution_count": 33,
   "metadata": {},
   "outputs": [
    {
     "name": "stdout",
     "output_type": "stream",
     "text": [
      "Hello World\n"
     ]
    }
   ],
   "source": [
    "a = \"Hello\"\n",
    "b = \"World\"\n",
    "print(a + \" \" + b)"
   ]
  },
  {
   "cell_type": "markdown",
   "metadata": {},
   "source": [
    "### Exercise 6:\n",
    "Replace the word `\"dog\"` with `\"cat\"` in the string `\"The quick brown dog jumps over the lazy dog.\"`."
   ]
  },
  {
   "cell_type": "code",
   "execution_count": 35,
   "metadata": {},
   "outputs": [
    {
     "name": "stdout",
     "output_type": "stream",
     "text": [
      "The quick brown cat jumps over the lazy cat\n"
     ]
    }
   ],
   "source": [
    "a = \"The quick brown dog jumps over the lazy dog\"\n",
    "b = a.replace(\"dog\", \"cat\")\n",
    "print(b)"
   ]
  },
  {
   "cell_type": "markdown",
   "metadata": {},
   "source": [
    "### Exercise 7:\n",
    "Split the string `\"apple,banana,orange\"` by commas and store the result in a list `fruits_list`."
   ]
  },
  {
   "cell_type": "code",
   "execution_count": 38,
   "metadata": {},
   "outputs": [
    {
     "name": "stdout",
     "output_type": "stream",
     "text": [
      "['apple', 'banana', 'orange']\n"
     ]
    }
   ],
   "source": [
    "fruits = \"apple,banana,orange\"\n",
    "fruits_list = fruits.split(\",\")\n",
    "print(fruits_list)"
   ]
  },
  {
   "cell_type": "markdown",
   "metadata": {},
   "source": [
    "### Exercise 8:\n",
    "Use string formatting to create the sentence `\"My name is Alice and I am 25 years old.\"`, where the name and age are variables."
   ]
  },
  {
   "cell_type": "code",
   "execution_count": 40,
   "metadata": {},
   "outputs": [
    {
     "name": "stdout",
     "output_type": "stream",
     "text": [
      "My name is Alice and I am 25 years old\n"
     ]
    }
   ],
   "source": [
    "print(\"My name is {name} and I am {age} years old\".format(name='Alice', age=25))"
   ]
  },
  {
   "cell_type": "markdown",
   "metadata": {},
   "source": [
    "### Exercise 9:\n",
    "Check if the string `\"python\"` is present in the sentence `\"I love python programming\"`."
   ]
  },
  {
   "cell_type": "code",
   "execution_count": 41,
   "metadata": {},
   "outputs": [
    {
     "name": "stdout",
     "output_type": "stream",
     "text": [
      "True\n"
     ]
    }
   ],
   "source": [
    "P = \"I love python programming\"\n",
    "is_present = \"python\" in P\n",
    "print(is_present)"
   ]
  },
  {
   "cell_type": "markdown",
   "metadata": {},
   "source": [
    "### Exercise 10:\n",
    "Count the number of occurrences of the letter `\"e\"` in the string `\"Elephant is an elegant animal\"`."
   ]
  },
  {
   "cell_type": "code",
   "execution_count": 42,
   "metadata": {},
   "outputs": [
    {
     "name": "stdout",
     "output_type": "stream",
     "text": [
      "3\n"
     ]
    }
   ],
   "source": [
    "A = \"Elephant is an elegant animal\"\n",
    "num_e = A.count(\"e\")\n",
    "print(num_e)"
   ]
  },
  {
   "cell_type": "markdown",
   "metadata": {},
   "source": [
    "### Exercise 11:\n",
    "Remove any leading and trailing spaces from the string `\"   Data Science   \"`."
   ]
  },
  {
   "cell_type": "code",
   "execution_count": 58,
   "metadata": {},
   "outputs": [
    {
     "name": "stdout",
     "output_type": "stream",
     "text": [
      "Data Science\n"
     ]
    }
   ],
   "source": [
    "DS = \"   Data Science   \"\n",
    "new = DS.strip()\n",
    "print(new)"
   ]
  },
  {
   "cell_type": "markdown",
   "metadata": {},
   "source": [
    "### Exercise 12:\n",
    "Convert the string `\"100\"` into an integer and store it in a variable `int_value`."
   ]
  },
  {
   "cell_type": "code",
   "execution_count": 60,
   "metadata": {},
   "outputs": [
    {
     "name": "stdout",
     "output_type": "stream",
     "text": [
      "100\n"
     ]
    }
   ],
   "source": [
    "x = \"100\"\n",
    "int_value = int(x)\n",
    "print(int_value)"
   ]
  },
  {
   "cell_type": "markdown",
   "metadata": {},
   "source": [
    "### Exercise 13:\n",
    "Extract the substring `\"pro\"` from the string `\"programming\"`."
   ]
  },
  {
   "cell_type": "code",
   "execution_count": 62,
   "metadata": {},
   "outputs": [
    {
     "name": "stdout",
     "output_type": "stream",
     "text": [
      "pro\n"
     ]
    }
   ],
   "source": [
    "A = \"programming\"\n",
    "print(A[:3])"
   ]
  },
  {
   "cell_type": "markdown",
   "metadata": {},
   "source": [
    "### Exercise 14:\n",
    "Check if the string `\"data\"` starts with `\"da\"` and ends with `\"ta\"`."
   ]
  },
  {
   "cell_type": "code",
   "execution_count": 64,
   "metadata": {},
   "outputs": [
    {
     "name": "stdout",
     "output_type": "stream",
     "text": [
      "(True, True)\n"
     ]
    }
   ],
   "source": [
    "c = \"data\"\n",
    "d = c.startswith(\"da\"), c.endswith(\"ta\")\n",
    "print(d)"
   ]
  },
  {
   "cell_type": "markdown",
   "metadata": {},
   "source": [
    "### Exercise 15:\n",
    "Reverse the string `\"machine learning\"` and store the result in `reversed_text`."
   ]
  },
  {
   "cell_type": "code",
   "execution_count": 67,
   "metadata": {},
   "outputs": [
    {
     "name": "stdout",
     "output_type": "stream",
     "text": [
      "gninrael enihcam\n"
     ]
    }
   ],
   "source": [
    "ml = \"machine learning\"\n",
    "reversed_text = ''.join(reversed(ml))\n",
    "print(reversed_text)"
   ]
  },
  {
   "cell_type": "code",
   "execution_count": 68,
   "metadata": {},
   "outputs": [
    {
     "name": "stdout",
     "output_type": "stream",
     "text": [
      "gninrael enihcam\n"
     ]
    }
   ],
   "source": [
    "ml = \"machine learning\"\n",
    "reversed_text = ml[::-1]\n",
    "print(reversed_text)"
   ]
  },
  {
   "cell_type": "markdown",
   "metadata": {},
   "source": [
    "### Exercise 16:\n",
    "Convert the first letter of each word in the string `\"machine learning is fun\"` to uppercase."
   ]
  },
  {
   "cell_type": "code",
   "execution_count": 70,
   "metadata": {},
   "outputs": [
    {
     "name": "stdout",
     "output_type": "stream",
     "text": [
      "Machine learning is fun\n"
     ]
    }
   ],
   "source": [
    "m = \"machine learning is fun\"\n",
    "M = m.capitalize()\n",
    "print(M)"
   ]
  },
  {
   "cell_type": "markdown",
   "metadata": {},
   "source": [
    "### Exercise 17:\n",
    "Create a multiline string representing a poem and store it in a variable `poem`."
   ]
  },
  {
   "cell_type": "code",
   "execution_count": 71,
   "metadata": {},
   "outputs": [],
   "source": [
    "poem = \"\"\"Late in May as the light lengthens\n",
    "toward summer the young goldfinches\n",
    "flutter down through the day for the first time\n",
    "to find themselves among fallen petals\n",
    "cradling their day's colors in the day's shadows\n",
    "of the garden beside the old house\n",
    "after a cold spring with no rain\n",
    "not a sound comes from the empty village\n",
    "as I stand eating the black cherries\n",
    "from the loaded branches above me\n",
    "saying to myself Remember this!\"\"\""
   ]
  },
  {
   "cell_type": "markdown",
   "metadata": {},
   "source": [
    "### Exercise 18:\n",
    "Write a string to a file named `\"output.txt\"`."
   ]
  },
  {
   "cell_type": "code",
   "execution_count": 72,
   "metadata": {},
   "outputs": [
    {
     "data": {
      "text/plain": [
       "<function TextIOWrapper.close()>"
      ]
     },
     "execution_count": 72,
     "metadata": {},
     "output_type": "execute_result"
    }
   ],
   "source": [
    "file = open('output.txt', 'w')\n",
    "file.write(\"African Institute for Mathematical Sciences\")\n",
    "file.close"
   ]
  },
  {
   "cell_type": "markdown",
   "metadata": {},
   "source": [
    "### Exercise 19:\n",
    "Read the contents of a file named `\"data.txt\"` and print it line by line."
   ]
  },
  {
   "cell_type": "code",
   "execution_count": 78,
   "metadata": {},
   "outputs": [
    {
     "name": "stdout",
     "output_type": "stream",
     "text": [
      "Established in 2003, the African Institute for Mathematical Sciences (AIMS) is Africaâ€™s first network of centres of excellence in mathematical sciences. AIMS enables African youth to shape the future of the continent, through Science, Technology, Engineering and Maths (STEM) education- training the next generation of African leaders. AIMS has six centres of excellence across Africa: South Africa, Senegal, Ghana, Cameroon, Tanzania, and Rwanda.\n"
     ]
    }
   ],
   "source": [
    "file = open('data.txt', 'r')\n",
    "line = file.readline()\n",
    "while line:\n",
    "    print(line, end='')\n",
    "    line = file.readline()\n",
    "file.close()"
   ]
  },
  {
   "cell_type": "markdown",
   "metadata": {},
   "source": [
    "### Exercise 20:\n",
    "Check if a file `\"example.txt\"` exists before opening it."
   ]
  },
  {
   "cell_type": "code",
   "execution_count": 79,
   "metadata": {},
   "outputs": [
    {
     "name": "stdout",
     "output_type": "stream",
     "text": [
      "example.txt does not exist.\n"
     ]
    }
   ],
   "source": [
    "import os\n",
    "\n",
    "file = \"example.txt\"\n",
    "\n",
    "if os.path.exists(file):\n",
    "    with open(file, 'r') as file:\n",
    "        content = file.read()\n",
    "        print(content)\n",
    "else:\n",
    "    print(f\"{file} does not exist.\")\n"
   ]
  },
  {
   "cell_type": "markdown",
   "metadata": {},
   "source": [
    "### Exercise 21:\n",
    "Append a new line `\"This is a new line\"` to an existing file `\"notes.txt\"`.\n",
    "\n",
    "```python\n",
    "# Exercise 21\n",
    "```\n",
    "\n",
    "---\n",
    "\n",
    "### Exercise 22:\n",
    "Read the contents of a file `\"log.txt\"` and store each line in a list `log_lines`.\n",
    "\n",
    "```python\n",
    "# Exercise 22\n",
    "```\n",
    "\n",
    "---\n",
    "\n",
    "### Exercise 23:\n",
    "Create a new file `\"report.txt\"` and write the string `\"Data analysis report\"` to it.\n",
    "\n",
    "```python\n",
    "# Exercise 23\n",
    "```\n",
    "\n",
    "---\n",
    "\n",
    "### Exercise 24:\n",
    "Replace the word `\"error\"` with `\"issue\"` in a file `\"log.txt\"`.\n",
    "\n",
    "```python\n",
    "# Exercise 24\n",
    "```\n",
    "\n",
    "---\n",
    "\n",
    "### Exercise 25:\n",
    "Count the number of words in a text file `\"document.txt\"`.\n",
    "\n",
    "```python\n",
    "# Exercise 25\n",
    "```\n",
    "\n",
    "---\n",
    "\n",
    "### Exercise 26:\n",
    "Write a Python script that reads a file `\"essay.txt\"` and prints the total number of lines, words, and characters.\n",
    "\n",
    "```python\n",
    "# Exercise 26\n",
    "```\n",
    "\n",
    "---\n",
    "\n",
    "### Exercise 27:\n",
    "Copy the contents of one file `\"source.txt\"` to another file `\"destination.txt\"`.\n",
    "\n",
    "```python\n",
    "# Exercise 27\n",
    "```\n",
    "\n",
    "---\n",
    "\n",
    "### Exercise 28:\n",
    "Write a Python function that takes a filename as input and returns the number of lines in the file.\n",
    "\n",
    "```python\n",
    "# Exercise 28\n",
    "```\n",
    "\n",
    "---\n",
    "\n",
    "### Exercise 29:\n",
    "Extract all the words from a text file `\"article.txt\"` that contain more than 5 characters.\n",
    "\n",
    "```python\n",
    "# Exercise 29\n",
    "```\n",
    "\n",
    "---\n",
    "\n",
    "### Exercise 30:\n",
    "Convert the contents of a file `\"notes.txt\"` to uppercase and save the result in another file `\"uppercase_notes.txt\"`.\n",
    "\n",
    "```python\n",
    "# Exercise 30\n",
    "```\n",
    "\n",
    "---\n",
    "\n",
    "### Exercise 31:\n",
    "Write a Python script that reads a file and removes all empty lines.\n",
    "\n",
    "```python\n",
    "# Exercise 31\n",
    "```\n",
    "\n",
    "---\n",
    "\n",
    "### Exercise 32:\n",
    "Open a file `\"config.txt\"` in both read and write mode.\n",
    "\n",
    "```python\n",
    "# Exercise 32\n",
    "```\n",
    "\n",
    "---\n",
    "\n",
    "### Exercise 33:\n",
    "Write a Python function that reads a file and prints the longest line in the file.\n",
    "\n",
    "```python\n",
    "# Exercise 33\n",
    "```\n",
    "\n",
    "---\n",
    "\n",
    "### Exercise 34:\n",
    "Write a Python script to count the frequency of each letter in a text file `\"message.txt\"`.\n",
    "\n",
    "```python\n",
    "# Exercise 34\n",
    "```\n",
    "\n",
    "---\n",
    "\n",
    "### Exercise 35:\n",
    "Write a Python script that reads a file and prints the total number of characters, excluding spaces.\n",
    "\n",
    "```python\n",
    "# Exercise 35\n",
    "```\n",
    "\n",
    "---\n",
    "\n",
    "### Exercise 36:\n",
    "Create a Python script to check whether a file is empty or not.\n",
    "\n",
    "```python\n",
    "# Exercise 36\n",
    "```\n",
    "\n",
    "---\n",
    "\n",
    "### Exercise 37:\n",
    "Write a Python function that reads a file and removes all punctuation marks from the text.\n",
    "\n",
    "```python\n",
    "# Exercise 37\n",
    "```\n",
    "\n",
    "---\n",
    "\n",
    "### Exercise 38:\n",
    "Create a Python function that writes a list of strings to a file, each string on a new line.\n",
    "\n",
    "```python\n",
    "# Exercise 38\n",
    "```\n",
    "\n",
    "---\n",
    "\n",
    "### Exercise 39:\n",
    "Write a Python script to count the number of lines that start with a specific letter (e.g., \"A\") in a text file.\n",
    "\n",
    "```python\n",
    "# Exercise 39\n",
    "```\n",
    "\n",
    "---\n",
    "\n",
    "### Exercise 40:\n",
    "Write a Python function that takes a string as input and writes it to a file `\"output.txt\"` in reverse order.\n",
    "\n",
    "```python\n",
    "# Exercise 40\n",
    "```\n",
    "\n",
    "---\n",
    "\n",
    "### Exercise 41:\n",
    "Write a Python script that reads a file and prints all the lines that contain the word `\"Python\"`.\n",
    "\n",
    "```python\n",
    "# Exercise 41\n",
    "```\n",
    "\n",
    "---\n",
    "\n",
    "### Exercise 42:\n",
    "Write a Python script that opens a file and removes all numeric digits from the file's content.\n",
    "\n",
    "```python\n",
    "# Exercise 42\n",
    "```\n",
    "\n",
    "---\n",
    "\n",
    "### Exercise 43:\n",
    "Write a Python script to find the most frequent word in a text file `\"book.txt\"`.\n",
    "\n",
    "```python\n",
    "# Exercise 43\n",
    "```\n",
    "\n",
    "---\n",
    "\n",
    "### Exercise 44:\n",
    "Write a Python script that reads a file and prints all the lines that contain exactly 5 words.\n",
    "\n",
    "```python\n",
    "# Exercise 44\n",
    "```\n",
    "\n",
    "---\n",
    "\n",
    "### Exercise 45:\n",
    "Write a Python script to read a file and print the first and last line of the file.\n",
    "\n",
    "```python\n",
    "# Exercise 45\n",
    "```\n",
    "\n",
    "---\n",
    "\n",
    "### Exercise 46:\n",
    "Write a Python script that checks if a file `\"students.txt\"` is writable.\n",
    "\n",
    "```python\n",
    "# Exercise 46\n",
    "```\n",
    "\n",
    "---\n",
    "\n",
    "### Exercise 47:\n",
    "Create a Python function that opens a file and returns the number of unique words in the file.\n",
    "\n",
    "```python\n",
    "# Exercise 47\n",
    "```\n",
    "\n",
    "---\n",
    "\n",
    "### Exercise 48:\n",
    "Write a Python script that reads a file and prints all lines in reverse order.\n",
    "\n",
    "```python\n",
    "# Exercise 48\n",
    "```\n",
    "\n",
    "---\n",
    "\n",
    "### Exercise 49:\n",
    "Write a Python function that reads a file and returns the most common letter in the text.\n",
    "\n",
    "```python\n",
    "# Exercise 49\n",
    "```\n",
    "\n",
    "---\n",
    "\n",
    "### Exercise 50:\n",
    "Write a Python script that reads a file and replaces every occurrence of `\"Python\"` with `\"Java\"`.\n",
    "\n",
    "```python\n",
    "# Exercise 50\n",
    "```\n",
    "\n",
    "---"
   ]
  },
  {
   "cell_type": "code",
   "execution_count": null,
   "metadata": {},
   "outputs": [],
   "source": []
  }
 ],
 "metadata": {
  "kernelspec": {
   "display_name": "Python 3 (ipykernel)",
   "language": "python",
   "name": "python3"
  },
  "language_info": {
   "codemirror_mode": {
    "name": "ipython",
    "version": 3
   },
   "file_extension": ".py",
   "mimetype": "text/x-python",
   "name": "python",
   "nbconvert_exporter": "python",
   "pygments_lexer": "ipython3",
   "version": "3.12.4"
  }
 },
 "nbformat": 4,
 "nbformat_minor": 4
}
