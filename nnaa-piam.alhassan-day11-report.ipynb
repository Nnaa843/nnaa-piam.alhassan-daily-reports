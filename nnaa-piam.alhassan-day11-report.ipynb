{
 "cells": [
  {
   "cell_type": "markdown",
   "id": "946dcae8",
   "metadata": {},
   "source": [
    "# Practical_6: Numpy"
   ]
  },
  {
   "cell_type": "markdown",
   "id": "265c80b0",
   "metadata": {},
   "source": [
    "---\n",
    "\n",
    "### Exercise 1:\n",
    "Create a NumPy array of integers from 1 to 10.\n",
    "\n",
    "```python\n",
    "# Exercise 1\n",
    "```"
   ]
  },
  {
   "cell_type": "code",
   "execution_count": 5,
   "id": "289efc29-b2c4-4120-9d81-716732a74a23",
   "metadata": {},
   "outputs": [],
   "source": [
    "import numpy as np"
   ]
  },
  {
   "cell_type": "code",
   "execution_count": 1,
   "id": "02b71d64",
   "metadata": {},
   "outputs": [
    {
     "data": {
      "text/plain": [
       "array([ 1,  2,  3,  4,  5,  6,  7,  8,  9, 10])"
      ]
     },
     "execution_count": 1,
     "metadata": {},
     "output_type": "execute_result"
    }
   ],
   "source": [
    "import numpy as np\n",
    "\n",
    "integers = np.array([1,2,3,4,5,6,7,8,9,10])\n",
    "\n",
    "integers"
   ]
  },
  {
   "cell_type": "code",
   "execution_count": 7,
   "id": "15957199",
   "metadata": {},
   "outputs": [
    {
     "data": {
      "text/plain": [
       "array([ 0,  1,  2,  3,  4,  5,  6,  7,  8,  9, 10])"
      ]
     },
     "execution_count": 7,
     "metadata": {},
     "output_type": "execute_result"
    }
   ],
   "source": [
    "integers = np.arange(11)\n",
    "\n",
    "integers"
   ]
  },
  {
   "cell_type": "code",
   "execution_count": 3,
   "id": "a986c8e6",
   "metadata": {},
   "outputs": [
    {
     "name": "stdout",
     "output_type": "stream",
     "text": [
      "Help on built-in function arange in module numpy:\n",
      "\n",
      "arange(...)\n",
      "    arange([start,] stop[, step,], dtype=None)\n",
      "    \n",
      "    Return evenly spaced values within a given interval.\n",
      "    \n",
      "    Values are generated within the half-open interval ``[start, stop)``\n",
      "    (in other words, the interval including `start` but excluding `stop`).\n",
      "    For integer arguments the function is equivalent to the Python built-in\n",
      "    `range` function, but returns an ndarray rather than a list.\n",
      "    \n",
      "    When using a non-integer step, such as 0.1, the results will often not\n",
      "    be consistent.  It is better to use `numpy.linspace` for these cases.\n",
      "    \n",
      "    Parameters\n",
      "    ----------\n",
      "    start : number, optional\n",
      "        Start of interval.  The interval includes this value.  The default\n",
      "        start value is 0.\n",
      "    stop : number\n",
      "        End of interval.  The interval does not include this value, except\n",
      "        in some cases where `step` is not an integer and floating point\n",
      "        round-off affects the length of `out`.\n",
      "    step : number, optional\n",
      "        Spacing between values.  For any output `out`, this is the distance\n",
      "        between two adjacent values, ``out[i+1] - out[i]``.  The default\n",
      "        step size is 1.  If `step` is specified as a position argument,\n",
      "        `start` must also be given.\n",
      "    dtype : dtype\n",
      "        The type of the output array.  If `dtype` is not given, infer the data\n",
      "        type from the other input arguments.\n",
      "    \n",
      "    Returns\n",
      "    -------\n",
      "    arange : ndarray\n",
      "        Array of evenly spaced values.\n",
      "    \n",
      "        For floating point arguments, the length of the result is\n",
      "        ``ceil((stop - start)/step)``.  Because of floating point overflow,\n",
      "        this rule may result in the last element of `out` being greater\n",
      "        than `stop`.\n",
      "    \n",
      "    See Also\n",
      "    --------\n",
      "    numpy.linspace : Evenly spaced numbers with careful handling of endpoints.\n",
      "    numpy.ogrid: Arrays of evenly spaced numbers in N-dimensions.\n",
      "    numpy.mgrid: Grid-shaped arrays of evenly spaced numbers in N-dimensions.\n",
      "    \n",
      "    Examples\n",
      "    --------\n",
      "    >>> np.arange(3)\n",
      "    array([0, 1, 2])\n",
      "    >>> np.arange(3.0)\n",
      "    array([ 0.,  1.,  2.])\n",
      "    >>> np.arange(3,7)\n",
      "    array([3, 4, 5, 6])\n",
      "    >>> np.arange(3,7,2)\n",
      "    array([3, 5])\n",
      "\n"
     ]
    }
   ],
   "source": [
    "help(np.arange)"
   ]
  },
  {
   "cell_type": "markdown",
   "id": "01c2bf05",
   "metadata": {},
   "source": [
    "---\n",
    "\n",
    "### Exercise 2:\n",
    "Create a 3x3 NumPy array filled with zeros."
   ]
  },
  {
   "cell_type": "code",
   "execution_count": 11,
   "id": "cbdd21ce",
   "metadata": {},
   "outputs": [
    {
     "name": "stdout",
     "output_type": "stream",
     "text": [
      "[[0 0 0]\n",
      " [0 0 0]\n",
      " [0 0 0]]\n"
     ]
    }
   ],
   "source": [
    "numbers = np.array([[0,0,0], [0,0,0], [0,0,0]])\n",
    "\n",
    "print(numbers)"
   ]
  },
  {
   "cell_type": "code",
   "execution_count": 14,
   "id": "802b87ef",
   "metadata": {},
   "outputs": [
    {
     "name": "stdout",
     "output_type": "stream",
     "text": [
      "[[0. 0. 0.]\n",
      " [0. 0. 0.]\n",
      " [0. 0. 0.]]\n"
     ]
    }
   ],
   "source": [
    "nums = np.zeros((3,3))\n",
    "print(nums)"
   ]
  },
  {
   "cell_type": "code",
   "execution_count": 15,
   "id": "ae49c17f",
   "metadata": {},
   "outputs": [
    {
     "name": "stdout",
     "output_type": "stream",
     "text": [
      "[[0 0 0]\n",
      " [0 0 0]\n",
      " [0 0 0]]\n"
     ]
    }
   ],
   "source": [
    "numb = np.zeros((3,3), dtype=np.int)\n",
    "print(numb)"
   ]
  },
  {
   "cell_type": "markdown",
   "id": "9ecd0ad0",
   "metadata": {},
   "source": [
    "### Exercise 3:\n",
    "Create a NumPy array of 10 evenly spaced numbers between 0 and 5.\n",
    "\n",
    "```python\n",
    "# Exercise 3\n",
    "```\n",
    "\n",
    "---"
   ]
  },
  {
   "cell_type": "code",
   "execution_count": 12,
   "id": "ff709a7f",
   "metadata": {},
   "outputs": [
    {
     "name": "stdout",
     "output_type": "stream",
     "text": [
      "[0.         0.55555556 1.11111111 1.66666667 2.22222222 2.77777778\n",
      " 3.33333333 3.88888889 4.44444444 5.        ]\n"
     ]
    }
   ],
   "source": [
    "num = np.linspace(0,5,10)\n",
    "\n",
    "print(num)"
   ]
  },
  {
   "cell_type": "markdown",
   "id": "08eedd35",
   "metadata": {},
   "source": [
    "### Exercise 4:\n",
    "Create a 5x5 identity matrix using NumPy.\n",
    "\n",
    "```python\n",
    "# Exercise 4\n",
    "```\n",
    "\n",
    "---"
   ]
  },
  {
   "cell_type": "code",
   "execution_count": 16,
   "id": "ea38a524",
   "metadata": {},
   "outputs": [
    {
     "data": {
      "text/plain": [
       "array([[1., 0., 0., 0., 0.],\n",
       "       [0., 1., 0., 0., 0.],\n",
       "       [0., 0., 1., 0., 0.],\n",
       "       [0., 0., 0., 1., 0.],\n",
       "       [0., 0., 0., 0., 1.]])"
      ]
     },
     "execution_count": 16,
     "metadata": {},
     "output_type": "execute_result"
    }
   ],
   "source": [
    "A = np.eye(5)\n",
    "A"
   ]
  },
  {
   "cell_type": "markdown",
   "id": "21841759",
   "metadata": {},
   "source": [
    "### Exercise 5:\n",
    "Create a 4x4 matrix with random values between 0 and 1.\n",
    "\n",
    "```python\n",
    "# Exercise 5\n",
    "```\n",
    "\n",
    "---"
   ]
  },
  {
   "cell_type": "code",
   "execution_count": 17,
   "id": "121235fa",
   "metadata": {},
   "outputs": [
    {
     "data": {
      "text/plain": [
       "array([[0.45304738, 0.71869634, 0.15827978, 0.88212097],\n",
       "       [0.9880026 , 0.21647465, 0.87988031, 0.34726373],\n",
       "       [0.6063153 , 0.92643807, 0.92566142, 0.9252013 ],\n",
       "       [0.92469707, 0.98188596, 0.08247351, 0.29308271]])"
      ]
     },
     "execution_count": 17,
     "metadata": {},
     "output_type": "execute_result"
    }
   ],
   "source": [
    "B = np.random.rand(4,4)\n",
    "B"
   ]
  },
  {
   "cell_type": "code",
   "execution_count": 19,
   "id": "70b74112",
   "metadata": {},
   "outputs": [
    {
     "data": {
      "text/plain": [
       "array([[0.85834572, 0.60572226, 0.93419578, 0.9074534 ],\n",
       "       [0.22497863, 0.71628357, 0.51343165, 0.79667015],\n",
       "       [0.08955671, 0.82442537, 0.2346931 , 0.44876643],\n",
       "       [0.61236993, 0.03832674, 0.86784643, 0.78679196]])"
      ]
     },
     "execution_count": 19,
     "metadata": {},
     "output_type": "execute_result"
    }
   ],
   "source": [
    "C = np.random.random((4,4))\n",
    "C"
   ]
  },
  {
   "cell_type": "code",
   "execution_count": 20,
   "id": "a4e4a791",
   "metadata": {},
   "outputs": [],
   "source": [
    "np.random.seed(10)"
   ]
  },
  {
   "cell_type": "code",
   "execution_count": 22,
   "id": "60b6ea9e",
   "metadata": {},
   "outputs": [
    {
     "data": {
      "text/plain": [
       "array([[0.72175532, 0.29187607, 0.91777412, 0.71457578],\n",
       "       [0.54254437, 0.14217005, 0.37334076, 0.67413362],\n",
       "       [0.44183317, 0.43401399, 0.61776698, 0.51313824],\n",
       "       [0.65039718, 0.60103895, 0.8052232 , 0.52164715]])"
      ]
     },
     "execution_count": 22,
     "metadata": {},
     "output_type": "execute_result"
    }
   ],
   "source": [
    "d = np.random.rand(4,4)\n",
    "d"
   ]
  },
  {
   "cell_type": "code",
   "execution_count": 23,
   "id": "b790215d",
   "metadata": {},
   "outputs": [],
   "source": [
    "np.random.seed(0)"
   ]
  },
  {
   "cell_type": "code",
   "execution_count": 48,
   "id": "8b1df671",
   "metadata": {},
   "outputs": [
    {
     "data": {
      "text/plain": [
       "array([[0.4686512 , 0.97676109, 0.60484552, 0.73926358],\n",
       "       [0.03918779, 0.28280696, 0.12019656, 0.2961402 ],\n",
       "       [0.11872772, 0.31798318, 0.41426299, 0.0641475 ],\n",
       "       [0.69247212, 0.56660145, 0.26538949, 0.52324805]])"
      ]
     },
     "execution_count": 48,
     "metadata": {},
     "output_type": "execute_result"
    }
   ],
   "source": [
    "d = np.random.rand(4,4)\n",
    "d"
   ]
  },
  {
   "cell_type": "markdown",
   "id": "a63664f2",
   "metadata": {},
   "source": [
    "### Exercise 6:\n",
    "Find the shape of a NumPy array.\n",
    "\n",
    "```python\n",
    "# Exercise 6\n",
    "```\n",
    "\n",
    "---"
   ]
  },
  {
   "cell_type": "code",
   "execution_count": 25,
   "id": "544b7dee",
   "metadata": {},
   "outputs": [
    {
     "data": {
      "text/plain": [
       "(4, 4)"
      ]
     },
     "execution_count": 25,
     "metadata": {},
     "output_type": "execute_result"
    }
   ],
   "source": [
    "d.shape"
   ]
  },
  {
   "cell_type": "markdown",
   "id": "4b0d5035",
   "metadata": {},
   "source": [
    "### Exercise 7:\n",
    "Reshape a 1D NumPy array of 16 elements into a 4x4 matrix.\n",
    "\n",
    "```python\n",
    "# Exercise 7\n",
    "```\n",
    "\n",
    "---"
   ]
  },
  {
   "cell_type": "code",
   "execution_count": 27,
   "id": "57ed8273",
   "metadata": {},
   "outputs": [
    {
     "data": {
      "text/plain": [
       "array([ 0,  1,  2,  3,  4,  5,  6,  7,  8,  9, 10, 11, 12, 13, 14, 15])"
      ]
     },
     "execution_count": 27,
     "metadata": {},
     "output_type": "execute_result"
    }
   ],
   "source": [
    "E = np.arange(16)\n",
    "E"
   ]
  },
  {
   "cell_type": "code",
   "execution_count": 49,
   "id": "5a57cde6",
   "metadata": {},
   "outputs": [
    {
     "data": {
      "text/plain": [
       "array([[ 0,  1,  2,  3],\n",
       "       [ 4,  5,  6,  7],\n",
       "       [ 8,  9, 10, 11],\n",
       "       [12, 13, 14, 15]])"
      ]
     },
     "execution_count": 49,
     "metadata": {},
     "output_type": "execute_result"
    }
   ],
   "source": [
    "F = E.reshape((4,4))\n",
    "F"
   ]
  },
  {
   "cell_type": "markdown",
   "id": "34dfec19-4990-4d62-b835-0afc69573084",
   "metadata": {},
   "source": [
    "### Exercise 8:\n",
    "Find the data type of the elements in a NumPy array.\n",
    "\n",
    "```python\n",
    "# Exercise 8\n",
    "```\n",
    "\n",
    "---"
   ]
  },
  {
   "cell_type": "code",
   "execution_count": 30,
   "id": "0247fe6a",
   "metadata": {},
   "outputs": [
    {
     "data": {
      "text/plain": [
       "dtype('int64')"
      ]
     },
     "execution_count": 30,
     "metadata": {},
     "output_type": "execute_result"
    }
   ],
   "source": [
    "F.dtype"
   ]
  },
  {
   "cell_type": "markdown",
   "id": "c1e375f4",
   "metadata": {},
   "source": [
    "### Exercise 9:\n",
    "Create a NumPy array of integers from 1 to 100 and find all even numbers in the array.\n",
    "\n",
    "```python\n",
    "# Exercise 9\n",
    "```\n",
    "\n",
    "---"
   ]
  },
  {
   "cell_type": "code",
   "execution_count": 34,
   "id": "ebed2d7b",
   "metadata": {},
   "outputs": [
    {
     "data": {
      "text/plain": [
       "array([  2,   4,   6,   8,  10,  12,  14,  16,  18,  20,  22,  24,  26,\n",
       "        28,  30,  32,  34,  36,  38,  40,  42,  44,  46,  48,  50,  52,\n",
       "        54,  56,  58,  60,  62,  64,  66,  68,  70,  72,  74,  76,  78,\n",
       "        80,  82,  84,  86,  88,  90,  92,  94,  96,  98, 100])"
      ]
     },
     "execution_count": 34,
     "metadata": {},
     "output_type": "execute_result"
    }
   ],
   "source": [
    "G = np.arange(2,102,2)\n",
    "G"
   ]
  },
  {
   "cell_type": "code",
   "execution_count": 33,
   "id": "284b1c02",
   "metadata": {},
   "outputs": [
    {
     "data": {
      "text/plain": [
       "[2,\n",
       " 4,\n",
       " 6,\n",
       " 8,\n",
       " 10,\n",
       " 12,\n",
       " 14,\n",
       " 16,\n",
       " 18,\n",
       " 20,\n",
       " 22,\n",
       " 24,\n",
       " 26,\n",
       " 28,\n",
       " 30,\n",
       " 32,\n",
       " 34,\n",
       " 36,\n",
       " 38,\n",
       " 40,\n",
       " 42,\n",
       " 44,\n",
       " 46,\n",
       " 48,\n",
       " 50,\n",
       " 52,\n",
       " 54,\n",
       " 56,\n",
       " 58,\n",
       " 60,\n",
       " 62,\n",
       " 64,\n",
       " 66,\n",
       " 68,\n",
       " 70,\n",
       " 72,\n",
       " 74,\n",
       " 76,\n",
       " 78,\n",
       " 80,\n",
       " 82,\n",
       " 84,\n",
       " 86,\n",
       " 88,\n",
       " 90,\n",
       " 92,\n",
       " 94,\n",
       " 96,\n",
       " 98,\n",
       " 100]"
      ]
     },
     "execution_count": 33,
     "metadata": {},
     "output_type": "execute_result"
    }
   ],
   "source": [
    "#list\n",
    "h = [x for x in np.arange(1,101) if x % 2 == 0]\n",
    "h"
   ]
  },
  {
   "cell_type": "markdown",
   "id": "e8b5ddfb",
   "metadata": {},
   "source": [
    "### Exercise 10:\n",
    "Generate a 6x6 matrix of random integers between 10 and 50.\n",
    "\n",
    "```python\n",
    "# Exercise 10\n",
    "```\n",
    "\n",
    "---"
   ]
  },
  {
   "cell_type": "code",
   "execution_count": 35,
   "id": "3cfe6c58",
   "metadata": {},
   "outputs": [
    {
     "data": {
      "text/plain": [
       "array([[26, 15, 25, 10, 28, 45],\n",
       "       [34, 39, 29, 29, 24, 49],\n",
       "       [42, 11, 19, 42, 41, 20],\n",
       "       [33, 45, 21, 38, 44, 10],\n",
       "       [10, 46, 15, 48, 27, 25],\n",
       "       [14, 41, 11, 11, 49, 45]])"
      ]
     },
     "execution_count": 35,
     "metadata": {},
     "output_type": "execute_result"
    }
   ],
   "source": [
    "I = np.random.randint(10, 50, (6,6))\n",
    "I"
   ]
  },
  {
   "cell_type": "markdown",
   "id": "961759df-5196-405b-a11b-baa657547dc1",
   "metadata": {},
   "source": [
    "### Exercise 11:\n",
    "Slice a 2D NumPy array to extract a submatrix.\n",
    "\n",
    "```python\n",
    "# Exercise 11\n",
    "```\n",
    "\n",
    "---"
   ]
  },
  {
   "cell_type": "code",
   "execution_count": 39,
   "id": "815d94d1",
   "metadata": {},
   "outputs": [
    {
     "data": {
      "text/plain": [
       "array([[14, 16],\n",
       "       [14, 14]])"
      ]
     },
     "execution_count": 39,
     "metadata": {},
     "output_type": "execute_result"
    }
   ],
   "source": [
    "J = np.random.randint(10, 20, (2,2))\n",
    "J"
   ]
  },
  {
   "cell_type": "code",
   "execution_count": 40,
   "id": "4279bb0d",
   "metadata": {},
   "outputs": [
    {
     "name": "stdout",
     "output_type": "stream",
     "text": [
      "[[14 16]]\n"
     ]
    }
   ],
   "source": [
    "j = J[:1]\n",
    "print(j)"
   ]
  },
  {
   "cell_type": "markdown",
   "id": "fc919f65",
   "metadata": {},
   "source": [
    "### Exercise 12:\n",
    "Calculate the sum of all elements in a NumPy array.\n",
    "\n",
    "```python\n",
    "# Exercise 12\n",
    "```\n",
    "\n",
    "---"
   ]
  },
  {
   "cell_type": "code",
   "execution_count": 52,
   "id": "55192fbe",
   "metadata": {},
   "outputs": [
    {
     "name": "stdout",
     "output_type": "stream",
     "text": [
      "Help on function sum in module numpy:\n",
      "\n",
      "sum(a, axis=None, dtype=None, out=None, keepdims=<no value>, initial=<no value>, where=<no value>)\n",
      "    Sum of array elements over a given axis.\n",
      "    \n",
      "    Parameters\n",
      "    ----------\n",
      "    a : array_like\n",
      "        Elements to sum.\n",
      "    axis : None or int or tuple of ints, optional\n",
      "        Axis or axes along which a sum is performed.  The default,\n",
      "        axis=None, will sum all of the elements of the input array.  If\n",
      "        axis is negative it counts from the last to the first axis.\n",
      "    \n",
      "        .. versionadded:: 1.7.0\n",
      "    \n",
      "        If axis is a tuple of ints, a sum is performed on all of the axes\n",
      "        specified in the tuple instead of a single axis or all the axes as\n",
      "        before.\n",
      "    dtype : dtype, optional\n",
      "        The type of the returned array and of the accumulator in which the\n",
      "        elements are summed.  The dtype of `a` is used by default unless `a`\n",
      "        has an integer dtype of less precision than the default platform\n",
      "        integer.  In that case, if `a` is signed then the platform integer\n",
      "        is used while if `a` is unsigned then an unsigned integer of the\n",
      "        same precision as the platform integer is used.\n",
      "    out : ndarray, optional\n",
      "        Alternative output array in which to place the result. It must have\n",
      "        the same shape as the expected output, but the type of the output\n",
      "        values will be cast if necessary.\n",
      "    keepdims : bool, optional\n",
      "        If this is set to True, the axes which are reduced are left\n",
      "        in the result as dimensions with size one. With this option,\n",
      "        the result will broadcast correctly against the input array.\n",
      "    \n",
      "        If the default value is passed, then `keepdims` will not be\n",
      "        passed through to the `sum` method of sub-classes of\n",
      "        `ndarray`, however any non-default value will be.  If the\n",
      "        sub-class' method does not implement `keepdims` any\n",
      "        exceptions will be raised.\n",
      "    initial : scalar, optional\n",
      "        Starting value for the sum. See `~numpy.ufunc.reduce` for details.\n",
      "    \n",
      "        .. versionadded:: 1.15.0\n",
      "    \n",
      "    where : array_like of bool, optional\n",
      "        Elements to include in the sum. See `~numpy.ufunc.reduce` for details.\n",
      "    \n",
      "        .. versionadded:: 1.17.0\n",
      "    \n",
      "    Returns\n",
      "    -------\n",
      "    sum_along_axis : ndarray\n",
      "        An array with the same shape as `a`, with the specified\n",
      "        axis removed.   If `a` is a 0-d array, or if `axis` is None, a scalar\n",
      "        is returned.  If an output array is specified, a reference to\n",
      "        `out` is returned.\n",
      "    \n",
      "    See Also\n",
      "    --------\n",
      "    ndarray.sum : Equivalent method.\n",
      "    \n",
      "    add.reduce : Equivalent functionality of `add`.\n",
      "    \n",
      "    cumsum : Cumulative sum of array elements.\n",
      "    \n",
      "    trapz : Integration of array values using the composite trapezoidal rule.\n",
      "    \n",
      "    mean, average\n",
      "    \n",
      "    Notes\n",
      "    -----\n",
      "    Arithmetic is modular when using integer types, and no error is\n",
      "    raised on overflow.\n",
      "    \n",
      "    The sum of an empty array is the neutral element 0:\n",
      "    \n",
      "    >>> np.sum([])\n",
      "    0.0\n",
      "    \n",
      "    For floating point numbers the numerical precision of sum (and\n",
      "    ``np.add.reduce``) is in general limited by directly adding each number\n",
      "    individually to the result causing rounding errors in every step.\n",
      "    However, often numpy will use a  numerically better approach (partial\n",
      "    pairwise summation) leading to improved precision in many use-cases.\n",
      "    This improved precision is always provided when no ``axis`` is given.\n",
      "    When ``axis`` is given, it will depend on which axis is summed.\n",
      "    Technically, to provide the best speed possible, the improved precision\n",
      "    is only used when the summation is along the fast axis in memory.\n",
      "    Note that the exact precision may vary depending on other parameters.\n",
      "    In contrast to NumPy, Python's ``math.fsum`` function uses a slower but\n",
      "    more precise approach to summation.\n",
      "    Especially when summing a large number of lower precision floating point\n",
      "    numbers, such as ``float32``, numerical errors can become significant.\n",
      "    In such cases it can be advisable to use `dtype=\"float64\"` to use a higher\n",
      "    precision for the output.\n",
      "    \n",
      "    Examples\n",
      "    --------\n",
      "    >>> np.sum([0.5, 1.5])\n",
      "    2.0\n",
      "    >>> np.sum([0.5, 0.7, 0.2, 1.5], dtype=np.int32)\n",
      "    1\n",
      "    >>> np.sum([[0, 1], [0, 5]])\n",
      "    6\n",
      "    >>> np.sum([[0, 1], [0, 5]], axis=0)\n",
      "    array([0, 6])\n",
      "    >>> np.sum([[0, 1], [0, 5]], axis=1)\n",
      "    array([1, 5])\n",
      "    >>> np.sum([[0, 1], [np.nan, 5]], where=[False, True], axis=1)\n",
      "    array([1., 5.])\n",
      "    \n",
      "    If the accumulator is too small, overflow occurs:\n",
      "    \n",
      "    >>> np.ones(128, dtype=np.int8).sum(dtype=np.int8)\n",
      "    -128\n",
      "    \n",
      "    You can also start the sum with a value other than zero:\n",
      "    \n",
      "    >>> np.sum([10], initial=5)\n",
      "    15\n",
      "\n"
     ]
    }
   ],
   "source": [
    "help(np.sum)"
   ]
  },
  {
   "cell_type": "code",
   "execution_count": 53,
   "id": "0d82a198",
   "metadata": {},
   "outputs": [
    {
     "name": "stdout",
     "output_type": "stream",
     "text": [
      "6.490685409741845\n"
     ]
    }
   ],
   "source": [
    "print(np.sum(d))"
   ]
  },
  {
   "cell_type": "code",
   "execution_count": 54,
   "id": "de82eb52",
   "metadata": {},
   "outputs": [
    {
     "name": "stdout",
     "output_type": "stream",
     "text": [
      "120\n"
     ]
    }
   ],
   "source": [
    "print(np.sum(F))"
   ]
  },
  {
   "cell_type": "markdown",
   "id": "adad696c",
   "metadata": {},
   "source": [
    "### Exercise 13:\n",
    "Calculate the mean, median, and standard deviation of a NumPy array.\n",
    "\n",
    "```python\n",
    "# Exercise 13\n",
    "```\n",
    "\n",
    "---"
   ]
  },
  {
   "cell_type": "code",
   "execution_count": 60,
   "id": "e1c6565b",
   "metadata": {},
   "outputs": [
    {
     "data": {
      "text/plain": [
       "7.5"
      ]
     },
     "execution_count": 60,
     "metadata": {},
     "output_type": "execute_result"
    }
   ],
   "source": [
    "#mean\n",
    "np.mean(F)"
   ]
  },
  {
   "cell_type": "code",
   "execution_count": 61,
   "id": "b98b8ca7",
   "metadata": {},
   "outputs": [
    {
     "data": {
      "text/plain": [
       "7.5"
      ]
     },
     "execution_count": 61,
     "metadata": {},
     "output_type": "execute_result"
    }
   ],
   "source": [
    "#MEDIAN\n",
    "np.median(F)"
   ]
  },
  {
   "cell_type": "code",
   "execution_count": 62,
   "id": "c94e12ed",
   "metadata": {},
   "outputs": [
    {
     "data": {
      "text/plain": [
       "4.6097722286464435"
      ]
     },
     "execution_count": 62,
     "metadata": {},
     "output_type": "execute_result"
    }
   ],
   "source": [
    "np.std(F)"
   ]
  },
  {
   "cell_type": "markdown",
   "id": "178905e4-6c7b-4fc4-8bc3-b70bbffa49fb",
   "metadata": {},
   "source": [
    "### Exercise 14:\n",
    "Find the maximum and minimum values in a NumPy array.\n",
    "\n",
    "```python\n",
    "# Exercise 14\n",
    "```\n",
    "\n",
    "---"
   ]
  },
  {
   "cell_type": "code",
   "execution_count": 63,
   "id": "fd1bbd65",
   "metadata": {},
   "outputs": [
    {
     "data": {
      "text/plain": [
       "15"
      ]
     },
     "execution_count": 63,
     "metadata": {},
     "output_type": "execute_result"
    }
   ],
   "source": [
    "#Maximum value\n",
    "np.max(F)"
   ]
  },
  {
   "cell_type": "code",
   "execution_count": 64,
   "id": "b715aaf6",
   "metadata": {},
   "outputs": [
    {
     "data": {
      "text/plain": [
       "0"
      ]
     },
     "execution_count": 64,
     "metadata": {},
     "output_type": "execute_result"
    }
   ],
   "source": [
    "#Minimum value\n",
    "np.min(F)"
   ]
  },
  {
   "cell_type": "markdown",
   "id": "4de3de62-324b-44e8-b0cb-3c2a7f29eb0e",
   "metadata": {},
   "source": [
    "### Exercise 15:\n",
    "Create a NumPy array of 20 random integers and find the index of the maximum value.\n",
    "\n",
    "```python\n",
    "# Exercise 15\n",
    "```\n",
    "\n",
    "---"
   ]
  },
  {
   "cell_type": "code",
   "execution_count": 69,
   "id": "05bf9983",
   "metadata": {},
   "outputs": [
    {
     "data": {
      "text/plain": [
       "array([12, 13, 10, 10, 16, 10, 16, 13, 13, 18, 18, 18, 12, 13, 12, 10, 18,\n",
       "       18, 13, 18])"
      ]
     },
     "execution_count": 69,
     "metadata": {},
     "output_type": "execute_result"
    }
   ],
   "source": [
    "K = np.random.randint(10, 20, (20))\n",
    "K"
   ]
  },
  {
   "cell_type": "code",
   "execution_count": 70,
   "id": "d8e158ef",
   "metadata": {},
   "outputs": [
    {
     "data": {
      "text/plain": [
       "9"
      ]
     },
     "execution_count": 70,
     "metadata": {},
     "output_type": "execute_result"
    }
   ],
   "source": [
    "np.argmax(K)"
   ]
  },
  {
   "cell_type": "markdown",
   "id": "15701e48",
   "metadata": {},
   "source": [
    "### Exercise 16:\n",
    "Create a NumPy array and reverse its elements.\n",
    "\n",
    "```python\n",
    "# Exercise 16\n",
    "```\n",
    "\n",
    "---"
   ]
  },
  {
   "cell_type": "code",
   "execution_count": 74,
   "id": "1b8c095b",
   "metadata": {},
   "outputs": [
    {
     "data": {
      "text/plain": [
       "array([ 7,  5,  1,  9,  2, 17, 15, 17, 12, 14, 14, 12, 14,  4,  5,  1, 15,\n",
       "       13,  4,  3])"
      ]
     },
     "execution_count": 74,
     "metadata": {},
     "output_type": "execute_result"
    }
   ],
   "source": [
    "L = np.random.randint(1, 20, (20))\n",
    "np.flip(L)"
   ]
  },
  {
   "cell_type": "markdown",
   "id": "576d3b83",
   "metadata": {},
   "source": [
    "### Exercise 17:\n",
    "Create a 3x3 matrix and multiply it element-wise by another 3x3 matrix.\n",
    "\n",
    "```python\n",
    "# Exercise 17\n",
    "```\n",
    "\n",
    "---"
   ]
  },
  {
   "cell_type": "code",
   "execution_count": 77,
   "id": "1b01b536",
   "metadata": {},
   "outputs": [
    {
     "name": "stdout",
     "output_type": "stream",
     "text": [
      "[[ 42  64  54]\n",
      " [ 36  15  48]\n",
      " [ 36  88 120]]\n"
     ]
    }
   ],
   "source": [
    "M = np.random.randint(1, 20, (3,3))\n",
    "N = np.random.randint(1, 20, (3,3))\n",
    "print(M * N)"
   ]
  },
  {
   "cell_type": "markdown",
   "id": "2a3b53f6-2916-4ab4-a05b-6519fbd1fe37",
   "metadata": {},
   "source": [
    "### Exercise 18:\n",
    "Create a diagonal matrix from a given 1D array.\n",
    "\n",
    "```python\n",
    "# Exercise 18\n",
    "```\n",
    "\n",
    "---"
   ]
  },
  {
   "cell_type": "code",
   "execution_count": 85,
   "id": "89e84131",
   "metadata": {},
   "outputs": [
    {
     "name": "stdout",
     "output_type": "stream",
     "text": [
      "[17  4  8  4 19 18  2 19 18  3]\n"
     ]
    },
    {
     "data": {
      "text/plain": [
       "array([[17,  0,  0,  0,  0,  0,  0,  0,  0,  0],\n",
       "       [ 0,  4,  0,  0,  0,  0,  0,  0,  0,  0],\n",
       "       [ 0,  0,  8,  0,  0,  0,  0,  0,  0,  0],\n",
       "       [ 0,  0,  0,  4,  0,  0,  0,  0,  0,  0],\n",
       "       [ 0,  0,  0,  0, 19,  0,  0,  0,  0,  0],\n",
       "       [ 0,  0,  0,  0,  0, 18,  0,  0,  0,  0],\n",
       "       [ 0,  0,  0,  0,  0,  0,  2,  0,  0,  0],\n",
       "       [ 0,  0,  0,  0,  0,  0,  0, 19,  0,  0],\n",
       "       [ 0,  0,  0,  0,  0,  0,  0,  0, 18,  0],\n",
       "       [ 0,  0,  0,  0,  0,  0,  0,  0,  0,  3]])"
      ]
     },
     "execution_count": 85,
     "metadata": {},
     "output_type": "execute_result"
    }
   ],
   "source": [
    "Q = np.random.randint(1, 20, (10))\n",
    "print(Q)\n",
    "np.diag(Q)"
   ]
  },
  {
   "cell_type": "code",
   "execution_count": 86,
   "id": "878766d8",
   "metadata": {},
   "outputs": [
    {
     "name": "stdout",
     "output_type": "stream",
     "text": [
      "[ 6  6 13 13  3 16  8  8 12 18]\n"
     ]
    },
    {
     "data": {
      "text/plain": [
       "array([[ 0,  0,  6,  0,  0,  0,  0,  0,  0,  0,  0,  0],\n",
       "       [ 0,  0,  0,  6,  0,  0,  0,  0,  0,  0,  0,  0],\n",
       "       [ 0,  0,  0,  0, 13,  0,  0,  0,  0,  0,  0,  0],\n",
       "       [ 0,  0,  0,  0,  0, 13,  0,  0,  0,  0,  0,  0],\n",
       "       [ 0,  0,  0,  0,  0,  0,  3,  0,  0,  0,  0,  0],\n",
       "       [ 0,  0,  0,  0,  0,  0,  0, 16,  0,  0,  0,  0],\n",
       "       [ 0,  0,  0,  0,  0,  0,  0,  0,  8,  0,  0,  0],\n",
       "       [ 0,  0,  0,  0,  0,  0,  0,  0,  0,  8,  0,  0],\n",
       "       [ 0,  0,  0,  0,  0,  0,  0,  0,  0,  0, 12,  0],\n",
       "       [ 0,  0,  0,  0,  0,  0,  0,  0,  0,  0,  0, 18],\n",
       "       [ 0,  0,  0,  0,  0,  0,  0,  0,  0,  0,  0,  0],\n",
       "       [ 0,  0,  0,  0,  0,  0,  0,  0,  0,  0,  0,  0]])"
      ]
     },
     "execution_count": 86,
     "metadata": {},
     "output_type": "execute_result"
    }
   ],
   "source": [
    "q = np.random.randint(1, 20, (10))\n",
    "print(q)\n",
    "np.diag(q, k=2)"
   ]
  },
  {
   "cell_type": "code",
   "execution_count": 84,
   "id": "96be8730",
   "metadata": {},
   "outputs": [
    {
     "name": "stdout",
     "output_type": "stream",
     "text": [
      "Help on function diag in module numpy:\n",
      "\n",
      "diag(v, k=0)\n",
      "    Extract a diagonal or construct a diagonal array.\n",
      "    \n",
      "    See the more detailed documentation for ``numpy.diagonal`` if you use this\n",
      "    function to extract a diagonal and wish to write to the resulting array;\n",
      "    whether it returns a copy or a view depends on what version of numpy you\n",
      "    are using.\n",
      "    \n",
      "    Parameters\n",
      "    ----------\n",
      "    v : array_like\n",
      "        If `v` is a 2-D array, return a copy of its `k`-th diagonal.\n",
      "        If `v` is a 1-D array, return a 2-D array with `v` on the `k`-th\n",
      "        diagonal.\n",
      "    k : int, optional\n",
      "        Diagonal in question. The default is 0. Use `k>0` for diagonals\n",
      "        above the main diagonal, and `k<0` for diagonals below the main\n",
      "        diagonal.\n",
      "    \n",
      "    Returns\n",
      "    -------\n",
      "    out : ndarray\n",
      "        The extracted diagonal or constructed diagonal array.\n",
      "    \n",
      "    See Also\n",
      "    --------\n",
      "    diagonal : Return specified diagonals.\n",
      "    diagflat : Create a 2-D array with the flattened input as a diagonal.\n",
      "    trace : Sum along diagonals.\n",
      "    triu : Upper triangle of an array.\n",
      "    tril : Lower triangle of an array.\n",
      "    \n",
      "    Examples\n",
      "    --------\n",
      "    >>> x = np.arange(9).reshape((3,3))\n",
      "    >>> x\n",
      "    array([[0, 1, 2],\n",
      "           [3, 4, 5],\n",
      "           [6, 7, 8]])\n",
      "    \n",
      "    >>> np.diag(x)\n",
      "    array([0, 4, 8])\n",
      "    >>> np.diag(x, k=1)\n",
      "    array([1, 5])\n",
      "    >>> np.diag(x, k=-1)\n",
      "    array([3, 7])\n",
      "    \n",
      "    >>> np.diag(np.diag(x))\n",
      "    array([[0, 0, 0],\n",
      "           [0, 4, 0],\n",
      "           [0, 0, 8]])\n",
      "\n"
     ]
    }
   ],
   "source": [
    "help(np.diag)"
   ]
  },
  {
   "cell_type": "markdown",
   "id": "8a3ddfe4",
   "metadata": {},
   "source": [
    "### Exercise 19:\n",
    "Perform matrix multiplication on two 2D NumPy arrays.\n",
    "\n",
    "```python\n",
    "# Exercise 19\n",
    "```\n",
    "\n",
    "---"
   ]
  },
  {
   "cell_type": "code",
   "execution_count": 83,
   "id": "8580cd74",
   "metadata": {},
   "outputs": [
    {
     "name": "stdout",
     "output_type": "stream",
     "text": [
      "Matrix O =  [[17  9]\n",
      " [ 2 18]]\n",
      "Matrix P =  [[17  4]\n",
      " [ 9  5]]\n",
      "Matrix Multiplication\n",
      "[[370 113]\n",
      " [196  98]]\n"
     ]
    }
   ],
   "source": [
    "O = np.random.randint(1, 20, (2,2))\n",
    "P = np.random.randint(1, 20, (2,2))\n",
    "print(\"Matrix O = \", (O))\n",
    "print(\"Matrix P = \", (P))\n",
    "print(\"Matrix Multiplication\")\n",
    "print(np.dot(O,P))"
   ]
  },
  {
   "cell_type": "markdown",
   "id": "f3d10b71",
   "metadata": {},
   "source": [
    "### Exercise 20:\n",
    "Flatten a 2D NumPy array into a 1D array.\n",
    "\n",
    "```python\n",
    "# Exercise 20\n",
    "```\n",
    "\n",
    "---"
   ]
  },
  {
   "cell_type": "code",
   "execution_count": 89,
   "id": "9f110eb5",
   "metadata": {},
   "outputs": [
    {
     "name": "stdout",
     "output_type": "stream",
     "text": [
      "[[0.31179588 0.69634349]\n",
      " [0.37775184 0.17960368]]\n"
     ]
    },
    {
     "data": {
      "text/plain": [
       "array([0.31179588, 0.69634349, 0.37775184, 0.17960368])"
      ]
     },
     "execution_count": 89,
     "metadata": {},
     "output_type": "execute_result"
    }
   ],
   "source": [
    "R = np.random.rand(2,2)\n",
    "print(R)\n",
    "np.ravel(R)"
   ]
  },
  {
   "cell_type": "code",
   "execution_count": 88,
   "id": "4f58fa9d",
   "metadata": {},
   "outputs": [
    {
     "name": "stdout",
     "output_type": "stream",
     "text": [
      "Help on function ravel in module numpy:\n",
      "\n",
      "ravel(a, order='C')\n",
      "    Return a contiguous flattened array.\n",
      "    \n",
      "    A 1-D array, containing the elements of the input, is returned.  A copy is\n",
      "    made only if needed.\n",
      "    \n",
      "    As of NumPy 1.10, the returned array will have the same type as the input\n",
      "    array. (for example, a masked array will be returned for a masked array\n",
      "    input)\n",
      "    \n",
      "    Parameters\n",
      "    ----------\n",
      "    a : array_like\n",
      "        Input array.  The elements in `a` are read in the order specified by\n",
      "        `order`, and packed as a 1-D array.\n",
      "    order : {'C','F', 'A', 'K'}, optional\n",
      "    \n",
      "        The elements of `a` are read using this index order. 'C' means\n",
      "        to index the elements in row-major, C-style order,\n",
      "        with the last axis index changing fastest, back to the first\n",
      "        axis index changing slowest.  'F' means to index the elements\n",
      "        in column-major, Fortran-style order, with the\n",
      "        first index changing fastest, and the last index changing\n",
      "        slowest. Note that the 'C' and 'F' options take no account of\n",
      "        the memory layout of the underlying array, and only refer to\n",
      "        the order of axis indexing.  'A' means to read the elements in\n",
      "        Fortran-like index order if `a` is Fortran *contiguous* in\n",
      "        memory, C-like order otherwise.  'K' means to read the\n",
      "        elements in the order they occur in memory, except for\n",
      "        reversing the data when strides are negative.  By default, 'C'\n",
      "        index order is used.\n",
      "    \n",
      "    Returns\n",
      "    -------\n",
      "    y : array_like\n",
      "        y is an array of the same subtype as `a`, with shape ``(a.size,)``.\n",
      "        Note that matrices are special cased for backward compatibility, if `a`\n",
      "        is a matrix, then y is a 1-D ndarray.\n",
      "    \n",
      "    See Also\n",
      "    --------\n",
      "    ndarray.flat : 1-D iterator over an array.\n",
      "    ndarray.flatten : 1-D array copy of the elements of an array\n",
      "                      in row-major order.\n",
      "    ndarray.reshape : Change the shape of an array without changing its data.\n",
      "    \n",
      "    Notes\n",
      "    -----\n",
      "    In row-major, C-style order, in two dimensions, the row index\n",
      "    varies the slowest, and the column index the quickest.  This can\n",
      "    be generalized to multiple dimensions, where row-major order\n",
      "    implies that the index along the first axis varies slowest, and\n",
      "    the index along the last quickest.  The opposite holds for\n",
      "    column-major, Fortran-style index ordering.\n",
      "    \n",
      "    When a view is desired in as many cases as possible, ``arr.reshape(-1)``\n",
      "    may be preferable.\n",
      "    \n",
      "    Examples\n",
      "    --------\n",
      "    It is equivalent to ``reshape(-1, order=order)``.\n",
      "    \n",
      "    >>> x = np.array([[1, 2, 3], [4, 5, 6]])\n",
      "    >>> np.ravel(x)\n",
      "    array([1, 2, 3, 4, 5, 6])\n",
      "    \n",
      "    >>> x.reshape(-1)\n",
      "    array([1, 2, 3, 4, 5, 6])\n",
      "    \n",
      "    >>> np.ravel(x, order='F')\n",
      "    array([1, 4, 2, 5, 3, 6])\n",
      "    \n",
      "    When ``order`` is 'A', it will preserve the array's 'C' or 'F' ordering:\n",
      "    \n",
      "    >>> np.ravel(x.T)\n",
      "    array([1, 4, 2, 5, 3, 6])\n",
      "    >>> np.ravel(x.T, order='A')\n",
      "    array([1, 2, 3, 4, 5, 6])\n",
      "    \n",
      "    When ``order`` is 'K', it will preserve orderings that are neither 'C'\n",
      "    nor 'F', but won't reverse axes:\n",
      "    \n",
      "    >>> a = np.arange(3)[::-1]; a\n",
      "    array([2, 1, 0])\n",
      "    >>> a.ravel(order='C')\n",
      "    array([2, 1, 0])\n",
      "    >>> a.ravel(order='K')\n",
      "    array([2, 1, 0])\n",
      "    \n",
      "    >>> a = np.arange(12).reshape(2,3,2).swapaxes(1,2); a\n",
      "    array([[[ 0,  2,  4],\n",
      "            [ 1,  3,  5]],\n",
      "           [[ 6,  8, 10],\n",
      "            [ 7,  9, 11]]])\n",
      "    >>> a.ravel(order='C')\n",
      "    array([ 0,  2,  4,  1,  3,  5,  6,  8, 10,  7,  9, 11])\n",
      "    >>> a.ravel(order='K')\n",
      "    array([ 0,  1,  2,  3,  4,  5,  6,  7,  8,  9, 10, 11])\n",
      "\n"
     ]
    }
   ],
   "source": [
    "help(np.ravel)\n"
   ]
  },
  {
   "cell_type": "code",
   "execution_count": null,
   "id": "1d9fb288",
   "metadata": {},
   "outputs": [],
   "source": [
    "### Exercise 21:\n",
    "Stack two NumPy arrays vertically.\n",
    "\n",
    "```python\n",
    "# Exercise 21\n",
    "```\n",
    "\n",
    "---"
   ]
  },
  {
   "cell_type": "code",
   "execution_count": 91,
   "id": "24f5902b",
   "metadata": {},
   "outputs": [
    {
     "name": "stdout",
     "output_type": "stream",
     "text": [
      "[[15 10 19]\n",
      " [ 1 10 12]\n",
      " [18 10  1]]\n",
      "[[17 11  5]\n",
      " [ 4  9 15]\n",
      " [ 1  9  8]]\n"
     ]
    },
    {
     "data": {
      "text/plain": [
       "array([[15, 10, 19],\n",
       "       [ 1, 10, 12],\n",
       "       [18, 10,  1],\n",
       "       [17, 11,  5],\n",
       "       [ 4,  9, 15],\n",
       "       [ 1,  9,  8]])"
      ]
     },
     "execution_count": 91,
     "metadata": {},
     "output_type": "execute_result"
    }
   ],
   "source": [
    "r = np.random.randint(1, 20, (3,3))\n",
    "s = np.random.randint(1, 20, (3,3))\n",
    "print(r)\n",
    "print(s)\n",
    "np.vstack((r,s))"
   ]
  },
  {
   "cell_type": "markdown",
   "id": "f6e6006b-c1be-4629-8b95-1c6266dc1024",
   "metadata": {},
   "source": [
    "Exercise 22:\n",
    "\n",
    "Stack two NumPy arrays horizontally.\n",
    "\n",
    "# Exercise 22\n"
   ]
  },
  {
   "cell_type": "code",
   "execution_count": 92,
   "id": "8e070fee",
   "metadata": {},
   "outputs": [
    {
     "name": "stdout",
     "output_type": "stream",
     "text": [
      "[[14 18  1]\n",
      " [12  5  1]\n",
      " [11 15 19]]\n",
      "[[ 5  4  8]\n",
      " [ 9 14  6]\n",
      " [ 1  9 16]]\n"
     ]
    },
    {
     "data": {
      "text/plain": [
       "array([[14, 18,  1,  5,  4,  8],\n",
       "       [12,  5,  1,  9, 14,  6],\n",
       "       [11, 15, 19,  1,  9, 16]])"
      ]
     },
     "execution_count": 92,
     "metadata": {},
     "output_type": "execute_result"
    }
   ],
   "source": [
    "r1 = np.random.randint(1, 20, (3,3))\n",
    "s1 = np.random.randint(1, 20, (3,3))\n",
    "print(r1)\n",
    "print(s1)\n",
    "np.hstack((r1,s1))"
   ]
  },
  {
   "cell_type": "code",
   "execution_count": 90,
   "id": "87b623b0",
   "metadata": {},
   "outputs": [
    {
     "name": "stdout",
     "output_type": "stream",
     "text": [
      "Help on function vstack in module numpy:\n",
      "\n",
      "vstack(tup)\n",
      "    Stack arrays in sequence vertically (row wise).\n",
      "    \n",
      "    This is equivalent to concatenation along the first axis after 1-D arrays\n",
      "    of shape `(N,)` have been reshaped to `(1,N)`. Rebuilds arrays divided by\n",
      "    `vsplit`.\n",
      "    \n",
      "    This function makes most sense for arrays with up to 3 dimensions. For\n",
      "    instance, for pixel-data with a height (first axis), width (second axis),\n",
      "    and r/g/b channels (third axis). The functions `concatenate`, `stack` and\n",
      "    `block` provide more general stacking and concatenation operations.\n",
      "    \n",
      "    Parameters\n",
      "    ----------\n",
      "    tup : sequence of ndarrays\n",
      "        The arrays must have the same shape along all but the first axis.\n",
      "        1-D arrays must have the same length.\n",
      "    \n",
      "    Returns\n",
      "    -------\n",
      "    stacked : ndarray\n",
      "        The array formed by stacking the given arrays, will be at least 2-D.\n",
      "    \n",
      "    See Also\n",
      "    --------\n",
      "    concatenate : Join a sequence of arrays along an existing axis.\n",
      "    stack : Join a sequence of arrays along a new axis.\n",
      "    block : Assemble an nd-array from nested lists of blocks.\n",
      "    hstack : Stack arrays in sequence horizontally (column wise).\n",
      "    dstack : Stack arrays in sequence depth wise (along third axis).\n",
      "    column_stack : Stack 1-D arrays as columns into a 2-D array.\n",
      "    vsplit : Split an array into multiple sub-arrays vertically (row-wise).\n",
      "    \n",
      "    Examples\n",
      "    --------\n",
      "    >>> a = np.array([1, 2, 3])\n",
      "    >>> b = np.array([2, 3, 4])\n",
      "    >>> np.vstack((a,b))\n",
      "    array([[1, 2, 3],\n",
      "           [2, 3, 4]])\n",
      "    \n",
      "    >>> a = np.array([[1], [2], [3]])\n",
      "    >>> b = np.array([[2], [3], [4]])\n",
      "    >>> np.vstack((a,b))\n",
      "    array([[1],\n",
      "           [2],\n",
      "           [3],\n",
      "           [2],\n",
      "           [3],\n",
      "           [4]])\n",
      "\n"
     ]
    }
   ],
   "source": [
    "help(np.vstack)"
   ]
  },
  {
   "cell_type": "markdown",
   "id": "c609100b-05d1-48b4-8e78-e8b393383feb",
   "metadata": {},
   "source": [
    "### Exercise 23:\n",
    "Split a NumPy array into multiple sub-arrays.\n",
    "\n",
    "```python\n",
    "# Exercise 23\n",
    "```\n",
    "\n",
    "---"
   ]
  },
  {
   "cell_type": "code",
   "execution_count": 11,
   "id": "317f5ffd-3c77-4d66-9a46-f74ebeaa5e83",
   "metadata": {},
   "outputs": [
    {
     "name": "stdout",
     "output_type": "stream",
     "text": [
      "[[11  8  7  5 14 17  2  4 10  1]\n",
      " [ 6 18  4  3 11 16 11 10  6  9]\n",
      " [15 13 17  5  3  8 11  1  6 19]\n",
      " [15  1 12  6  2  9 14 10 10  8]\n",
      " [18 14  3 14  5  4  8 17 11 12]\n",
      " [ 1  4  8  3 13 19 12 13  7 10]\n",
      " [19 19  5 13 14  9  7 15 13  5]\n",
      " [ 1 18 19  4  1 19 13 16  7 15]\n",
      " [ 3 13 12 11  3  6  1  4  4  4]\n",
      " [14 13  4 16  7 10  9  7 13  5]]\n"
     ]
    },
    {
     "data": {
      "text/plain": [
       "[array([[11,  8,  7,  5, 14, 17,  2,  4, 10,  1],\n",
       "        [ 6, 18,  4,  3, 11, 16, 11, 10,  6,  9]]),\n",
       " array([[15, 13, 17,  5,  3,  8, 11,  1,  6, 19],\n",
       "        [15,  1, 12,  6,  2,  9, 14, 10, 10,  8]]),\n",
       " array([[18, 14,  3, 14,  5,  4,  8, 17, 11, 12],\n",
       "        [ 1,  4,  8,  3, 13, 19, 12, 13,  7, 10]]),\n",
       " array([[19, 19,  5, 13, 14,  9,  7, 15, 13,  5],\n",
       "        [ 1, 18, 19,  4,  1, 19, 13, 16,  7, 15]]),\n",
       " array([[ 3, 13, 12, 11,  3,  6,  1,  4,  4,  4],\n",
       "        [14, 13,  4, 16,  7, 10,  9,  7, 13,  5]])]"
      ]
     },
     "execution_count": 11,
     "metadata": {},
     "output_type": "execute_result"
    }
   ],
   "source": [
    "T = np.random.randint(1, 20, (10,10))\n",
    "\n",
    "print(T)\n",
    "np.split(T, 5)"
   ]
  },
  {
   "cell_type": "code",
   "execution_count": 7,
   "id": "ea8f2473-19bd-46fe-81fe-840b90c0d911",
   "metadata": {},
   "outputs": [
    {
     "name": "stdout",
     "output_type": "stream",
     "text": [
      "Help on _ArrayFunctionDispatcher in module numpy:\n",
      "\n",
      "split(ary, indices_or_sections, axis=0)\n",
      "    Split an array into multiple sub-arrays as views into `ary`.\n",
      "\n",
      "    Parameters\n",
      "    ----------\n",
      "    ary : ndarray\n",
      "        Array to be divided into sub-arrays.\n",
      "    indices_or_sections : int or 1-D array\n",
      "        If `indices_or_sections` is an integer, N, the array will be divided\n",
      "        into N equal arrays along `axis`.  If such a split is not possible,\n",
      "        an error is raised.\n",
      "\n",
      "        If `indices_or_sections` is a 1-D array of sorted integers, the entries\n",
      "        indicate where along `axis` the array is split.  For example,\n",
      "        ``[2, 3]`` would, for ``axis=0``, result in\n",
      "\n",
      "          - ary[:2]\n",
      "          - ary[2:3]\n",
      "          - ary[3:]\n",
      "\n",
      "        If an index exceeds the dimension of the array along `axis`,\n",
      "        an empty sub-array is returned correspondingly.\n",
      "    axis : int, optional\n",
      "        The axis along which to split, default is 0.\n",
      "\n",
      "    Returns\n",
      "    -------\n",
      "    sub-arrays : list of ndarrays\n",
      "        A list of sub-arrays as views into `ary`.\n",
      "\n",
      "    Raises\n",
      "    ------\n",
      "    ValueError\n",
      "        If `indices_or_sections` is given as an integer, but\n",
      "        a split does not result in equal division.\n",
      "\n",
      "    See Also\n",
      "    --------\n",
      "    array_split : Split an array into multiple sub-arrays of equal or\n",
      "                  near-equal size.  Does not raise an exception if\n",
      "                  an equal division cannot be made.\n",
      "    hsplit : Split array into multiple sub-arrays horizontally (column-wise).\n",
      "    vsplit : Split array into multiple sub-arrays vertically (row wise).\n",
      "    dsplit : Split array into multiple sub-arrays along the 3rd axis (depth).\n",
      "    concatenate : Join a sequence of arrays along an existing axis.\n",
      "    stack : Join a sequence of arrays along a new axis.\n",
      "    hstack : Stack arrays in sequence horizontally (column wise).\n",
      "    vstack : Stack arrays in sequence vertically (row wise).\n",
      "    dstack : Stack arrays in sequence depth wise (along third dimension).\n",
      "\n",
      "    Examples\n",
      "    --------\n",
      "    >>> x = np.arange(9.0)\n",
      "    >>> np.split(x, 3)\n",
      "    [array([0.,  1.,  2.]), array([3.,  4.,  5.]), array([6.,  7.,  8.])]\n",
      "\n",
      "    >>> x = np.arange(8.0)\n",
      "    >>> np.split(x, [3, 5, 6, 10])\n",
      "    [array([0.,  1.,  2.]),\n",
      "     array([3.,  4.]),\n",
      "     array([5.]),\n",
      "     array([6.,  7.]),\n",
      "     array([], dtype=float64)]\n",
      "\n"
     ]
    }
   ],
   "source": [
    "help(np.split)\n"
   ]
  },
  {
   "cell_type": "code",
   "execution_count": null,
   "id": "337bf6fd",
   "metadata": {},
   "outputs": [],
   "source": [
    "### Exercise 24:\n",
    "Generate a random NumPy array and round each element to two decimal places.\n",
    "\n",
    "```python\n",
    "# Exercise 24\n",
    "```\n",
    "\n",
    "---"
   ]
  },
  {
   "cell_type": "code",
   "execution_count": 25,
   "id": "a58f55bb-639e-4e91-a082-04169209f349",
   "metadata": {},
   "outputs": [
    {
     "data": {
      "text/plain": [
       "array([[0.18, 0.08, 0.99, 0.81, 0.54],\n",
       "       [0.44, 0.38, 0.22, 0.67, 0.28],\n",
       "       [0.94, 0.03, 0.82, 0.71, 0.83],\n",
       "       [0.98, 0.15, 1.  , 0.56, 0.58],\n",
       "       [0.28, 0.74, 0.43, 0.24, 0.85]])"
      ]
     },
     "execution_count": 25,
     "metadata": {},
     "output_type": "execute_result"
    }
   ],
   "source": [
    "t = np.random.random((5,5))\n",
    "np.round(t, decimals=2)"
   ]
  },
  {
   "cell_type": "code",
   "execution_count": 14,
   "id": "847ded8a-4a5d-4c1b-97bf-c643894a4f1e",
   "metadata": {},
   "outputs": [
    {
     "name": "stdout",
     "output_type": "stream",
     "text": [
      "Help on _ArrayFunctionDispatcher in module numpy:\n",
      "\n",
      "round(a, decimals=0, out=None)\n",
      "    Evenly round to the given number of decimals.\n",
      "\n",
      "    Parameters\n",
      "    ----------\n",
      "    a : array_like\n",
      "        Input data.\n",
      "    decimals : int, optional\n",
      "        Number of decimal places to round to (default: 0).  If\n",
      "        decimals is negative, it specifies the number of positions to\n",
      "        the left of the decimal point.\n",
      "    out : ndarray, optional\n",
      "        Alternative output array in which to place the result. It must have\n",
      "        the same shape as the expected output, but the type of the output\n",
      "        values will be cast if necessary. See :ref:`ufuncs-output-type` for more\n",
      "        details.\n",
      "\n",
      "    Returns\n",
      "    -------\n",
      "    rounded_array : ndarray\n",
      "        An array of the same type as `a`, containing the rounded values.\n",
      "        Unless `out` was specified, a new array is created.  A reference to\n",
      "        the result is returned.\n",
      "\n",
      "        The real and imaginary parts of complex numbers are rounded\n",
      "        separately.  The result of rounding a float is a float.\n",
      "\n",
      "    See Also\n",
      "    --------\n",
      "    ndarray.round : equivalent method\n",
      "    around : an alias for this function\n",
      "    ceil, fix, floor, rint, trunc\n",
      "\n",
      "\n",
      "    Notes\n",
      "    -----\n",
      "    For values exactly halfway between rounded decimal values, NumPy\n",
      "    rounds to the nearest even value. Thus 1.5 and 2.5 round to 2.0,\n",
      "    -0.5 and 0.5 round to 0.0, etc.\n",
      "\n",
      "    ``np.round`` uses a fast but sometimes inexact algorithm to round\n",
      "    floating-point datatypes. For positive `decimals` it is equivalent to\n",
      "    ``np.true_divide(np.rint(a * 10**decimals), 10**decimals)``, which has\n",
      "    error due to the inexact representation of decimal fractions in the IEEE\n",
      "    floating point standard [1]_ and errors introduced when scaling by powers\n",
      "    of ten. For instance, note the extra \"1\" in the following:\n",
      "\n",
      "        >>> np.round(56294995342131.5, 3)\n",
      "        56294995342131.51\n",
      "\n",
      "    If your goal is to print such values with a fixed number of decimals, it is\n",
      "    preferable to use numpy's float printing routines to limit the number of\n",
      "    printed decimals:\n",
      "\n",
      "        >>> np.format_float_positional(56294995342131.5, precision=3)\n",
      "        '56294995342131.5'\n",
      "\n",
      "    The float printing routines use an accurate but much more computationally\n",
      "    demanding algorithm to compute the number of digits after the decimal\n",
      "    point.\n",
      "\n",
      "    Alternatively, Python's builtin `round` function uses a more accurate\n",
      "    but slower algorithm for 64-bit floating point values:\n",
      "\n",
      "        >>> round(56294995342131.5, 3)\n",
      "        56294995342131.5\n",
      "        >>> np.round(16.055, 2), round(16.055, 2)  # equals 16.0549999999999997\n",
      "        (16.06, 16.05)\n",
      "\n",
      "\n",
      "    References\n",
      "    ----------\n",
      "    .. [1] \"Lecture Notes on the Status of IEEE 754\", William Kahan,\n",
      "           https://people.eecs.berkeley.edu/~wkahan/ieee754status/IEEE754.PDF\n",
      "\n",
      "    Examples\n",
      "    --------\n",
      "    >>> np.round([0.37, 1.64])\n",
      "    array([0., 2.])\n",
      "    >>> np.round([0.37, 1.64], decimals=1)\n",
      "    array([0.4, 1.6])\n",
      "    >>> np.round([.5, 1.5, 2.5, 3.5, 4.5]) # rounds to nearest even value\n",
      "    array([0., 2., 2., 4., 4.])\n",
      "    >>> np.round([1,2,3,11], decimals=1) # ndarray of ints is returned\n",
      "    array([ 1,  2,  3, 11])\n",
      "    >>> np.round([1,2,3,11], decimals=-1)\n",
      "    array([ 0,  0,  0, 10])\n",
      "\n"
     ]
    }
   ],
   "source": [
    "help(np.round)"
   ]
  },
  {
   "cell_type": "markdown",
   "id": "5813d126-6245-4627-982f-d2d32141032c",
   "metadata": {},
   "source": [
    "### Exercise 25:\n",
    "Find the unique elements of a NumPy array.\n",
    "\n",
    "```python\n",
    "# Exercise 25\n",
    "```\n",
    "\n",
    "---"
   ]
  },
  {
   "cell_type": "code",
   "execution_count": 28,
   "id": "615e92f2-5827-4a9b-ba63-c4d62b2c8156",
   "metadata": {},
   "outputs": [
    {
     "name": "stdout",
     "output_type": "stream",
     "text": [
      "Help on _ArrayFunctionDispatcher in module numpy:\n",
      "\n",
      "unique(ar, return_index=False, return_inverse=False, return_counts=False, axis=None, *, equal_nan=True)\n",
      "    Find the unique elements of an array.\n",
      "\n",
      "    Returns the sorted unique elements of an array. There are three optional\n",
      "    outputs in addition to the unique elements:\n",
      "\n",
      "    * the indices of the input array that give the unique values\n",
      "    * the indices of the unique array that reconstruct the input array\n",
      "    * the number of times each unique value comes up in the input array\n",
      "\n",
      "    Parameters\n",
      "    ----------\n",
      "    ar : array_like\n",
      "        Input array. Unless `axis` is specified, this will be flattened if it\n",
      "        is not already 1-D.\n",
      "    return_index : bool, optional\n",
      "        If True, also return the indices of `ar` (along the specified axis,\n",
      "        if provided, or in the flattened array) that result in the unique array.\n",
      "    return_inverse : bool, optional\n",
      "        If True, also return the indices of the unique array (for the specified\n",
      "        axis, if provided) that can be used to reconstruct `ar`.\n",
      "    return_counts : bool, optional\n",
      "        If True, also return the number of times each unique item appears\n",
      "        in `ar`.\n",
      "    axis : int or None, optional\n",
      "        The axis to operate on. If None, `ar` will be flattened. If an integer,\n",
      "        the subarrays indexed by the given axis will be flattened and treated\n",
      "        as the elements of a 1-D array with the dimension of the given axis,\n",
      "        see the notes for more details.  Object arrays or structured arrays\n",
      "        that contain objects are not supported if the `axis` kwarg is used. The\n",
      "        default is None.\n",
      "\n",
      "        .. versionadded:: 1.13.0\n",
      "\n",
      "    equal_nan : bool, optional\n",
      "        If True, collapses multiple NaN values in the return array into one.\n",
      "\n",
      "        .. versionadded:: 1.24\n",
      "\n",
      "    Returns\n",
      "    -------\n",
      "    unique : ndarray\n",
      "        The sorted unique values.\n",
      "    unique_indices : ndarray, optional\n",
      "        The indices of the first occurrences of the unique values in the\n",
      "        original array. Only provided if `return_index` is True.\n",
      "    unique_inverse : ndarray, optional\n",
      "        The indices to reconstruct the original array from the\n",
      "        unique array. Only provided if `return_inverse` is True.\n",
      "    unique_counts : ndarray, optional\n",
      "        The number of times each of the unique values comes up in the\n",
      "        original array. Only provided if `return_counts` is True.\n",
      "\n",
      "        .. versionadded:: 1.9.0\n",
      "\n",
      "    See Also\n",
      "    --------\n",
      "    numpy.lib.arraysetops : Module with a number of other functions for\n",
      "                            performing set operations on arrays.\n",
      "    repeat : Repeat elements of an array.\n",
      "\n",
      "    Notes\n",
      "    -----\n",
      "    When an axis is specified the subarrays indexed by the axis are sorted.\n",
      "    This is done by making the specified axis the first dimension of the array\n",
      "    (move the axis to the first dimension to keep the order of the other axes)\n",
      "    and then flattening the subarrays in C order. The flattened subarrays are\n",
      "    then viewed as a structured type with each element given a label, with the\n",
      "    effect that we end up with a 1-D array of structured types that can be\n",
      "    treated in the same way as any other 1-D array. The result is that the\n",
      "    flattened subarrays are sorted in lexicographic order starting with the\n",
      "    first element.\n",
      "\n",
      "    .. versionchanged: NumPy 1.21\n",
      "        If nan values are in the input array, a single nan is put\n",
      "        to the end of the sorted unique values.\n",
      "\n",
      "        Also for complex arrays all NaN values are considered equivalent\n",
      "        (no matter whether the NaN is in the real or imaginary part).\n",
      "        As the representant for the returned array the smallest one in the\n",
      "        lexicographical order is chosen - see np.sort for how the lexicographical\n",
      "        order is defined for complex arrays.\n",
      "\n",
      "    Examples\n",
      "    --------\n",
      "    >>> np.unique([1, 1, 2, 2, 3, 3])\n",
      "    array([1, 2, 3])\n",
      "    >>> a = np.array([[1, 1], [2, 3]])\n",
      "    >>> np.unique(a)\n",
      "    array([1, 2, 3])\n",
      "\n",
      "    Return the unique rows of a 2D array\n",
      "\n",
      "    >>> a = np.array([[1, 0, 0], [1, 0, 0], [2, 3, 4]])\n",
      "    >>> np.unique(a, axis=0)\n",
      "    array([[1, 0, 0], [2, 3, 4]])\n",
      "\n",
      "    Return the indices of the original array that give the unique values:\n",
      "\n",
      "    >>> a = np.array(['a', 'b', 'b', 'c', 'a'])\n",
      "    >>> u, indices = np.unique(a, return_index=True)\n",
      "    >>> u\n",
      "    array(['a', 'b', 'c'], dtype='<U1')\n",
      "    >>> indices\n",
      "    array([0, 1, 3])\n",
      "    >>> a[indices]\n",
      "    array(['a', 'b', 'c'], dtype='<U1')\n",
      "\n",
      "    Reconstruct the input array from the unique values and inverse:\n",
      "\n",
      "    >>> a = np.array([1, 2, 6, 4, 2, 3, 2])\n",
      "    >>> u, indices = np.unique(a, return_inverse=True)\n",
      "    >>> u\n",
      "    array([1, 2, 3, 4, 6])\n",
      "    >>> indices\n",
      "    array([0, 1, 4, 3, 1, 2, 1])\n",
      "    >>> u[indices]\n",
      "    array([1, 2, 6, 4, 2, 3, 2])\n",
      "\n",
      "    Reconstruct the input values from the unique values and counts:\n",
      "\n",
      "    >>> a = np.array([1, 2, 6, 4, 2, 3, 2])\n",
      "    >>> values, counts = np.unique(a, return_counts=True)\n",
      "    >>> values\n",
      "    array([1, 2, 3, 4, 6])\n",
      "    >>> counts\n",
      "    array([1, 3, 1, 1, 1])\n",
      "    >>> np.repeat(values, counts)\n",
      "    array([1, 2, 2, 2, 3, 4, 6])    # original order not preserved\n",
      "\n"
     ]
    }
   ],
   "source": [
    "help(np.unique)"
   ]
  },
  {
   "cell_type": "code",
   "execution_count": 30,
   "id": "f53910c3-b07c-46cf-a8d2-21b378ae41bf",
   "metadata": {},
   "outputs": [
    {
     "data": {
      "text/plain": [
       "array([ 1,  2,  3,  4,  5,  6,  7,  8,  9, 10, 11, 12, 13, 14, 15, 16, 17,\n",
       "       18, 19])"
      ]
     },
     "execution_count": 30,
     "metadata": {},
     "output_type": "execute_result"
    }
   ],
   "source": [
    "np.unique(T)"
   ]
  },
  {
   "cell_type": "markdown",
   "id": "75f84d13-a354-49d6-9d8f-da6bfae7e23e",
   "metadata": {},
   "source": [
    "### Exercise 26:\n",
    "Replace all elements in a NumPy array that are less than a specific value with that value.\n",
    "\n",
    "```python\n",
    "# Exercise 26\n",
    "```\n",
    "\n",
    "---"
   ]
  },
  {
   "cell_type": "code",
   "execution_count": 34,
   "id": "38b78cd4-35c2-48c4-806c-86d79328f6aa",
   "metadata": {},
   "outputs": [
    {
     "name": "stdout",
     "output_type": "stream",
     "text": [
      "[[0.5        0.5        0.9916969  0.80508578 0.54161074]\n",
      " [0.5        0.5        0.5        0.67064869 0.5       ]\n",
      " [0.94204191 0.5        0.81879364 0.70905524 0.83393271]\n",
      " [0.98265743 0.5        0.99667324 0.56132977 0.57732095]\n",
      " [0.5        0.73630759 0.5        0.5        0.85104341]]\n"
     ]
    }
   ],
   "source": [
    "n = 0.5\n",
    "print(np.where(t < n, n, t))"
   ]
  },
  {
   "cell_type": "markdown",
   "id": "1e5e203a-eeba-4d2a-9b6e-f69e6c099af2",
   "metadata": {},
   "source": [
    "### Exercise 27:\n",
    "Find the cumulative sum of the elements in a NumPy array.\n",
    "\n",
    "```python\n",
    "# Exercise 27\n",
    "```\n",
    "\n",
    "---"
   ]
  },
  {
   "cell_type": "code",
   "execution_count": 37,
   "id": "e3f5bbb5-11dc-4833-9a3f-67723f822dd3",
   "metadata": {},
   "outputs": [
    {
     "data": {
      "text/plain": [
       "13.730234714103434"
      ]
     },
     "execution_count": 37,
     "metadata": {},
     "output_type": "execute_result"
    }
   ],
   "source": [
    "#t in question 26\n",
    "np.sum(t)"
   ]
  },
  {
   "cell_type": "code",
   "execution_count": null,
   "id": "820b504d-ea4e-4c5d-8376-719822a61825",
   "metadata": {},
   "outputs": [],
   "source": [
    "### Exercise 28:\n",
    "Create a NumPy array and find the number of non-zero elements in it.\n",
    "\n",
    "```python\n",
    "# Exercise 28\n",
    "```\n",
    "\n",
    "---"
   ]
  },
  {
   "cell_type": "code",
   "execution_count": 42,
   "id": "969894bc-79f6-4e4a-9ffc-5ccd60d54c86",
   "metadata": {},
   "outputs": [
    {
     "name": "stdout",
     "output_type": "stream",
     "text": [
      "[[11  4 19  0 12 18 16 14  5 13]\n",
      " [ 0 11 12 11  1 11 18  3  1  6]\n",
      " [15 11 14 18  5  5 14 18  8 10]\n",
      " [16  1  5 11  6  2  0  9  4  7]\n",
      " [10 19  5  0  0  0  5 17 15 11]\n",
      " [ 4  0 11  3 13  3 16  6  8 16]\n",
      " [ 7 14  5 13  1 14  6 17 12 14]\n",
      " [18  5 14  5 17  9  3 14 19  4]\n",
      " [14 10 12 15  6 17  7 15  8 10]\n",
      " [ 1  6  8 10  7  9 11  4  4 13]]\n"
     ]
    },
    {
     "data": {
      "text/plain": [
       "93"
      ]
     },
     "execution_count": 42,
     "metadata": {},
     "output_type": "execute_result"
    }
   ],
   "source": [
    "U = np.random.randint(0, 20, (10,10))\n",
    "\n",
    "print(U)\n",
    "np.count_nonzero(U)"
   ]
  },
  {
   "cell_type": "code",
   "execution_count": 40,
   "id": "3bbc514c-a400-4745-aa30-312372123270",
   "metadata": {},
   "outputs": [
    {
     "name": "stdout",
     "output_type": "stream",
     "text": [
      "Help on _ArrayFunctionDispatcher in module numpy:\n",
      "\n",
      "count_nonzero(a, axis=None, *, keepdims=False)\n",
      "    Counts the number of non-zero values in the array ``a``.\n",
      "\n",
      "    The word \"non-zero\" is in reference to the Python 2.x\n",
      "    built-in method ``__nonzero__()`` (renamed ``__bool__()``\n",
      "    in Python 3.x) of Python objects that tests an object's\n",
      "    \"truthfulness\". For example, any number is considered\n",
      "    truthful if it is nonzero, whereas any string is considered\n",
      "    truthful if it is not the empty string. Thus, this function\n",
      "    (recursively) counts how many elements in ``a`` (and in\n",
      "    sub-arrays thereof) have their ``__nonzero__()`` or ``__bool__()``\n",
      "    method evaluated to ``True``.\n",
      "\n",
      "    Parameters\n",
      "    ----------\n",
      "    a : array_like\n",
      "        The array for which to count non-zeros.\n",
      "    axis : int or tuple, optional\n",
      "        Axis or tuple of axes along which to count non-zeros.\n",
      "        Default is None, meaning that non-zeros will be counted\n",
      "        along a flattened version of ``a``.\n",
      "\n",
      "        .. versionadded:: 1.12.0\n",
      "\n",
      "    keepdims : bool, optional\n",
      "        If this is set to True, the axes that are counted are left\n",
      "        in the result as dimensions with size one. With this option,\n",
      "        the result will broadcast correctly against the input array.\n",
      "\n",
      "        .. versionadded:: 1.19.0\n",
      "\n",
      "    Returns\n",
      "    -------\n",
      "    count : int or array of int\n",
      "        Number of non-zero values in the array along a given axis.\n",
      "        Otherwise, the total number of non-zero values in the array\n",
      "        is returned.\n",
      "\n",
      "    See Also\n",
      "    --------\n",
      "    nonzero : Return the coordinates of all the non-zero values.\n",
      "\n",
      "    Examples\n",
      "    --------\n",
      "    >>> np.count_nonzero(np.eye(4))\n",
      "    4\n",
      "    >>> a = np.array([[0, 1, 7, 0],\n",
      "    ...               [3, 0, 2, 19]])\n",
      "    >>> np.count_nonzero(a)\n",
      "    5\n",
      "    >>> np.count_nonzero(a, axis=0)\n",
      "    array([1, 1, 2, 1])\n",
      "    >>> np.count_nonzero(a, axis=1)\n",
      "    array([2, 3])\n",
      "    >>> np.count_nonzero(a, axis=1, keepdims=True)\n",
      "    array([[2],\n",
      "           [3]])\n",
      "\n"
     ]
    }
   ],
   "source": [
    "help(np.count_nonzero)"
   ]
  },
  {
   "cell_type": "markdown",
   "id": "e0296004-c6ce-46d9-8d0d-5d19e2939f3c",
   "metadata": {},
   "source": [
    "### Exercise 29:\n",
    "Create a NumPy array of random integers and sort it in ascending order.\n",
    "\n",
    "```python\n",
    "# Exercise 29\n",
    "```\n",
    "\n",
    "---"
   ]
  },
  {
   "cell_type": "code",
   "execution_count": 46,
   "id": "db0c12a5-8f85-4aa9-bbd4-e54a1ba339d9",
   "metadata": {},
   "outputs": [
    {
     "name": "stdout",
     "output_type": "stream",
     "text": [
      "[ 7  5 15  5  7 19  5  5 13  3]\n"
     ]
    },
    {
     "data": {
      "text/plain": [
       "array([ 3,  5,  5,  5,  5,  7,  7, 13, 15, 19])"
      ]
     },
     "execution_count": 46,
     "metadata": {},
     "output_type": "execute_result"
    }
   ],
   "source": [
    "u = np.random.randint(1, 20, (10))\n",
    "\n",
    "print(u)\n",
    "np.sort(u)"
   ]
  },
  {
   "cell_type": "markdown",
   "id": "0248aac0-cc71-46d1-b237-029f88455765",
   "metadata": {},
   "source": [
    "### Exercise 30:\n",
    "Find the row-wise and column-wise sum of a 3x3 matrix.\n",
    "\n",
    "```python\n",
    "# Exercise 30\n",
    "```\n",
    "\n",
    "---"
   ]
  },
  {
   "cell_type": "code",
   "execution_count": 56,
   "id": "2861a84d-5f87-4644-89db-55be7d0866f6",
   "metadata": {},
   "outputs": [
    {
     "data": {
      "text/plain": [
       "array([12, 15, 18])"
      ]
     },
     "execution_count": 56,
     "metadata": {},
     "output_type": "execute_result"
    }
   ],
   "source": [
    "matrix = [[1, 2, 3], [4, 5, 6], [7, 8, 9]]\n",
    "matrix = np.array([[1, 2, 3], [4, 5, 6], [7, 8, 9]])\n",
    "matrix\n",
    "np.sum(matrix, axis=0)"
   ]
  },
  {
   "cell_type": "code",
   "execution_count": 58,
   "id": "ab89b44a-ef9f-4a1d-a2d7-3501627e8733",
   "metadata": {},
   "outputs": [
    {
     "data": {
      "text/plain": [
       "array([ 6, 15, 24])"
      ]
     },
     "execution_count": 58,
     "metadata": {},
     "output_type": "execute_result"
    }
   ],
   "source": [
    "np.sum(matrix, axis=1)"
   ]
  },
  {
   "cell_type": "code",
   "execution_count": null,
   "id": "9c9e21e4-22d5-4bb8-9418-c8cf6d7771a3",
   "metadata": {},
   "outputs": [],
   "source": [
    "### Exercise 31:\n",
    "Generate a 2D NumPy array with random values and normalize it (scale the values between 0 and 1).\n",
    "\n",
    "```python\n",
    "# Exercise 31\n",
    "```\n",
    "\n",
    "---"
   ]
  },
  {
   "cell_type": "code",
   "execution_count": null,
   "id": "755ee1e5-438a-4d20-a3bb-17ed120588ed",
   "metadata": {},
   "outputs": [],
   "source": [
    "### Exercise 32:\n",
    "Create two NumPy arrays and find the dot product.\n",
    "\n",
    "```python\n",
    "# Exercise 32\n",
    "```\n",
    "\n",
    "---"
   ]
  },
  {
   "cell_type": "code",
   "execution_count": null,
   "id": "ce9ac4d2-15ce-4887-ad96-8e3886ca2f00",
   "metadata": {},
   "outputs": [],
   "source": [
    "### Exercise 33:\n",
    "Find the trace of a square NumPy matrix.\n",
    "\n",
    "```python\n",
    "# Exercise 33\n",
    "```\n",
    "\n",
    "---"
   ]
  },
  {
   "cell_type": "code",
   "execution_count": null,
   "id": "5c339411-b2ec-44da-a32c-9ebc67f3fb1a",
   "metadata": {},
   "outputs": [],
   "source": [
    "### Exercise 34:\n",
    "Create a 2D array and swap two rows.\n",
    "\n",
    "```python\n",
    "# Exercise 34\n",
    "```"
   ]
  },
  {
   "cell_type": "code",
   "execution_count": null,
   "id": "e3b9d4d8-1ff5-4386-a5c2-003c3ea23faf",
   "metadata": {},
   "outputs": [],
   "source": [
    "---\n",
    "\n",
    "### Exercise 35:\n",
    "Create a 1D NumPy array and convert it into a column vector.\n",
    "\n",
    "```python\n",
    "# Exercise 35\n",
    "```\n",
    "\n",
    "---"
   ]
  },
  {
   "cell_type": "code",
   "execution_count": null,
   "id": "4749f0cc-f8f9-44de-9378-39b836366bb1",
   "metadata": {},
   "outputs": [],
   "source": [
    "### Exercise 36:\n",
    "Find the determinant of a 3x3 matrix.\n",
    "\n",
    "```python\n",
    "# Exercise 36\n",
    "```"
   ]
  },
  {
   "cell_type": "code",
   "execution_count": null,
   "id": "cce12059-c8e3-4621-8e8a-e887afb1224c",
   "metadata": {},
   "outputs": [],
   "source": [
    "---\n",
    "\n",
    "### Exercise 37:\n",
    "Find the eigenvalues and eigenvectors of a 2x2 matrix.\n",
    "\n",
    "```python\n",
    "# Exercise 37\n",
    "```"
   ]
  },
  {
   "cell_type": "code",
   "execution_count": null,
   "id": "4a805d94-d872-4812-98ec-623c454ed8f5",
   "metadata": {},
   "outputs": [],
   "source": [
    "---\n",
    "\n",
    "### Exercise 38:\n",
    "Solve a system of linear equations using NumPy.\n",
    "\n",
    "```python\n",
    "# Exercise 38\n",
    "```"
   ]
  },
  {
   "cell_type": "code",
   "execution_count": null,
   "id": "a0cf661a-86ea-45af-b988-abf37d3736c3",
   "metadata": {},
   "outputs": [],
   "source": [
    "---\n",
    "\n",
    "### Exercise 39:\n",
    "Add Gaussian noise to a NumPy array.\n",
    "\n",
    "```python\n",
    "# Exercise 39\n",
    "```"
   ]
  },
  {
   "cell_type": "code",
   "execution_count": null,
   "id": "8fde2021-7cdb-47c7-89a3-e4939a49c9ad",
   "metadata": {},
   "outputs": [],
   "source": [
    "---\n",
    "\n",
    "### Exercise 40:\n",
    "Create a 4x4 matrix and extract the diagonal elements.\n",
    "\n",
    "```python\n",
    "# Exercise 40\n",
    "```"
   ]
  },
  {
   "cell_type": "code",
   "execution_count": null,
   "id": "fb3e6c66-93d0-46b6-81f7-3885ca6a6586",
   "metadata": {},
   "outputs": [],
   "source": [
    "---\n",
    "\n",
    "### Exercise 41:\n",
    "Generate a NumPy array of 100 random values and clip the values to a range between 10 and 50.\n",
    "\n",
    "```python\n",
    "# Exercise 41\n",
    "```\n",
    "\n",
    "---\n",
    "\n",
    "### Exercise 42:\n",
    "Create a 2D NumPy array and replace all negative values with zero.\n",
    "\n",
    "```python\n",
    "# Exercise 42\n",
    "```\n",
    "\n",
    "---\n",
    "\n",
    "### Exercise 43:\n",
    "Find the inner and outer products of two NumPy arrays.\n",
    "\n",
    "```python\n",
    "# Exercise 43\n",
    "```\n",
    "\n",
    "---\n",
    "\n",
    "### Exercise 44:\n",
    "Calculate the pairwise distances between points in a NumPy array.\n",
    "\n",
    "```python\n",
    "# Exercise 44\n",
    "```\n",
    "\n",
    "---\n",
    "\n",
    "### Exercise 45:\n",
    "Create a structured NumPy array with fields for `name`, `age`, and `height`.\n",
    "\n",
    "```python\n",
    "# Exercise 45\n",
    "```\n",
    "\n",
    "---\n",
    "\n",
    "### Exercise 46:\n",
    "Create a 5x5 matrix of random integers and count the occurrences of each unique value.\n",
    "\n",
    "```python\n",
    "# Exercise 46\n",
    "```\n",
    "\n",
    "---\n",
    "\n",
    "### Exercise 47:\n",
    "Generate a random 3x3 NumPy array and subtract the mean of each row from the corresponding row.\n",
    "\n",
    "```python\n",
    "# Exercise 47\n",
    "```\n",
    "\n",
    "---\n",
    "\n",
    "### Exercise 48:\n",
    "Create a NumPy array of random integers and check if any of the values are greater than 50.\n",
    "\n",
    "```python\n",
    "# Exercise 48\n",
    "```\n",
    "\n",
    "---\n",
    "\n",
    "### Exercise 49:\n",
    "Calculate the moving average of a 1D NumPy array.\n",
    "\n",
    "```python\n",
    "# Exercise 49\n",
    "```\n",
    "\n",
    "---\n",
    "\n",
    "### Exercise 50:\n",
    "Find the Pearson correlation coefficient between two NumPy arrays.\n",
    "\n",
    "```python\n",
    "# Exercise 50\n",
    "```\n",
    "\n",
    "---\n",
    "\n",
    "### Exercise 51:\n",
    "Convert a NumPy array of radians to degrees.\n",
    "\n",
    "```python\n",
    "# Exercise 51\n",
    "```\n",
    "\n",
    "---\n",
    "\n",
    "### Exercise 52:\n",
    "Create a random NumPy array and compute its variance and standard deviation.\n",
    "\n",
    "```python\n",
    "# Exercise 52\n",
    "```\n",
    "\n",
    "---\n",
    "\n",
    "### Exercise 53:\n",
    "Create a 2D NumPy array and find the indices of the maximum values along each axis.\n",
    "\n",
    "```python\n",
    "# Exercise 53\n",
    "```\n",
    "\n",
    "---\n",
    "\n",
    "### Exercise 54:\n",
    "Compute the inverse of a 2x2 NumPy matrix.\n",
    "\n",
    "```python\n",
    "# Exercise 54\n",
    "```\n",
    "\n",
    "---\n",
    "\n",
    "### Exercise 55:\n",
    "Create a NumPy array of 10 random values and standardize it (mean 0, variance 1).\n",
    "\n",
    "```python\n",
    "# Exercise 55\n",
    "```\n",
    "\n",
    "---\n",
    "\n",
    "### Exercise 56:\n",
    "Perform element-wise addition and subtraction on two NumPy arrays.\n",
    "\n",
    "```python\n",
    "# Exercise 56\n",
    "```\n",
    "\n",
    "---\n",
    "\n",
    "### Exercise 57:\n",
    "Create a NumPy array of random values and find the maximum element's index.\n",
    "\n",
    "```python\n",
    "# Exercise 57\n",
    "```"
   ]
  },
  {
   "cell_type": "code",
   "execution_count": null,
   "id": "83633bcf-292c-47c4-b14a-09edf8fd384b",
   "metadata": {},
   "outputs": [],
   "source": [
    "---\n",
    "\n",
    "### Exercise 58:\n",
    "Create a 3x3 NumPy array and rotate it by 90 degrees.\n",
    "\n",
    "```python\n",
    "# Exercise 58\n",
    "```"
   ]
  },
  {
   "cell_type": "code",
   "execution_count": null,
   "id": "2a543095-20ff-4900-9c1e-ff73d4c1b350",
   "metadata": {},
   "outputs": [],
   "source": []
  },
  {
   "cell_type": "code",
   "execution_count": null,
   "id": "9208f6b0-23c1-43b6-9cd5-7b184b40d518",
   "metadata": {},
   "outputs": [],
   "source": [
    "---\n",
    "\n",
    "### Exercise 59:\n",
    "Compute the Frobenius norm of a matrix.\n",
    "\n",
    "```python\n",
    "# Exercise 59\n",
    "```"
   ]
  },
  {
   "cell_type": "code",
   "execution_count": null,
   "id": "62237fa1-2d04-43e6-95ad-953f7ca45e52",
   "metadata": {},
   "outputs": [],
   "source": [
    "---\n",
    "\n",
    "### Exercise 60:\n",
    "Create a 3D NumPy array and slice out a subarray.\n",
    "\n",
    "```python\n",
    "# Exercise 60\n",
    "```\n",
    "\n",
    "---"
   ]
  },
  {
   "cell_type": "code",
   "execution_count": null,
   "id": "631f1905-9fb7-42b0-8710-8648a65cf144",
   "metadata": {},
   "outputs": [],
   "source": []
  }
 ],
 "metadata": {
  "kernelspec": {
   "display_name": "Python 3 (ipykernel)",
   "language": "python",
   "name": "python3"
  },
  "language_info": {
   "codemirror_mode": {
    "name": "ipython",
    "version": 3
   },
   "file_extension": ".py",
   "mimetype": "text/x-python",
   "name": "python",
   "nbconvert_exporter": "python",
   "pygments_lexer": "ipython3",
   "version": "3.12.4"
  }
 },
 "nbformat": 4,
 "nbformat_minor": 5
}
